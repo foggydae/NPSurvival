{
 "cells": [
  {
   "cell_type": "markdown",
   "metadata": {},
   "source": [
    "## Read Result\n"
   ]
  },
  {
   "cell_type": "code",
   "execution_count": 1,
   "metadata": {},
   "outputs": [],
   "source": [
    "import pickle\n",
    "import operator    \n",
    "import re\n",
    "import numpy as np\n",
    "import matplotlib.pyplot as plt\n"
   ]
  },
  {
   "cell_type": "code",
   "execution_count": 137,
   "metadata": {},
   "outputs": [],
   "source": [
    "MODEL = \"KNN\"\n",
    "PCA = False\n",
    "\n",
    "REDUCED = '_P' if PCA else ''\n",
    "\n",
    "TAIL = '_1105'\n"
   ]
  },
  {
   "cell_type": "markdown",
   "metadata": {},
   "source": [
    "### Pancreatitis\n"
   ]
  },
  {
   "cell_type": "code",
   "execution_count": 138,
   "metadata": {},
   "outputs": [
    {
     "name": "stdout",
     "output_type": "stream",
     "text": [
      "[3, 5, 10, 20, 30, 40, 50, 60, 70, 80, 90, 100, 120, 140, 160, 180, 200]\n",
      "Pancreatitis:\n",
      "concordance:\n",
      "[0.5351933621933622, 0.5491517556517556, 0.5447753727753727, 0.5469093314093314, 0.5284427609427609, 0.5351075036075036, 0.540106782106782, 0.5388078403078402, 0.5313162578162579, 0.5227231842231842, 0.5193573833573834, 0.5069261664261664, 0.5041500721500721, 0.5112941317941319, 0.5165949975949976, 0.49723544973544975, 0.4947044252044252]\n",
      "best on concordance:\n",
      "coefficient: 5 | concordance: 0.5491517556517556\n",
      "IPEC:\n",
      "[0.21679307869188807, 0.20151798198096366, 0.19315274474708474, 0.18695233337438716, 0.18767792263738423, 0.1871331164054104, 0.18653606880060383, 0.18591803016337122, 0.18613321684739667, 0.18613257995357185, 0.18643485355182204, 0.1870058050632848, 0.18595816650990696, 0.18546788032264006, 0.18514419783752967, 0.18527707604727148, 0.1853126354760301]\n",
      "best on IPEC:\n",
      "coefficient: 160 | IPEC: 0.18514419783752967\n"
     ]
    }
   ],
   "source": [
    "with open(MODEL + '_results/' + MODEL + REDUCED + '_0' + TAIL + '.pickle', 'rb') as f:\n",
    "    result = pickle.load(f)\n",
    "    value = result[0]\n",
    "\n",
    "PAN_concordance = list(result[1][\"pancreatitis\"])\n",
    "PAN_IPEC = list(result[2][\"pancreatitis\"])\n",
    "\n",
    "print(value)\n",
    "print(\"Pancreatitis\" + REDUCED + \":\")\n",
    "print(\"concordance:\")\n",
    "print(PAN_concordance)\n",
    "print(\"best on concordance:\")\n",
    "print(\"coefficient:\", value[np.argmax(PAN_concordance)], \"| concordance:\", np.max(PAN_concordance))\n",
    "print(\"IPEC:\")\n",
    "print(PAN_IPEC)\n",
    "print(\"best on IPEC:\")\n",
    "print(\"coefficient:\", value[np.argmin(PAN_IPEC)], \"| IPEC:\", np.min(PAN_IPEC))\n"
   ]
  },
  {
   "cell_type": "code",
   "execution_count": 139,
   "metadata": {},
   "outputs": [
    {
     "data": {
      "text/plain": [
       "<matplotlib.collections.PathCollection at 0x111dd06d8>"
      ]
     },
     "execution_count": 139,
     "metadata": {},
     "output_type": "execute_result"
    },
    {
     "data": {
      "image/png": "[encoded data removed]",
      "text/plain": [
       "<matplotlib.figure.Figure at 0x111d33f98>"
      ]
     },
     "metadata": {},
     "output_type": "display_data"
    }
   ],
   "source": [
    "plt.scatter(PAN_IPEC, PAN_concordance)\n",
    "# plt.savefig(MODEL + '_results/' + MODEL + REDUCED + '_0.png')\n"
   ]
  },
  {
   "cell_type": "code",
   "execution_count": 140,
   "metadata": {},
   "outputs": [
    {
     "data": {
      "text/plain": [
       "<matplotlib.collections.PathCollection at 0x111e82a58>"
      ]
     },
     "execution_count": 140,
     "metadata": {},
     "output_type": "execute_result"
    },
    {
     "data": {
      "image/png": "[encoded data removed]",
      "text/plain": [
       "<matplotlib.figure.Figure at 0x111da96a0>"
      ]
     },
     "metadata": {},
     "output_type": "display_data"
    }
   ],
   "source": [
    "plt.scatter(value, PAN_concordance)\n"
   ]
  },
  {
   "cell_type": "code",
   "execution_count": 141,
   "metadata": {},
   "outputs": [
    {
     "data": {
      "text/plain": [
       "<matplotlib.collections.PathCollection at 0x111f3cef0>"
      ]
     },
     "execution_count": 141,
     "metadata": {},
     "output_type": "execute_result"
    },
    {
     "data": {
      "image/png": "[encoded data removed]",
      "text/plain": [
       "<matplotlib.figure.Figure at 0x111e00978>"
      ]
     },
     "metadata": {},
     "output_type": "display_data"
    }
   ],
   "source": [
    "plt.scatter(value, PAN_IPEC)\n"
   ]
  },
  {
   "cell_type": "markdown",
   "metadata": {},
   "source": [
    "### ICH"
   ]
  },
  {
   "cell_type": "code",
   "execution_count": 142,
   "metadata": {},
   "outputs": [
    {
     "name": "stdout",
     "output_type": "stream",
     "text": [
      "[3, 5, 10, 20, 30, 40, 50, 60, 70, 80, 90, 100, 120, 140, 160, 180, 200]\n",
      "Ich:\n",
      "concordance:\n",
      "[0.5661373300801673, 0.5639979086789821, 0.5628778900894621, 0.5729476007900546, 0.5798452422446846, 0.5740228883466946, 0.5726943185779018, 0.5735966074125712, 0.569438945044731, 0.5743002207505519, 0.5696409898919483, 0.5701839200650634, 0.5744456837457883, 0.5728913674915767, 0.5739273846868829, 0.5778759149529453, 0.5796399442314396]\n",
      "best on concordance:\n",
      "coefficient: 30 | concordance: 0.5798452422446846\n",
      "IPEC:\n",
      "[0.22326534024091318, 0.21012563932802783, 0.1975537595966247, 0.1882484023099082, 0.18504233980325369, 0.1842382086203513, 0.18398155943948832, 0.18363341176734854, 0.18348037634470687, 0.18323362346380923, 0.1835499234986861, 0.1831299006833202, 0.18328606219579882, 0.18288159004528107, 0.1827804034899039, 0.1830732761899607, 0.18316637681586326]\n",
      "best on IPEC:\n",
      "coefficient: 160 | IPEC: 0.1827804034899039\n"
     ]
    }
   ],
   "source": [
    "with open(MODEL + '_results/' + MODEL + REDUCED + '_1' + TAIL + '.pickle', 'rb') as f:\n",
    "    result = pickle.load(f)\n",
    "    value = result[0]\n",
    "\n",
    "ICH_concordance = list(result[1][\"ich\"])\n",
    "ICH_IPEC = list(result[2][\"ich\"])\n",
    "\n",
    "print(value)\n",
    "print(\"Ich\" + REDUCED + \":\")\n",
    "print(\"concordance:\")\n",
    "print(ICH_concordance)\n",
    "print(\"best on concordance:\")\n",
    "print(\"coefficient:\", value[np.argmax(ICH_concordance)], \"| concordance:\", np.max(ICH_concordance))\n",
    "print(\"IPEC:\")\n",
    "print(ICH_IPEC)\n",
    "print(\"best on IPEC:\")\n",
    "print(\"coefficient:\", value[np.argmin(ICH_IPEC)], \"| IPEC:\", np.min(ICH_IPEC))\n"
   ]
  },
  {
   "cell_type": "code",
   "execution_count": 143,
   "metadata": {},
   "outputs": [
    {
     "data": {
      "text/plain": [
       "<matplotlib.collections.PathCollection at 0x112001e80>"
      ]
     },
     "execution_count": 143,
     "metadata": {},
     "output_type": "execute_result"
    },
    {
     "data": {
      "image/png": "[encoded data removed]",
      "text/plain": [
       "<matplotlib.figure.Figure at 0x111f825c0>"
      ]
     },
     "metadata": {},
     "output_type": "display_data"
    }
   ],
   "source": [
    "plt.scatter(ICH_IPEC, ICH_concordance)\n",
    "# plt.savefig(MODEL + '_results/' + MODEL + REDUCED + '_1.png')\n"
   ]
  },
  {
   "cell_type": "code",
   "execution_count": 144,
   "metadata": {},
   "outputs": [
    {
     "data": {
      "text/plain": [
       "<matplotlib.collections.PathCollection at 0x1120c2438>"
      ]
     },
     "execution_count": 144,
     "metadata": {},
     "output_type": "execute_result"
    },
    {
     "data": {
      "image/png": "[encoded data removed]",
      "text/plain": [
       "<matplotlib.figure.Figure at 0x111f94048>"
      ]
     },
     "metadata": {},
     "output_type": "display_data"
    }
   ],
   "source": [
    "plt.scatter(value, ICH_concordance)\n"
   ]
  },
  {
   "cell_type": "code",
   "execution_count": 145,
   "metadata": {},
   "outputs": [
    {
     "data": {
      "text/plain": [
       "<matplotlib.collections.PathCollection at 0x112180908>"
      ]
     },
     "execution_count": 145,
     "metadata": {},
     "output_type": "execute_result"
    },
    {
     "data": {
      "image/png": "[encoded data removed]",
      "text/plain": [
       "<matplotlib.figure.Figure at 0x11209f860>"
      ]
     },
     "metadata": {},
     "output_type": "display_data"
    }
   ],
   "source": [
    "plt.scatter(value, ICH_IPEC)\n"
   ]
  },
  {
   "cell_type": "markdown",
   "metadata": {},
   "source": [
    "### Sepsis\n"
   ]
  },
  {
   "cell_type": "code",
   "execution_count": 146,
   "metadata": {},
   "outputs": [
    {
     "name": "stdout",
     "output_type": "stream",
     "text": [
      "[3, 5, 10, 20, 30, 40, 50, 60, 70, 80, 90, 100, 120, 140, 160, 180, 200]\n",
      "Sepsis:\n",
      "concordance:\n",
      "[0.5421887220877557, 0.5467849845516104, 0.5556321602296361, 0.5635971574376404, 0.5667868383134806, 0.5681848303406645, 0.571169874995879, 0.5734190204207059, 0.574374026496032, 0.5748546114214104, 0.5752073634364124, 0.5753912131842766, 0.5754770484841434, 0.5756959343620244, 0.5759031895832624, 0.5755812999332186, 0.5753123998671835]\n",
      "best on concordance:\n",
      "coefficient: 160 | concordance: 0.5759031895832624\n",
      "IPEC:\n",
      "[0.22781833343909721, 0.21113550193027159, 0.19767862245471152, 0.18952913063240215, 0.1863809655674069, 0.18507739302921125, 0.18410081892824526, 0.18370605133174686, 0.18356561611957056, 0.1834996929248687, 0.18331567937003956, 0.183442837448897, 0.18359889698388446, 0.18359572793005616, 0.18356461779056052, 0.18358939833376592, 0.1836253095597395]\n",
      "best on IPEC:\n",
      "coefficient: 90 | IPEC: 0.18331567937003956\n"
     ]
    }
   ],
   "source": [
    "with open(MODEL + '_results/' + MODEL + REDUCED + '_2' + TAIL + '.pickle', 'rb') as f:\n",
    "    result = pickle.load(f)\n",
    "    value = result[0]\n",
    "SEP_concordance = list(result[1][\"sepsis\"])\n",
    "SEP_IPEC = list(result[2][\"sepsis\"])\n",
    "print(value)\n",
    "print(\"Sepsis\" + REDUCED + \":\")\n",
    "print(\"concordance:\")\n",
    "print(SEP_concordance)\n",
    "print(\"best on concordance:\")\n",
    "print(\"coefficient:\", value[np.argmax(SEP_concordance)], \"| concordance:\", np.max(SEP_concordance))\n",
    "print(\"IPEC:\")\n",
    "print(SEP_IPEC)\n",
    "print(\"best on IPEC:\")\n",
    "print(\"coefficient:\", value[np.argmin(SEP_IPEC)], \"| IPEC:\", np.min(SEP_IPEC))\n"
   ]
  },
  {
   "cell_type": "code",
   "execution_count": 147,
   "metadata": {},
   "outputs": [
    {
     "data": {
      "text/plain": [
       "<matplotlib.collections.PathCollection at 0x1121e9d30>"
      ]
     },
     "execution_count": 147,
     "metadata": {},
     "output_type": "execute_result"
    },
    {
     "data": {
      "image/png": "[encoded data removed]",
      "text/plain": [
       "<matplotlib.figure.Figure at 0x1121c0400>"
      ]
     },
     "metadata": {},
     "output_type": "display_data"
    }
   ],
   "source": [
    "plt.scatter(SEP_IPEC, SEP_concordance)\n",
    "# plt.savefig(MODEL + '_results/' + MODEL + REDUCED + '_2.png')\n"
   ]
  },
  {
   "cell_type": "code",
   "execution_count": 148,
   "metadata": {},
   "outputs": [
    {
     "data": {
      "text/plain": [
       "<matplotlib.collections.PathCollection at 0x112307c18>"
      ]
     },
     "execution_count": 148,
     "metadata": {},
     "output_type": "execute_result"
    },
    {
     "data": {
      "image/png": "[encoded data removed]",
      "text/plain": [
       "<matplotlib.figure.Figure at 0x1121c5978>"
      ]
     },
     "metadata": {},
     "output_type": "display_data"
    }
   ],
   "source": [
    "plt.scatter(value, SEP_concordance)\n"
   ]
  },
  {
   "cell_type": "code",
   "execution_count": 149,
   "metadata": {},
   "outputs": [
    {
     "data": {
      "text/plain": [
       "<matplotlib.collections.PathCollection at 0x112370c18>"
      ]
     },
     "execution_count": 149,
     "metadata": {},
     "output_type": "execute_result"
    },
    {
     "data": {
      "image/png": "[encoded data removed]",
      "text/plain": [
       "<matplotlib.figure.Figure at 0x112191c50>"
      ]
     },
     "metadata": {},
     "output_type": "display_data"
    }
   ],
   "source": [
    "plt.scatter(value, SEP_IPEC)\n"
   ]
  },
  {
   "cell_type": "markdown",
   "metadata": {},
   "source": [
    "###  RSF"
   ]
  },
  {
   "cell_type": "markdown",
   "metadata": {},
   "source": [
    "#### reduced\n"
   ]
  },
  {
   "cell_type": "code",
   "execution_count": 131,
   "metadata": {},
   "outputs": [],
   "source": [
    "n_components = 25\n",
    "RSF_reduced_n_trees = [50]\n",
    "\n",
    "with open('RSF_results/RSF_P_01.pickle', 'rb') as f:\n",
    "    result = pickle.load(f)\n",
    "    RSF_reduced_max_features = result[0]\n",
    "    RSF_reduced_max_depths = result[1]\n",
    "    RSF_reduced_result = result[2:]\n"
   ]
  },
  {
   "cell_type": "code",
   "execution_count": 135,
   "metadata": {},
   "outputs": [
    {
     "name": "stdout",
     "output_type": "stream",
     "text": [
      "RSF reduced - PAN:\n",
      "best on concordance:\n",
      "n_tree, max_feature, max_depth: (50, 20, 3) | concordance: 0.5730704665704667\n",
      "best on IPEC:\n",
      "n_tree, max_feature, max_depth: (50, 20, 3) | IPEC: 1.9541753518974598\n",
      "\n",
      "RSF reduced - ICH:\n",
      "best on concordance:\n",
      "n_tree, max_feature, max_depth: (50, 40, 6) | concordance: 0.5952223771348901\n",
      "best on IPEC:\n",
      "n_tree, max_feature, max_depth: (50, 80, 6) | IPEC: 1.7582790761672764\n"
     ]
    }
   ],
   "source": [
    "RSF_reduced_dict = {}\n",
    "for n_tree in RSF_reduced_n_trees:\n",
    "    for row, max_feature in enumerate(RSF_reduced_max_features):\n",
    "        for col, max_depth in enumerate(RSF_reduced_max_depths):\n",
    "            RSF_reduced_dict[(n_tree, max_feature, max_depth)] = {\n",
    "                \"conc_PAN\": RSF_reduced_result[0][\"pancreatitis\"][row][col],\n",
    "                \"conc_ICH\": RSF_reduced_result[0][\"ich\"][row][col],\n",
    "                \"ipec_PAN\": RSF_reduced_result[1][\"pancreatitis\"][row][col],\n",
    "                \"ipec_ICH\": RSF_reduced_result[1][\"ich\"][row][col]                \n",
    "            }\n",
    "                \n",
    "RSF_reduced_PAN_concordance_best = max(RSF_reduced_dict.items(), key=lambda x:x[1][\"conc_PAN\"])\n",
    "RSF_reduced_ICH_concordance_best = max(RSF_reduced_dict.items(), key=lambda x:x[1][\"conc_ICH\"])\n",
    "RSF_reduced_PAN_IPEC_best = min(RSF_reduced_dict.items(), key=lambda x:x[1][\"ipec_PAN\"])\n",
    "RSF_reduced_ICH_IPEC_best = min(RSF_reduced_dict.items(), key=lambda x:x[1][\"ipec_ICH\"])\n",
    "\n",
    "print(\"RSF reduced - PAN:\")\n",
    "print(\"best on concordance:\")\n",
    "print(\"n_tree, max_feature, max_depth:\", RSF_reduced_PAN_concordance_best[0], \"| concordance:\", RSF_reduced_PAN_concordance_best[1][\"conc_PAN\"])\n",
    "print(\"best on IPEC:\")\n",
    "print(\"n_tree, max_feature, max_depth:\", RSF_reduced_PAN_IPEC_best[0], \"| IPEC:\", RSF_reduced_PAN_IPEC_best[1][\"ipec_PAN\"])\n",
    "print()\n",
    "print(\"RSF reduced - ICH:\")\n",
    "print(\"best on concordance:\")\n",
    "print(\"n_tree, max_feature, max_depth:\", RSF_reduced_ICH_concordance_best[0], \"| concordance:\", RSF_reduced_ICH_concordance_best[1][\"conc_ICH\"])\n",
    "print(\"best on IPEC:\")\n",
    "print(\"n_tree, max_feature, max_depth:\", RSF_reduced_ICH_IPEC_best[0], \"| IPEC:\", RSF_reduced_ICH_IPEC_best[1][\"ipec_ICH\"])\n"
   ]
  },
  {
   "cell_type": "markdown",
   "metadata": {},
   "source": [
    "#### without reduction\n"
   ]
  },
  {
   "cell_type": "code",
   "execution_count": 95,
   "metadata": {},
   "outputs": [],
   "source": [
    "RSF_n_trees = [20, 50]\n",
    "RSF_max_features = [10, 20, 40, 60, 80, 200]\n",
    "RSF_max_depths = [5, 10, 15]\n",
    "RSF_dict = {}\n",
    "\n",
    "with open('RSF_results/RSF.out', 'r') as f:\n",
    "    dataset = 'PAN'\n",
    "    n_tree = 20\n",
    "    max_feature = 10\n",
    "    max_depth = 5\n",
    "    for line in f:\n",
    "        if re.match(r'For the ich dataset:', line):\n",
    "            dataset = 'ICH'\n",
    "            continue\n",
    "        if re.match(r'\\[LOG\\] n_tree', line):\n",
    "            tokens = line.split(\" = \")\n",
    "            n_tree = int(tokens[1].split(\",\")[0])\n",
    "            max_feature = int(tokens[2].split(\",\")[0])\n",
    "            max_depth = int(tokens[3].split(\"\\n\")[0])\n",
    "            if (n_tree, max_feature, max_depth) not in RSF_dict:\n",
    "                RSF_dict[(n_tree, max_feature, max_depth)] = {}\n",
    "        if re.match(r'\\[LOG\\] avg\\. concordance', line):\n",
    "            concordance = float(line.split(\": \")[1])\n",
    "            RSF_dict[(n_tree, max_feature, max_depth)][\"conc_\" + dataset] = concordance\n",
    "        if re.match(r'\\[LOG\\] avg\\. ipec', line):\n",
    "            ipec_score = float(line.split(\": \")[1])\n",
    "            RSF_dict[(n_tree, max_feature, max_depth)][\"ipec_\" + dataset] = ipec_score\n",
    " "
   ]
  },
  {
   "cell_type": "code",
   "execution_count": 96,
   "metadata": {},
   "outputs": [
    {
     "name": "stdout",
     "output_type": "stream",
     "text": [
      "RSF reduced - PAN:\n",
      "best on concordance:\n",
      "n_tree, max_feature, max_depth: (50, 20, 10) | concordance: 0.559587542087542\n",
      "best on IPEC:\n",
      "n_tree, max_feature, max_depth: (50, 40, 5) | IPEC: 0.18194392586255279\n",
      "\n",
      "RSF reduced - ICH:\n",
      "best on concordance:\n",
      "n_tree, max_feature, max_depth: (20, 10, 5) | concordance: 0.586682119205298\n",
      "best on IPEC:\n",
      "n_tree, max_feature, max_depth: (20, 80, 5) | IPEC: 0.18125757444497248\n"
     ]
    }
   ],
   "source": [
    "RSF_PAN_concordance_best = max(RSF_dict.items(), key=lambda x:x[1][\"conc_PAN\"])\n",
    "RSF_ICH_concordance_best = max(RSF_dict.items(), key=lambda x:x[1][\"conc_ICH\"])\n",
    "RSF_PAN_IPEC_best = min(RSF_dict.items(), key=lambda x:x[1][\"ipec_PAN\"])\n",
    "RSF_ICH_IPEC_best = min(RSF_dict.items(), key=lambda x:x[1][\"ipec_ICH\"])\n",
    "\n",
    "print(\"RSF reduced - PAN:\")\n",
    "print(\"best on concordance:\")\n",
    "print(\"n_tree, max_feature, max_depth:\", RSF_PAN_concordance_best[0], \"| concordance:\", RSF_PAN_concordance_best[1][\"conc_PAN\"])\n",
    "print(\"best on IPEC:\")\n",
    "print(\"n_tree, max_feature, max_depth:\", RSF_PAN_IPEC_best[0], \"| IPEC:\", RSF_PAN_IPEC_best[1][\"ipec_PAN\"])\n",
    "print()\n",
    "print(\"RSF reduced - ICH:\")\n",
    "print(\"best on concordance:\")\n",
    "print(\"n_tree, max_feature, max_depth:\", RSF_ICH_concordance_best[0], \"| concordance:\", RSF_ICH_concordance_best[1][\"conc_ICH\"])\n",
    "print(\"best on IPEC:\")\n",
    "print(\"n_tree, max_feature, max_depth:\", RSF_ICH_IPEC_best[0], \"| IPEC:\", RSF_ICH_IPEC_best[1][\"ipec_ICH\"])\n"
   ]
  },
  {
   "cell_type": "code",
   "execution_count": null,
   "metadata": {},
   "outputs": [],
   "source": []
  }
 ],
 "metadata": {
  "kernelspec": {
   "display_name": "Python 3",
   "language": "python",
   "name": "python3"
  },
  "language_info": {
   "codemirror_mode": {
    "name": "ipython",
    "version": 3
   },
   "file_extension": ".py",
   "mimetype": "text/x-python",
   "name": "python",
   "nbconvert_exporter": "python",
   "pygments_lexer": "ipython3",
   "version": "3.6.5"
  }
 },
 "nbformat": 4,
 "nbformat_minor": 2
}
