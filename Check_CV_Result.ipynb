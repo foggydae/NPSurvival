{
 "cells": [
  {
   "cell_type": "markdown",
   "metadata": {},
   "source": [
    "## Read Result\n"
   ]
  },
  {
   "cell_type": "code",
   "execution_count": 1,
   "metadata": {},
   "outputs": [],
   "source": [
    "import pickle\n",
    "import operator    \n",
    "import re\n",
    "import numpy as np\n"
   ]
  },
  {
   "cell_type": "code",
   "execution_count": 15,
   "metadata": {},
   "outputs": [
    {
     "name": "stdout",
     "output_type": "stream",
     "text": [
      "[5, 10, 15, 20, 30]\n",
      "[50, 80, 100, 150, 200]\n",
      "[0.05, 0.08, 0.1, 0.12, 0.15, 0.2, 0.3]\n",
      "[0.3, 0.35, 0.4, 0.45, 0.5, 0.6]\n"
     ]
    }
   ],
   "source": [
    "with open('KNN.pickle', 'rb') as f:\n",
    "    knn_small_result = pickle.load(f)\n",
    "knn_small_value = [5, 10, 15, 20, 30]\n",
    "print(knn_small_value)\n",
    "\n",
    "with open('KNN_large.pickle', 'rb') as f:\n",
    "    knn_large_result = pickle.load(f)\n",
    "knn_large_value = [50, 80, 100, 150, 200]\n",
    "print(knn_large_value)\n",
    "\n",
    "with open('AAM.pickle', 'rb') as f:\n",
    "    aam_small_result = pickle.load(f)\n",
    "aam_small_value = [0.05, 0.08, 0.1, 0.12, 0.15, 0.2, 0.3]\n",
    "print(aam_small_value)\n",
    "\n",
    "with open('AAM_large.pickle', 'rb') as f:\n",
    "    aam_large_result = pickle.load(f)\n",
    "aam_large_value = [0.3, 0.35, 0.4, 0.45, 0.5, 0.6]\n",
    "print(aam_large_value)\n"
   ]
  },
  {
   "cell_type": "markdown",
   "metadata": {},
   "source": [
    "### KNN"
   ]
  },
  {
   "cell_type": "code",
   "execution_count": 38,
   "metadata": {},
   "outputs": [
    {
     "name": "stdout",
     "output_type": "stream",
     "text": [
      "KNN - ICH:\n",
      "concordance:\n",
      "[0.57290856 0.57612606 0.57530417 0.56948135 0.58170652 0.58092564\n",
      " 0.58510561 0.58111874 0.58225224 0.58229836]\n",
      "best on concordance:\n",
      "num_neighbors: 80 | concordance: 0.5851056117113977\n",
      "IPEC:\n",
      "[0.20196752 0.1929608  0.1882102  0.18653157 0.1823965  0.18069443\n",
      " 0.18058193 0.18090214 0.18094019 0.18195513]\n",
      "best on IPEC:\n",
      "num_neighbors: 80 | IPEC: 0.18058193441643783\n",
      "\n",
      "KNN - PAN:\n",
      "concordance:\n",
      "[0.55698677 0.55374002 0.54550505 0.55404473 0.53507744 0.53583959\n",
      " 0.51706758 0.51214502 0.50643675 0.49512578]\n",
      "best on concordance:\n",
      "num_neighbors: 5 | concordance: 0.5569867724867725\n",
      "IPEC:\n",
      "[0.20042575 0.19063042 0.18946486 0.18613778 0.18686605 0.18639645\n",
      " 0.1862291  0.18628138 0.18528974 0.18542863]\n",
      "best on IPEC:\n",
      "num_neighbors: 150 | IPEC: 0.18528973831190673\n"
     ]
    }
   ],
   "source": [
    "knn_value = np.array(knn_small_value + knn_large_value)\n",
    "\n",
    "knn_ICH_concordance = np.array(list(knn_small_result[0][\"ich\"]) + list(knn_large_result[0][\"ich\"]))\n",
    "knn_ICH_IPEC = np.array(list(knn_small_result[1][\"ich\"]) + list(knn_large_result[1][\"ich\"]))\n",
    "knn_PAN_concordance = np.array(list(knn_small_result[0][\"pancreatitis\"]) + list(knn_large_result[0][\"pancreatitis\"]))\n",
    "knn_PAN_IPEC = np.array(list(knn_small_result[1][\"pancreatitis\"]) + list(knn_large_result[1][\"pancreatitis\"]))\n",
    "\n",
    "print(\"KNN - ICH:\")\n",
    "print(\"concordance:\")\n",
    "print(knn_ICH_concordance)\n",
    "print(\"best on concordance:\")\n",
    "print(\"num_neighbors:\", knn_value[np.argmax(knn_ICH_concordance)], \"| concordance:\", np.max(knn_ICH_concordance))\n",
    "print(\"IPEC:\")\n",
    "print(knn_ICH_IPEC)\n",
    "print(\"best on IPEC:\")\n",
    "print(\"num_neighbors:\", knn_value[np.argmin(knn_ICH_IPEC)], \"| IPEC:\", np.min(knn_ICH_IPEC))\n",
    "print()\n",
    "print(\"KNN - PAN:\")\n",
    "print(\"concordance:\")\n",
    "print(knn_PAN_concordance)\n",
    "print(\"best on concordance:\")\n",
    "print(\"num_neighbors:\", knn_value[np.argmax(knn_PAN_concordance)], \"| concordance:\", np.max(knn_PAN_concordance))\n",
    "print(\"IPEC:\")\n",
    "print(knn_PAN_IPEC)\n",
    "print(\"best on IPEC:\")\n",
    "print(\"num_neighbors:\", knn_value[np.argmin(knn_PAN_IPEC)], \"| IPEC:\", np.min(knn_PAN_IPEC))\n"
   ]
  },
  {
   "cell_type": "code",
   "execution_count": 43,
   "metadata": {},
   "outputs": [
    {
     "name": "stdout",
     "output_type": "stream",
     "text": [
      "KNN reduced - ICH:\n",
      "concordance:\n",
      "[0.5583288  0.57390694 0.57201429 0.58237818]\n",
      "best on concordance:\n",
      "num_neighbors: 30 | concordance: 0.5823781805507144\n",
      "IPEC:\n",
      "[0.20529676 0.19020538 0.18604094 0.1821032 ]\n",
      "best on IPEC:\n",
      "num_neighbors: 30 | IPEC: 0.18210319519593904\n",
      "\n",
      "KNN reduced - PAN:\n",
      "concordance:\n",
      "[0.5222999  0.52967605 0.54137999 0.53658899]\n",
      "best on concordance:\n",
      "num_neighbors: 20 | concordance: 0.5413799903799904\n",
      "IPEC:\n",
      "[0.20986596 0.19562204 0.18784838 0.18615632]\n",
      "best on IPEC:\n",
      "num_neighbors: 30 | IPEC: 0.18615632233056156\n"
     ]
    }
   ],
   "source": [
    "knn_reduced_value = [5, 10, 20, 30]\n",
    "\n",
    "with open('KNN_reduced.pickle', 'rb') as f:\n",
    "    knn_reduced_result = pickle.load(f)\n",
    "\n",
    "knn_reduced_ICH_concordance = knn_reduced_result[0][\"ich\"]\n",
    "knn_reduced_ICH_IPEC = knn_reduced_result[1][\"ich\"]\n",
    "knn_reduced_PAN_concordance = knn_reduced_result[0][\"pancreatitis\"]\n",
    "knn_reduced_PAN_IPEC = knn_reduced_result[1][\"pancreatitis\"]\n",
    "\n",
    "print(\"KNN reduced - ICH:\")\n",
    "print(\"concordance:\")\n",
    "print(knn_reduced_ICH_concordance)\n",
    "print(\"best on concordance:\")\n",
    "print(\"num_neighbors:\", knn_reduced_value[np.argmax(knn_reduced_ICH_concordance)], \"| concordance:\", np.max(knn_reduced_ICH_concordance))\n",
    "print(\"IPEC:\")\n",
    "print(knn_reduced_ICH_IPEC)\n",
    "print(\"best on IPEC:\")\n",
    "print(\"num_neighbors:\", knn_reduced_value[np.argmin(knn_reduced_ICH_IPEC)], \"| IPEC:\", np.min(knn_reduced_ICH_IPEC))\n",
    "print()\n",
    "print(\"KNN reduced - PAN:\")\n",
    "print(\"concordance:\")\n",
    "print(knn_reduced_PAN_concordance)\n",
    "print(\"best on concordance:\")\n",
    "print(\"num_neighbors:\", knn_reduced_value[np.argmax(knn_reduced_PAN_concordance)], \"| concordance:\", np.max(knn_reduced_PAN_concordance))\n",
    "print(\"IPEC:\")\n",
    "print(knn_reduced_PAN_IPEC)\n",
    "print(\"best on IPEC:\")\n",
    "print(\"num_neighbors:\", knn_reduced_value[np.argmin(knn_reduced_PAN_IPEC)], \"| IPEC:\", np.min(knn_reduced_PAN_IPEC))\n"
   ]
  },
  {
   "cell_type": "markdown",
   "metadata": {},
   "source": [
    "### AAM"
   ]
  },
  {
   "cell_type": "code",
   "execution_count": 42,
   "metadata": {},
   "outputs": [
    {
     "name": "stdout",
     "output_type": "stream",
     "text": [
      "aam - ICH:\n",
      "concordance:\n",
      "[0.55230464 0.56047392 0.56276844 0.55967189 0.56115418 0.56292866\n",
      " 0.56468886 0.56498838 0.56818799 0.57070117 0.57044894 0.57171012\n",
      " 0.57225793]\n",
      "best on concordance:\n",
      "coefficient: 0.6 | concordance: 0.5722579295921923\n",
      "IPEC:\n",
      "[0.3227908  0.31601842 0.31264407 0.30981338 0.30605018 0.30089251\n",
      " 0.29305255 0.29307663 0.2902858  0.2878678  0.28573394 0.28390186\n",
      " 0.2808304 ]\n",
      "best on IPEC:\n",
      "coefficient: 0.6 | IPEC: 0.28083039626243467\n",
      "\n",
      "aam - PAN:\n",
      "concordance:\n",
      "[0.51003102 0.51026888 0.51023882 0.51038023 0.50981145 0.51010101\n",
      " 0.51154954 0.51088408 0.51053632 0.50974098 0.51029846 0.51018038\n",
      " 0.51051034]\n",
      "best on concordance:\n",
      "coefficient: 0.3 | concordance: 0.5115495430495431\n",
      "IPEC:\n",
      "[0.37874723 0.37822824 0.37788626 0.37757223 0.377136   0.37642502\n",
      " 0.37527073 0.37526597 0.37451314 0.37386782 0.37324159 0.37266741\n",
      " 0.37170037]\n",
      "best on IPEC:\n",
      "coefficient: 0.6 | IPEC: 0.37170036808656376\n"
     ]
    }
   ],
   "source": [
    "aam_value = np.array(aam_small_value + aam_large_value)\n",
    "\n",
    "aam_ICH_concordance = np.array(list(aam_small_result[0][\"ich\"]) + list(aam_large_result[0][\"ich\"]))\n",
    "aam_ICH_IPEC = np.array(list(aam_small_result[1][\"ich\"]) + list(aam_large_result[1][\"ich\"]))\n",
    "aam_PAN_concordance = np.array(list(aam_small_result[0][\"pancreatitis\"]) + list(aam_large_result[0][\"pancreatitis\"]))\n",
    "aam_PAN_IPEC = np.array(list(aam_small_result[1][\"pancreatitis\"]) + list(aam_large_result[1][\"pancreatitis\"]))\n",
    "\n",
    "print(\"aam - ICH:\")\n",
    "print(\"concordance:\")\n",
    "print(aam_ICH_concordance)\n",
    "print(\"best on concordance:\")\n",
    "print(\"coefficient:\", aam_value[np.argmax(aam_ICH_concordance)], \"| concordance:\", np.max(aam_ICH_concordance))\n",
    "print(\"IPEC:\")\n",
    "print(aam_ICH_IPEC)\n",
    "print(\"best on IPEC:\")\n",
    "print(\"coefficient:\", aam_value[np.argmin(aam_ICH_IPEC)], \"| IPEC:\", np.min(aam_ICH_IPEC))\n",
    "print()\n",
    "print(\"aam - PAN:\")\n",
    "print(\"concordance:\")\n",
    "print(aam_PAN_concordance)\n",
    "print(\"best on concordance:\")\n",
    "print(\"coefficient:\", aam_value[np.argmax(aam_PAN_concordance)], \"| concordance:\", np.max(aam_PAN_concordance))\n",
    "print(\"IPEC:\")\n",
    "print(aam_PAN_IPEC)\n",
    "print(\"best on IPEC:\")\n",
    "print(\"coefficient:\", aam_value[np.argmin(aam_PAN_IPEC)], \"| IPEC:\", np.min(aam_PAN_IPEC))\n"
   ]
  },
  {
   "cell_type": "code",
   "execution_count": 45,
   "metadata": {},
   "outputs": [
    {
     "name": "stdout",
     "output_type": "stream",
     "text": [
      "aam reduced - ICH:\n",
      "concordance:\n",
      "[0.58414035 0.5841314  0.58436703 0.58437516 0.58359905 0.58420995\n",
      " 0.58471349 0.58421087]\n",
      "best on concordance:\n",
      "coefficient: 0.5 | concordance: 0.5847134890205646\n",
      "IPEC:\n",
      "[0.18481743 0.18481816 0.18481889 0.18481963 0.18482113 0.18482264\n",
      " 0.18482417 0.18482572]\n",
      "best on IPEC:\n",
      "coefficient: 0.05 | IPEC: 0.18481743252593397\n",
      "\n",
      "aam reduced - PAN:\n",
      "concordance:\n",
      "[0.52033502 0.51880303 0.5187696  0.51927393 0.51919841 0.52277201\n",
      " 0.52176696 0.52185762]\n",
      "best on concordance:\n",
      "coefficient: 0.4 | concordance: 0.5227720057720058\n",
      "IPEC:\n",
      "[0.18296542 0.18296706 0.18296874 0.18297047 0.18297405 0.1829778\n",
      " 0.18298173 0.18298582]\n",
      "best on IPEC:\n",
      "coefficient: 0.05 | IPEC: 0.1829654174321154\n"
     ]
    }
   ],
   "source": [
    "aam_reduced_value = [0.05, 0.1, 0.15, 0.2, 0.3, 0.4, 0.5, 0.6]\n",
    "\n",
    "with open('aam_reduced.pickle', 'rb') as f:\n",
    "    aam_reduced_result = pickle.load(f)\n",
    "\n",
    "aam_reduced_ICH_concordance = aam_reduced_result[0][\"ich\"]\n",
    "aam_reduced_ICH_IPEC = aam_reduced_result[1][\"ich\"]\n",
    "aam_reduced_PAN_concordance = aam_reduced_result[0][\"pancreatitis\"]\n",
    "aam_reduced_PAN_IPEC = aam_reduced_result[1][\"pancreatitis\"]\n",
    "\n",
    "print(\"aam reduced - ICH:\")\n",
    "print(\"concordance:\")\n",
    "print(aam_reduced_ICH_concordance)\n",
    "print(\"best on concordance:\")\n",
    "print(\"coefficient:\", aam_reduced_value[np.argmax(aam_reduced_ICH_concordance)], \"| concordance:\", np.max(aam_reduced_ICH_concordance))\n",
    "print(\"IPEC:\")\n",
    "print(aam_reduced_ICH_IPEC)\n",
    "print(\"best on IPEC:\")\n",
    "print(\"coefficient:\", aam_reduced_value[np.argmin(aam_reduced_ICH_IPEC)], \"| IPEC:\", np.min(aam_reduced_ICH_IPEC))\n",
    "print()\n",
    "print(\"aam reduced - PAN:\")\n",
    "print(\"concordance:\")\n",
    "print(aam_reduced_PAN_concordance)\n",
    "print(\"best on concordance:\")\n",
    "print(\"coefficient:\", aam_reduced_value[np.argmax(aam_reduced_PAN_concordance)], \"| concordance:\", np.max(aam_reduced_PAN_concordance))\n",
    "print(\"IPEC:\")\n",
    "print(aam_reduced_PAN_IPEC)\n",
    "print(\"best on IPEC:\")\n",
    "print(\"coefficient:\", aam_reduced_value[np.argmin(aam_reduced_PAN_IPEC)], \"| IPEC:\", np.min(aam_reduced_PAN_IPEC))\n"
   ]
  },
  {
   "cell_type": "markdown",
   "metadata": {},
   "source": [
    "### with standard scaling\n"
   ]
  },
  {
   "cell_type": "code",
   "execution_count": 100,
   "metadata": {},
   "outputs": [
    {
     "name": "stdout",
     "output_type": "stream",
     "text": [
      "aam reduced - ICH:\n",
      "concordance:\n",
      "[0.5794688  0.58824399]\n",
      "best on concordance:\n",
      "coefficient: 0.5 | concordance: 0.5882439874520738\n",
      "IPEC:\n",
      "[0.18473885 0.18472905]\n",
      "best on IPEC:\n",
      "coefficient: 0.5 | IPEC: 0.1847290468300177\n",
      "\n",
      "aam reduced - PAN:\n",
      "concordance:\n",
      "[0.5515303  0.55273401]\n",
      "best on concordance:\n",
      "coefficient: 0.5 | concordance: 0.5527340067340067\n",
      "IPEC:\n",
      "[0.19016433 0.19006296]\n",
      "best on IPEC:\n",
      "coefficient: 0.5 | IPEC: 0.19006296248174048\n"
     ]
    }
   ],
   "source": [
    "aam_reduced_value = [0.05, 0.5]\n",
    "\n",
    "with open('AAM_results/AAM_std_reduced.pickle', 'rb') as f:\n",
    "    aam_reduced_result = pickle.load(f)\n",
    "\n",
    "aam_reduced_ICH_concordance = aam_reduced_result[0][\"ich\"]\n",
    "aam_reduced_ICH_IPEC = aam_reduced_result[1][\"ich\"]\n",
    "aam_reduced_PAN_concordance = aam_reduced_result[0][\"pancreatitis\"]\n",
    "aam_reduced_PAN_IPEC = aam_reduced_result[1][\"pancreatitis\"]\n",
    "\n",
    "print(\"aam reduced - ICH:\")\n",
    "print(\"concordance:\")\n",
    "print(aam_reduced_ICH_concordance)\n",
    "print(\"best on concordance:\")\n",
    "print(\"coefficient:\", aam_reduced_value[np.argmax(aam_reduced_ICH_concordance)], \"| concordance:\", np.max(aam_reduced_ICH_concordance))\n",
    "print(\"IPEC:\")\n",
    "print(aam_reduced_ICH_IPEC)\n",
    "print(\"best on IPEC:\")\n",
    "print(\"coefficient:\", aam_reduced_value[np.argmin(aam_reduced_ICH_IPEC)], \"| IPEC:\", np.min(aam_reduced_ICH_IPEC))\n",
    "print()\n",
    "print(\"aam reduced - PAN:\")\n",
    "print(\"concordance:\")\n",
    "print(aam_reduced_PAN_concordance)\n",
    "print(\"best on concordance:\")\n",
    "print(\"coefficient:\", aam_reduced_value[np.argmax(aam_reduced_PAN_concordance)], \"| concordance:\", np.max(aam_reduced_PAN_concordance))\n",
    "print(\"IPEC:\")\n",
    "print(aam_reduced_PAN_IPEC)\n",
    "print(\"best on IPEC:\")\n",
    "print(\"coefficient:\", aam_reduced_value[np.argmin(aam_reduced_PAN_IPEC)], \"| IPEC:\", np.min(aam_reduced_PAN_IPEC))\n"
   ]
  },
  {
   "cell_type": "markdown",
   "metadata": {},
   "source": [
    "###  RSF"
   ]
  },
  {
   "cell_type": "markdown",
   "metadata": {},
   "source": [
    "#### reduced\n"
   ]
  },
  {
   "cell_type": "code",
   "execution_count": 128,
   "metadata": {},
   "outputs": [],
   "source": [
    "n_components = 25 # without standard scale\n"
   ]
  },
  {
   "cell_type": "code",
   "execution_count": 131,
   "metadata": {},
   "outputs": [],
   "source": [
    "RSF_reduced_n_trees = [50]\n",
    "\n",
    "with open('RSF_results/RSF_P_01.pickle', 'rb') as f:\n",
    "    result = pickle.load(f)\n",
    "    RSF_reduced_max_features = result[0]\n",
    "    RSF_reduced_max_depths = result[1]\n",
    "    RSF_reduced_result = result[2:]\n"
   ]
  },
  {
   "cell_type": "code",
   "execution_count": 135,
   "metadata": {},
   "outputs": [
    {
     "name": "stdout",
     "output_type": "stream",
     "text": [
      "RSF reduced - PAN:\n",
      "best on concordance:\n",
      "n_tree, max_feature, max_depth: (50, 20, 3) | concordance: 0.5730704665704667\n",
      "best on IPEC:\n",
      "n_tree, max_feature, max_depth: (50, 20, 3) | IPEC: 1.9541753518974598\n",
      "\n",
      "RSF reduced - ICH:\n",
      "best on concordance:\n",
      "n_tree, max_feature, max_depth: (50, 40, 6) | concordance: 0.5952223771348901\n",
      "best on IPEC:\n",
      "n_tree, max_feature, max_depth: (50, 80, 6) | IPEC: 1.7582790761672764\n"
     ]
    }
   ],
   "source": [
    "RSF_reduced_dict = {}\n",
    "for n_tree in RSF_reduced_n_trees:\n",
    "    for row, max_feature in enumerate(RSF_reduced_max_features):\n",
    "        for col, max_depth in enumerate(RSF_reduced_max_depths):\n",
    "            RSF_reduced_dict[(n_tree, max_feature, max_depth)] = {\n",
    "                \"conc_PAN\": RSF_reduced_result[0][\"pancreatitis\"][row][col],\n",
    "                \"conc_ICH\": RSF_reduced_result[0][\"ich\"][row][col],\n",
    "                \"ipec_PAN\": RSF_reduced_result[1][\"pancreatitis\"][row][col],\n",
    "                \"ipec_ICH\": RSF_reduced_result[1][\"ich\"][row][col]                \n",
    "            }\n",
    "                \n",
    "RSF_reduced_PAN_concordance_best = max(RSF_reduced_dict.items(), key=lambda x:x[1][\"conc_PAN\"])\n",
    "RSF_reduced_ICH_concordance_best = max(RSF_reduced_dict.items(), key=lambda x:x[1][\"conc_ICH\"])\n",
    "RSF_reduced_PAN_IPEC_best = min(RSF_reduced_dict.items(), key=lambda x:x[1][\"ipec_PAN\"])\n",
    "RSF_reduced_ICH_IPEC_best = min(RSF_reduced_dict.items(), key=lambda x:x[1][\"ipec_ICH\"])\n",
    "\n",
    "print(\"RSF reduced - PAN:\")\n",
    "print(\"best on concordance:\")\n",
    "print(\"n_tree, max_feature, max_depth:\", RSF_reduced_PAN_concordance_best[0], \"| concordance:\", RSF_reduced_PAN_concordance_best[1][\"conc_PAN\"])\n",
    "print(\"best on IPEC:\")\n",
    "print(\"n_tree, max_feature, max_depth:\", RSF_reduced_PAN_IPEC_best[0], \"| IPEC:\", RSF_reduced_PAN_IPEC_best[1][\"ipec_PAN\"])\n",
    "print()\n",
    "print(\"RSF reduced - ICH:\")\n",
    "print(\"best on concordance:\")\n",
    "print(\"n_tree, max_feature, max_depth:\", RSF_reduced_ICH_concordance_best[0], \"| concordance:\", RSF_reduced_ICH_concordance_best[1][\"conc_ICH\"])\n",
    "print(\"best on IPEC:\")\n",
    "print(\"n_tree, max_feature, max_depth:\", RSF_reduced_ICH_IPEC_best[0], \"| IPEC:\", RSF_reduced_ICH_IPEC_best[1][\"ipec_ICH\"])\n"
   ]
  },
  {
   "cell_type": "markdown",
   "metadata": {},
   "source": [
    "#### without reduction\n"
   ]
  },
  {
   "cell_type": "code",
   "execution_count": 95,
   "metadata": {},
   "outputs": [],
   "source": [
    "RSF_n_trees = [20, 50]\n",
    "RSF_max_features = [10, 20, 40, 60, 80, 200]\n",
    "RSF_max_depths = [5, 10, 15]\n",
    "RSF_dict = {}\n",
    "\n",
    "with open('RSF_results/RSF.out', 'r') as f:\n",
    "    dataset = 'PAN'\n",
    "    n_tree = 20\n",
    "    max_feature = 10\n",
    "    max_depth = 5\n",
    "    for line in f:\n",
    "        if re.match(r'For the ich dataset:', line):\n",
    "            dataset = 'ICH'\n",
    "            continue\n",
    "        if re.match(r'\\[LOG\\] n_tree', line):\n",
    "            tokens = line.split(\" = \")\n",
    "            n_tree = int(tokens[1].split(\",\")[0])\n",
    "            max_feature = int(tokens[2].split(\",\")[0])\n",
    "            max_depth = int(tokens[3].split(\"\\n\")[0])\n",
    "            if (n_tree, max_feature, max_depth) not in RSF_dict:\n",
    "                RSF_dict[(n_tree, max_feature, max_depth)] = {}\n",
    "        if re.match(r'\\[LOG\\] avg\\. concordance', line):\n",
    "            concordance = float(line.split(\": \")[1])\n",
    "            RSF_dict[(n_tree, max_feature, max_depth)][\"conc_\" + dataset] = concordance\n",
    "        if re.match(r'\\[LOG\\] avg\\. ipec', line):\n",
    "            ipec_score = float(line.split(\": \")[1])\n",
    "            RSF_dict[(n_tree, max_feature, max_depth)][\"ipec_\" + dataset] = ipec_score\n",
    " "
   ]
  },
  {
   "cell_type": "code",
   "execution_count": 96,
   "metadata": {},
   "outputs": [
    {
     "name": "stdout",
     "output_type": "stream",
     "text": [
      "RSF reduced - PAN:\n",
      "best on concordance:\n",
      "n_tree, max_feature, max_depth: (50, 20, 10) | concordance: 0.559587542087542\n",
      "best on IPEC:\n",
      "n_tree, max_feature, max_depth: (50, 40, 5) | IPEC: 0.18194392586255279\n",
      "\n",
      "RSF reduced - ICH:\n",
      "best on concordance:\n",
      "n_tree, max_feature, max_depth: (20, 10, 5) | concordance: 0.586682119205298\n",
      "best on IPEC:\n",
      "n_tree, max_feature, max_depth: (20, 80, 5) | IPEC: 0.18125757444497248\n"
     ]
    }
   ],
   "source": [
    "RSF_PAN_concordance_best = max(RSF_dict.items(), key=lambda x:x[1][\"conc_PAN\"])\n",
    "RSF_ICH_concordance_best = max(RSF_dict.items(), key=lambda x:x[1][\"conc_ICH\"])\n",
    "RSF_PAN_IPEC_best = min(RSF_dict.items(), key=lambda x:x[1][\"ipec_PAN\"])\n",
    "RSF_ICH_IPEC_best = min(RSF_dict.items(), key=lambda x:x[1][\"ipec_ICH\"])\n",
    "\n",
    "print(\"RSF reduced - PAN:\")\n",
    "print(\"best on concordance:\")\n",
    "print(\"n_tree, max_feature, max_depth:\", RSF_PAN_concordance_best[0], \"| concordance:\", RSF_PAN_concordance_best[1][\"conc_PAN\"])\n",
    "print(\"best on IPEC:\")\n",
    "print(\"n_tree, max_feature, max_depth:\", RSF_PAN_IPEC_best[0], \"| IPEC:\", RSF_PAN_IPEC_best[1][\"ipec_PAN\"])\n",
    "print()\n",
    "print(\"RSF reduced - ICH:\")\n",
    "print(\"best on concordance:\")\n",
    "print(\"n_tree, max_feature, max_depth:\", RSF_ICH_concordance_best[0], \"| concordance:\", RSF_ICH_concordance_best[1][\"conc_ICH\"])\n",
    "print(\"best on IPEC:\")\n",
    "print(\"n_tree, max_feature, max_depth:\", RSF_ICH_IPEC_best[0], \"| IPEC:\", RSF_ICH_IPEC_best[1][\"ipec_ICH\"])\n"
   ]
  },
  {
   "cell_type": "markdown",
   "metadata": {},
   "source": [
    "## New Results\n"
   ]
  },
  {
   "cell_type": "code",
   "execution_count": 17,
   "metadata": {},
   "outputs": [],
   "source": [
    "with open('COX_results/COX_P_2_part.pickle', 'rb') as f:\n",
    "    result = pickle.load(f)\n",
    "    value = result[0]\n"
   ]
  },
  {
   "cell_type": "code",
   "execution_count": 18,
   "metadata": {},
   "outputs": [],
   "source": [
    "SEP_concordance = list(result[1][\"sepsis\"])\n",
    "SEP_IPEC = list(result[2][\"sepsis\"])\n"
   ]
  },
  {
   "cell_type": "code",
   "execution_count": 19,
   "metadata": {},
   "outputs": [
    {
     "name": "stdout",
     "output_type": "stream",
     "text": [
      "[0.01, 0.03, 0.05, 0.07, 0.09, 0.12, 0.15]\n",
      "SEP:\n",
      "concordance:\n",
      "[0.5752309579824442, 0.0, 0.0, 0.0, 0.0, 0.0, 0.0]\n",
      "best on concordance:\n",
      "coefficient: 0.01 | concordance: 0.5752309579824442\n",
      "IPEC:\n",
      "[1.6118027427102297, 0.0, 0.0, 0.0, 0.0, 0.0, 0.0]\n",
      "best on IPEC:\n",
      "coefficient: 0.03 | IPEC: 0.0\n"
     ]
    }
   ],
   "source": [
    "print(value)\n",
    "print(\"SEP:\")\n",
    "print(\"concordance:\")\n",
    "print(SEP_concordance)\n",
    "print(\"best on concordance:\")\n",
    "print(\"coefficient:\", value[np.argmax(SEP_concordance)], \"| concordance:\", np.max(SEP_concordance))\n",
    "print(\"IPEC:\")\n",
    "print(SEP_IPEC)\n",
    "print(\"best on IPEC:\")\n",
    "print(\"coefficient:\", value[np.argmin(SEP_IPEC)], \"| IPEC:\", np.min(SEP_IPEC))\n"
   ]
  },
  {
   "cell_type": "code",
   "execution_count": 11,
   "metadata": {},
   "outputs": [],
   "source": [
    "with open('AAM_results/AAM_01_new.pickle', 'rb') as f:\n",
    "    result = pickle.load(f)\n",
    "    value = result[0]\n"
   ]
  },
  {
   "cell_type": "code",
   "execution_count": 12,
   "metadata": {},
   "outputs": [],
   "source": [
    "ICH_concordance = list(result[1][\"ich\"])\n",
    "ICH_IPEC = list(result[2][\"ich\"])\n",
    "PAN_concordance = list(result[1][\"pancreatitis\"])\n",
    "PAN_IPEC = list(result[2][\"pancreatitis\"])\n"
   ]
  },
  {
   "cell_type": "code",
   "execution_count": 13,
   "metadata": {},
   "outputs": [
    {
     "name": "stdout",
     "output_type": "stream",
     "text": [
      "[0.05, 0.08, 0.1, 0.12, 0.15, 0.2, 0.3, 0.4, 0.5, 0.6, 0.7]\n",
      "ICH:\n",
      "concordance:\n",
      "[0.5344015336354131, 0.5375834785639596, 0.5396399442314396, 0.5435736028813756, 0.550345184152434, 0.5565880097594981, 0.5546285581503427, 0.555410712210991, 0.5648462879051934, 0.5723003369350528, 0.5729208783548275]\n",
      "best on concordance:\n",
      "coefficient: 0.7 | concordance: 0.5729208783548275\n",
      "IPEC:\n",
      "[2.2651620754290915, 2.2874791666022007, 2.2977650614927474, 2.2980857659016105, 2.303044342150084, 2.311536265290229, 2.3250161543539596, 2.3263915827608215, 2.32592434807548, 2.3275270977101576, 2.3312747851176234]\n",
      "best on IPEC:\n",
      "coefficient: 0.05 | IPEC: 2.2651620754290915\n",
      "\n",
      "PAN:\n",
      "concordance:\n",
      "[0.5223419913419913, 0.5225781625781625, 0.522506253006253, 0.5221127946127946, 0.5222421837421838, 0.5232325637325638, 0.5243965848965848, 0.5228879268879268, 0.5247202982202982, 0.5240250120250121, 0.5231926406926406]\n",
      "best on concordance:\n",
      "coefficient: 0.5 | concordance: 0.5247202982202982\n",
      "IPEC:\n",
      "[3.5843771345705933, 3.5572195208782027, 3.537117373388997, 3.5171615036515096, 3.4865155645879415, 3.438280790171955, 3.359418020666066, 3.3234656253080344, 3.2858620161096352, 3.270814553222102, 3.259266600335171]\n",
      "best on IPEC:\n",
      "coefficient: 0.7 | IPEC: 3.259266600335171\n"
     ]
    }
   ],
   "source": [
    "print(value)\n",
    "print(\"ICH:\")\n",
    "print(\"concordance:\")\n",
    "print(ICH_concordance)\n",
    "print(\"best on concordance:\")\n",
    "print(\"coefficient:\", value[np.argmax(ICH_concordance)], \"| concordance:\", np.max(ICH_concordance))\n",
    "print(\"IPEC:\")\n",
    "print(ICH_IPEC)\n",
    "print(\"best on IPEC:\")\n",
    "print(\"coefficient:\", value[np.argmin(ICH_IPEC)], \"| IPEC:\", np.min(ICH_IPEC))\n",
    "print()\n",
    "print(\"PAN:\")\n",
    "print(\"concordance:\")\n",
    "print(PAN_concordance)\n",
    "print(\"best on concordance:\")\n",
    "print(\"coefficient:\", value[np.argmax(PAN_concordance)], \"| concordance:\", np.max(PAN_concordance))\n",
    "print(\"IPEC:\")\n",
    "print(PAN_IPEC)\n",
    "print(\"best on IPEC:\")\n",
    "print(\"coefficient:\", value[np.argmin(PAN_IPEC)], \"| IPEC:\", np.min(PAN_IPEC))\n"
   ]
  },
  {
   "cell_type": "code",
   "execution_count": null,
   "metadata": {},
   "outputs": [],
   "source": []
  },
  {
   "cell_type": "code",
   "execution_count": null,
   "metadata": {},
   "outputs": [],
   "source": []
  },
  {
   "cell_type": "code",
   "execution_count": null,
   "metadata": {},
   "outputs": [],
   "source": []
  },
  {
   "cell_type": "code",
   "execution_count": null,
   "metadata": {},
   "outputs": [],
   "source": []
  }
 ],
 "metadata": {
  "kernelspec": {
   "display_name": "Python 3",
   "language": "python",
   "name": "python3"
  },
  "language_info": {
   "codemirror_mode": {
    "name": "ipython",
    "version": 3
   },
   "file_extension": ".py",
   "mimetype": "text/x-python",
   "name": "python",
   "nbconvert_exporter": "python",
   "pygments_lexer": "ipython3",
   "version": "3.6.5"
  }
 },
 "nbformat": 4,
 "nbformat_minor": 2
}
