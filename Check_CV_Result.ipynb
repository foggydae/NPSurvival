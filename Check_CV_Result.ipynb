{
 "cells": [
  {
   "cell_type": "markdown",
   "metadata": {},
   "source": [
    "## Read Result\n"
   ]
  },
  {
   "cell_type": "code",
   "execution_count": 4,
   "metadata": {},
   "outputs": [],
   "source": [
    "import pickle\n",
    "import operator    \n",
    "import re\n",
    "import numpy as np\n",
    "import matplotlib.pyplot as plt\n"
   ]
  },
  {
   "cell_type": "markdown",
   "metadata": {},
   "source": [
    "###  RSF"
   ]
  },
  {
   "cell_type": "markdown",
   "metadata": {},
   "source": [
    "#### reduced\n"
   ]
  },
  {
   "cell_type": "code",
   "execution_count": 131,
   "metadata": {},
   "outputs": [],
   "source": [
    "n_components = 25\n",
    "RSF_reduced_n_trees = [50]\n",
    "\n",
    "with open('RSF_results/RSF_P_01.pickle', 'rb') as f:\n",
    "    result = pickle.load(f)\n",
    "    RSF_reduced_max_features = result[0]\n",
    "    RSF_reduced_max_depths = result[1]\n",
    "    RSF_reduced_result = result[2:]\n"
   ]
  },
  {
   "cell_type": "code",
   "execution_count": 135,
   "metadata": {},
   "outputs": [
    {
     "name": "stdout",
     "output_type": "stream",
     "text": [
      "RSF reduced - PAN:\n",
      "best on concordance:\n",
      "n_tree, max_feature, max_depth: (50, 20, 3) | concordance: 0.5730704665704667\n",
      "best on IPEC:\n",
      "n_tree, max_feature, max_depth: (50, 20, 3) | IPEC: 1.9541753518974598\n",
      "\n",
      "RSF reduced - ICH:\n",
      "best on concordance:\n",
      "n_tree, max_feature, max_depth: (50, 40, 6) | concordance: 0.5952223771348901\n",
      "best on IPEC:\n",
      "n_tree, max_feature, max_depth: (50, 80, 6) | IPEC: 1.7582790761672764\n"
     ]
    }
   ],
   "source": [
    "RSF_reduced_dict = {}\n",
    "for n_tree in RSF_reduced_n_trees:\n",
    "    for row, max_feature in enumerate(RSF_reduced_max_features):\n",
    "        for col, max_depth in enumerate(RSF_reduced_max_depths):\n",
    "            RSF_reduced_dict[(n_tree, max_feature, max_depth)] = {\n",
    "                \"conc_PAN\": RSF_reduced_result[0][\"pancreatitis\"][row][col],\n",
    "                \"conc_ICH\": RSF_reduced_result[0][\"ich\"][row][col],\n",
    "                \"ipec_PAN\": RSF_reduced_result[1][\"pancreatitis\"][row][col],\n",
    "                \"ipec_ICH\": RSF_reduced_result[1][\"ich\"][row][col]                \n",
    "            }\n",
    "                \n",
    "RSF_reduced_PAN_concordance_best = max(RSF_reduced_dict.items(), key=lambda x:x[1][\"conc_PAN\"])\n",
    "RSF_reduced_ICH_concordance_best = max(RSF_reduced_dict.items(), key=lambda x:x[1][\"conc_ICH\"])\n",
    "RSF_reduced_PAN_IPEC_best = min(RSF_reduced_dict.items(), key=lambda x:x[1][\"ipec_PAN\"])\n",
    "RSF_reduced_ICH_IPEC_best = min(RSF_reduced_dict.items(), key=lambda x:x[1][\"ipec_ICH\"])\n",
    "\n",
    "print(\"RSF reduced - PAN:\")\n",
    "print(\"best on concordance:\")\n",
    "print(\"n_tree, max_feature, max_depth:\", RSF_reduced_PAN_concordance_best[0], \"| concordance:\", RSF_reduced_PAN_concordance_best[1][\"conc_PAN\"])\n",
    "print(\"best on IPEC:\")\n",
    "print(\"n_tree, max_feature, max_depth:\", RSF_reduced_PAN_IPEC_best[0], \"| IPEC:\", RSF_reduced_PAN_IPEC_best[1][\"ipec_PAN\"])\n",
    "print()\n",
    "print(\"RSF reduced - ICH:\")\n",
    "print(\"best on concordance:\")\n",
    "print(\"n_tree, max_feature, max_depth:\", RSF_reduced_ICH_concordance_best[0], \"| concordance:\", RSF_reduced_ICH_concordance_best[1][\"conc_ICH\"])\n",
    "print(\"best on IPEC:\")\n",
    "print(\"n_tree, max_feature, max_depth:\", RSF_reduced_ICH_IPEC_best[0], \"| IPEC:\", RSF_reduced_ICH_IPEC_best[1][\"ipec_ICH\"])\n"
   ]
  },
  {
   "cell_type": "markdown",
   "metadata": {},
   "source": [
    "#### without reduction\n"
   ]
  },
  {
   "cell_type": "code",
   "execution_count": 95,
   "metadata": {},
   "outputs": [],
   "source": [
    "RSF_n_trees = [20, 50]\n",
    "RSF_max_features = [10, 20, 40, 60, 80, 200]\n",
    "RSF_max_depths = [5, 10, 15]\n",
    "RSF_dict = {}\n",
    "\n",
    "with open('RSF_results/RSF.out', 'r') as f:\n",
    "    dataset = 'PAN'\n",
    "    n_tree = 20\n",
    "    max_feature = 10\n",
    "    max_depth = 5\n",
    "    for line in f:\n",
    "        if re.match(r'For the ich dataset:', line):\n",
    "            dataset = 'ICH'\n",
    "            continue\n",
    "        if re.match(r'\\[LOG\\] n_tree', line):\n",
    "            tokens = line.split(\" = \")\n",
    "            n_tree = int(tokens[1].split(\",\")[0])\n",
    "            max_feature = int(tokens[2].split(\",\")[0])\n",
    "            max_depth = int(tokens[3].split(\"\\n\")[0])\n",
    "            if (n_tree, max_feature, max_depth) not in RSF_dict:\n",
    "                RSF_dict[(n_tree, max_feature, max_depth)] = {}\n",
    "        if re.match(r'\\[LOG\\] avg\\. concordance', line):\n",
    "            concordance = float(line.split(\": \")[1])\n",
    "            RSF_dict[(n_tree, max_feature, max_depth)][\"conc_\" + dataset] = concordance\n",
    "        if re.match(r'\\[LOG\\] avg\\. ipec', line):\n",
    "            ipec_score = float(line.split(\": \")[1])\n",
    "            RSF_dict[(n_tree, max_feature, max_depth)][\"ipec_\" + dataset] = ipec_score\n",
    " "
   ]
  },
  {
   "cell_type": "code",
   "execution_count": 96,
   "metadata": {},
   "outputs": [
    {
     "name": "stdout",
     "output_type": "stream",
     "text": [
      "RSF reduced - PAN:\n",
      "best on concordance:\n",
      "n_tree, max_feature, max_depth: (50, 20, 10) | concordance: 0.559587542087542\n",
      "best on IPEC:\n",
      "n_tree, max_feature, max_depth: (50, 40, 5) | IPEC: 0.18194392586255279\n",
      "\n",
      "RSF reduced - ICH:\n",
      "best on concordance:\n",
      "n_tree, max_feature, max_depth: (20, 10, 5) | concordance: 0.586682119205298\n",
      "best on IPEC:\n",
      "n_tree, max_feature, max_depth: (20, 80, 5) | IPEC: 0.18125757444497248\n"
     ]
    }
   ],
   "source": [
    "RSF_PAN_concordance_best = max(RSF_dict.items(), key=lambda x:x[1][\"conc_PAN\"])\n",
    "RSF_ICH_concordance_best = max(RSF_dict.items(), key=lambda x:x[1][\"conc_ICH\"])\n",
    "RSF_PAN_IPEC_best = min(RSF_dict.items(), key=lambda x:x[1][\"ipec_PAN\"])\n",
    "RSF_ICH_IPEC_best = min(RSF_dict.items(), key=lambda x:x[1][\"ipec_ICH\"])\n",
    "\n",
    "print(\"RSF reduced - PAN:\")\n",
    "print(\"best on concordance:\")\n",
    "print(\"n_tree, max_feature, max_depth:\", RSF_PAN_concordance_best[0], \"| concordance:\", RSF_PAN_concordance_best[1][\"conc_PAN\"])\n",
    "print(\"best on IPEC:\")\n",
    "print(\"n_tree, max_feature, max_depth:\", RSF_PAN_IPEC_best[0], \"| IPEC:\", RSF_PAN_IPEC_best[1][\"ipec_PAN\"])\n",
    "print()\n",
    "print(\"RSF reduced - ICH:\")\n",
    "print(\"best on concordance:\")\n",
    "print(\"n_tree, max_feature, max_depth:\", RSF_ICH_concordance_best[0], \"| concordance:\", RSF_ICH_concordance_best[1][\"conc_ICH\"])\n",
    "print(\"best on IPEC:\")\n",
    "print(\"n_tree, max_feature, max_depth:\", RSF_ICH_IPEC_best[0], \"| IPEC:\", RSF_ICH_IPEC_best[1][\"ipec_ICH\"])\n"
   ]
  },
  {
   "cell_type": "markdown",
   "metadata": {},
   "source": [
    "## New Results\n"
   ]
  },
  {
   "cell_type": "markdown",
   "metadata": {},
   "source": [
    "### Pancreatitis and Ich\n"
   ]
  },
  {
   "cell_type": "code",
   "execution_count": 183,
   "metadata": {},
   "outputs": [
    {
     "name": "stdout",
     "output_type": "stream",
     "text": [
      "[0.05, 0.08, 0.1, 0.12, 0.15, 0.2, 0.3, 0.4, 0.5, 0.6, 0.7]\n",
      "ICH:\n",
      "concordance:\n",
      "[0.5344015336354131, 0.5375834785639596, 0.5396399442314396, 0.5435736028813756, 0.550345184152434, 0.5565880097594981, 0.5546285581503427, 0.555410712210991, 0.5648462879051934, 0.5723003369350528, 0.5729208783548275]\n",
      "best on concordance:\n",
      "coefficient: 0.7 | concordance: 0.5729208783548275\n",
      "IPEC:\n",
      "[2.2651620754290915, 2.2874791666022007, 2.2977650614927474, 2.2980857659016105, 2.303044342150084, 2.311536265290229, 2.3250161543539596, 2.3263915827608215, 2.32592434807548, 2.3275270977101576, 2.3312747851176234]\n",
      "best on IPEC:\n",
      "coefficient: 0.05 | IPEC: 2.2651620754290915\n",
      "\n",
      "PAN:\n",
      "concordance:\n",
      "[0.5223419913419913, 0.5225781625781625, 0.522506253006253, 0.5221127946127946, 0.5222421837421838, 0.5232325637325638, 0.5243965848965848, 0.5228879268879268, 0.5247202982202982, 0.5240250120250121, 0.5231926406926406]\n",
      "best on concordance:\n",
      "coefficient: 0.5 | concordance: 0.5247202982202982\n",
      "IPEC:\n",
      "[3.5843771345705933, 3.5572195208782027, 3.537117373388997, 3.5171615036515096, 3.4865155645879415, 3.438280790171955, 3.359418020666066, 3.3234656253080344, 3.2858620161096352, 3.270814553222102, 3.259266600335171]\n",
      "best on IPEC:\n",
      "coefficient: 0.7 | IPEC: 3.259266600335171\n"
     ]
    }
   ],
   "source": [
    "MODEL = \"AAM\"\n",
    "REDUCED = \"_P\"\n",
    "REDUCED = \"\"\n",
    "\n",
    "with open(MODEL + '_results/' + MODEL + REDUCED + '_01_new.pickle', 'rb') as f:\n",
    "    result = pickle.load(f)\n",
    "    value = result[0]\n",
    "\n",
    "ICH_concordance = list(result[1][\"ich\"])\n",
    "ICH_IPEC = list(result[2][\"ich\"])\n",
    "PAN_concordance = list(result[1][\"pancreatitis\"])\n",
    "PAN_IPEC = list(result[2][\"pancreatitis\"])\n",
    "\n",
    "print(value)\n",
    "print(\"ICH:\")\n",
    "print(\"concordance:\")\n",
    "print(ICH_concordance)\n",
    "print(\"best on concordance:\")\n",
    "print(\"coefficient:\", value[np.argmax(ICH_concordance)], \"| concordance:\", np.max(ICH_concordance))\n",
    "print(\"IPEC:\")\n",
    "print(ICH_IPEC)\n",
    "print(\"best on IPEC:\")\n",
    "print(\"coefficient:\", value[np.argmin(ICH_IPEC)], \"| IPEC:\", np.min(ICH_IPEC))\n",
    "print()\n",
    "print(\"PAN:\")\n",
    "print(\"concordance:\")\n",
    "print(PAN_concordance)\n",
    "print(\"best on concordance:\")\n",
    "print(\"coefficient:\", value[np.argmax(PAN_concordance)], \"| concordance:\", np.max(PAN_concordance))\n",
    "print(\"IPEC:\")\n",
    "print(PAN_IPEC)\n",
    "print(\"best on IPEC:\")\n",
    "print(\"coefficient:\", value[np.argmin(PAN_IPEC)], \"| IPEC:\", np.min(PAN_IPEC))\n"
   ]
  },
  {
   "cell_type": "code",
   "execution_count": 184,
   "metadata": {},
   "outputs": [
    {
     "data": {
      "image/png": "[encoded data removed]",
      "text/plain": [
       "<matplotlib.figure.Figure at 0x1108bb7f0>"
      ]
     },
     "metadata": {},
     "output_type": "display_data"
    }
   ],
   "source": [
    "plt.scatter(PAN_IPEC, PAN_concordance)\n",
    "plt.savefig(MODEL + '_results/' + MODEL + REDUCED + '_0.png')\n"
   ]
  },
  {
   "cell_type": "code",
   "execution_count": 185,
   "metadata": {},
   "outputs": [
    {
     "data": {
      "text/plain": [
       "<matplotlib.collections.PathCollection at 0x110121eb8>"
      ]
     },
     "execution_count": 185,
     "metadata": {},
     "output_type": "execute_result"
    },
    {
     "data": {
      "image/png": "[encoded data removed]",
      "text/plain": [
       "<matplotlib.figure.Figure at 0x110b16a58>"
      ]
     },
     "metadata": {},
     "output_type": "display_data"
    }
   ],
   "source": [
    "plt.scatter(value, PAN_concordance)\n"
   ]
  },
  {
   "cell_type": "code",
   "execution_count": 186,
   "metadata": {},
   "outputs": [
    {
     "data": {
      "text/plain": [
       "<matplotlib.collections.PathCollection at 0x10ff0fdd8>"
      ]
     },
     "execution_count": 186,
     "metadata": {},
     "output_type": "execute_result"
    },
    {
     "data": {
      "image/png": "[encoded data removed]",
      "text/plain": [
       "<matplotlib.figure.Figure at 0x110053e80>"
      ]
     },
     "metadata": {},
     "output_type": "display_data"
    }
   ],
   "source": [
    "plt.scatter(value, PAN_IPEC)\n"
   ]
  },
  {
   "cell_type": "code",
   "execution_count": 187,
   "metadata": {},
   "outputs": [
    {
     "data": {
      "image/png": "[encoded data removed]",
      "text/plain": [
       "<matplotlib.figure.Figure at 0x10ffa9b00>"
      ]
     },
     "metadata": {},
     "output_type": "display_data"
    }
   ],
   "source": [
    "plt.scatter(ICH_IPEC, ICH_concordance)\n",
    "plt.savefig(MODEL + '_results/' + MODEL + REDUCED + '_1.png')\n"
   ]
  },
  {
   "cell_type": "code",
   "execution_count": 188,
   "metadata": {},
   "outputs": [
    {
     "data": {
      "text/plain": [
       "<matplotlib.collections.PathCollection at 0x10f953320>"
      ]
     },
     "execution_count": 188,
     "metadata": {},
     "output_type": "execute_result"
    },
    {
     "data": {
      "image/png": "[encoded data removed]",
      "text/plain": [
       "<matplotlib.figure.Figure at 0x11011c860>"
      ]
     },
     "metadata": {},
     "output_type": "display_data"
    }
   ],
   "source": [
    "plt.scatter(value, ICH_concordance)\n"
   ]
  },
  {
   "cell_type": "code",
   "execution_count": 189,
   "metadata": {},
   "outputs": [
    {
     "data": {
      "text/plain": [
       "<matplotlib.collections.PathCollection at 0x10ea99978>"
      ]
     },
     "execution_count": 189,
     "metadata": {},
     "output_type": "execute_result"
    },
    {
     "data": {
      "image/png": "[encoded data removed]",
      "text/plain": [
       "<matplotlib.figure.Figure at 0x10f89d860>"
      ]
     },
     "metadata": {},
     "output_type": "display_data"
    }
   ],
   "source": [
    "plt.scatter(value, ICH_IPEC)\n"
   ]
  },
  {
   "cell_type": "code",
   "execution_count": null,
   "metadata": {},
   "outputs": [],
   "source": []
  },
  {
   "cell_type": "markdown",
   "metadata": {},
   "source": [
    "### Sepsis\n"
   ]
  },
  {
   "cell_type": "code",
   "execution_count": 115,
   "metadata": {},
   "outputs": [
    {
     "ename": "FileNotFoundError",
     "evalue": "[Errno 2] No such file or directory: 'COX_results/COX_P_2.pickle'",
     "output_type": "error",
     "traceback": [
      "\u001b[0;31m---------------------------------------------------------------------------\u001b[0m",
      "\u001b[0;31mFileNotFoundError\u001b[0m                         Traceback (most recent call last)",
      "\u001b[0;32m<ipython-input-115-0d007919ae2e>\u001b[0m in \u001b[0;36m<module>\u001b[0;34m()\u001b[0m\n\u001b[0;32m----> 1\u001b[0;31m \u001b[0;32mwith\u001b[0m \u001b[0mopen\u001b[0m\u001b[0;34m(\u001b[0m\u001b[0mMODEL\u001b[0m \u001b[0;34m+\u001b[0m \u001b[0;34m'_results/'\u001b[0m \u001b[0;34m+\u001b[0m \u001b[0mMODEL\u001b[0m \u001b[0;34m+\u001b[0m \u001b[0mREDUCED\u001b[0m \u001b[0;34m+\u001b[0m \u001b[0;34m'_2.pickle'\u001b[0m\u001b[0;34m,\u001b[0m \u001b[0;34m'rb'\u001b[0m\u001b[0;34m)\u001b[0m \u001b[0;32mas\u001b[0m \u001b[0mf\u001b[0m\u001b[0;34m:\u001b[0m\u001b[0;34m\u001b[0m\u001b[0m\n\u001b[0m\u001b[1;32m      2\u001b[0m     \u001b[0mresult\u001b[0m \u001b[0;34m=\u001b[0m \u001b[0mpickle\u001b[0m\u001b[0;34m.\u001b[0m\u001b[0mload\u001b[0m\u001b[0;34m(\u001b[0m\u001b[0mf\u001b[0m\u001b[0;34m)\u001b[0m\u001b[0;34m\u001b[0m\u001b[0m\n\u001b[1;32m      3\u001b[0m     \u001b[0mvalue\u001b[0m \u001b[0;34m=\u001b[0m \u001b[0mresult\u001b[0m\u001b[0;34m[\u001b[0m\u001b[0;36m0\u001b[0m\u001b[0;34m]\u001b[0m\u001b[0;34m\u001b[0m\u001b[0m\n\u001b[1;32m      4\u001b[0m \u001b[0mSEP_concordance\u001b[0m \u001b[0;34m=\u001b[0m \u001b[0mlist\u001b[0m\u001b[0;34m(\u001b[0m\u001b[0mresult\u001b[0m\u001b[0;34m[\u001b[0m\u001b[0;36m1\u001b[0m\u001b[0;34m]\u001b[0m\u001b[0;34m[\u001b[0m\u001b[0;34m\"sepsis\"\u001b[0m\u001b[0;34m]\u001b[0m\u001b[0;34m)\u001b[0m\u001b[0;34m\u001b[0m\u001b[0m\n\u001b[1;32m      5\u001b[0m \u001b[0mSEP_IPEC\u001b[0m \u001b[0;34m=\u001b[0m \u001b[0mlist\u001b[0m\u001b[0;34m(\u001b[0m\u001b[0mresult\u001b[0m\u001b[0;34m[\u001b[0m\u001b[0;36m2\u001b[0m\u001b[0;34m]\u001b[0m\u001b[0;34m[\u001b[0m\u001b[0;34m\"sepsis\"\u001b[0m\u001b[0;34m]\u001b[0m\u001b[0;34m)\u001b[0m\u001b[0;34m\u001b[0m\u001b[0m\n",
      "\u001b[0;31mFileNotFoundError\u001b[0m: [Errno 2] No such file or directory: 'COX_results/COX_P_2.pickle'"
     ]
    }
   ],
   "source": [
    "with open(MODEL + '_results/' + MODEL + REDUCED + '_2.pickle', 'rb') as f:\n",
    "    result = pickle.load(f)\n",
    "    value = result[0]\n",
    "SEP_concordance = list(result[1][\"sepsis\"])\n",
    "SEP_IPEC = list(result[2][\"sepsis\"])\n",
    "print(value)\n",
    "print(\"SEP:\")\n",
    "print(\"concordance:\")\n",
    "print(SEP_concordance)\n",
    "print(\"best on concordance:\")\n",
    "print(\"coefficient:\", value[np.argmax(SEP_concordance)], \"| concordance:\", np.max(SEP_concordance))\n",
    "print(\"IPEC:\")\n",
    "print(SEP_IPEC)\n",
    "print(\"best on IPEC:\")\n",
    "print(\"coefficient:\", value[np.argmin(SEP_IPEC)], \"| IPEC:\", np.min(SEP_IPEC))\n"
   ]
  },
  {
   "cell_type": "code",
   "execution_count": 104,
   "metadata": {},
   "outputs": [
    {
     "data": {
      "image/png": "[encoded data removed]",
      "text/plain": [
       "<matplotlib.figure.Figure at 0x10eccda20>"
      ]
     },
     "metadata": {},
     "output_type": "display_data"
    }
   ],
   "source": [
    "plt.scatter(SEP_IPEC, SEP_concordance)\n",
    "plt.savefig(MODEL + '_results/' + MODEL + REDUCED + '_2.png')\n"
   ]
  },
  {
   "cell_type": "code",
   "execution_count": 105,
   "metadata": {},
   "outputs": [
    {
     "data": {
      "text/plain": [
       "<matplotlib.collections.PathCollection at 0x10ee18198>"
      ]
     },
     "execution_count": 105,
     "metadata": {},
     "output_type": "execute_result"
    },
    {
     "data": {
      "image/png": "[encoded data removed]",
      "text/plain": [
       "<matplotlib.figure.Figure at 0x10ed38940>"
      ]
     },
     "metadata": {},
     "output_type": "display_data"
    }
   ],
   "source": [
    "plt.scatter(value, SEP_concordance)\n"
   ]
  },
  {
   "cell_type": "code",
   "execution_count": 106,
   "metadata": {},
   "outputs": [
    {
     "data": {
      "text/plain": [
       "<matplotlib.collections.PathCollection at 0x10eed3ba8>"
      ]
     },
     "execution_count": 106,
     "metadata": {},
     "output_type": "execute_result"
    },
    {
     "data": {
      "image/png": "[encoded data removed]",
      "text/plain": [
       "<matplotlib.figure.Figure at 0x10ed98748>"
      ]
     },
     "metadata": {},
     "output_type": "display_data"
    }
   ],
   "source": [
    "plt.scatter(value, SEP_IPEC)\n"
   ]
  },
  {
   "cell_type": "code",
   "execution_count": null,
   "metadata": {},
   "outputs": [],
   "source": []
  }
 ],
 "metadata": {
  "kernelspec": {
   "display_name": "Python 3",
   "language": "python",
   "name": "python3"
  },
  "language_info": {
   "codemirror_mode": {
    "name": "ipython",
    "version": 3
   },
   "file_extension": ".py",
   "mimetype": "text/x-python",
   "name": "python",
   "nbconvert_exporter": "python",
   "pygments_lexer": "ipython3",
   "version": "3.6.5"
  }
 },
 "nbformat": 4,
 "nbformat_minor": 2
}
