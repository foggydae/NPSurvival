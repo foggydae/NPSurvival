{
 "cells": [
  {
   "cell_type": "markdown",
   "metadata": {},
   "source": [
    "## Read Result\n"
   ]
  },
  {
   "cell_type": "code",
   "execution_count": 6,
   "metadata": {},
   "outputs": [],
   "source": [
    "import pickle\n",
    "import operator    \n",
    "import re\n",
    "import numpy as np\n",
    "import matplotlib.pyplot as plt\n"
   ]
  },
  {
   "cell_type": "markdown",
   "metadata": {},
   "source": [
    "###  RSF"
   ]
  },
  {
   "cell_type": "markdown",
   "metadata": {},
   "source": [
    "#### reduced\n"
   ]
  },
  {
   "cell_type": "code",
   "execution_count": 131,
   "metadata": {},
   "outputs": [],
   "source": [
    "n_components = 25\n",
    "RSF_reduced_n_trees = [50]\n",
    "\n",
    "with open('RSF_results/RSF_P_01.pickle', 'rb') as f:\n",
    "    result = pickle.load(f)\n",
    "    RSF_reduced_max_features = result[0]\n",
    "    RSF_reduced_max_depths = result[1]\n",
    "    RSF_reduced_result = result[2:]\n"
   ]
  },
  {
   "cell_type": "code",
   "execution_count": 135,
   "metadata": {},
   "outputs": [
    {
     "name": "stdout",
     "output_type": "stream",
     "text": [
      "RSF reduced - PAN:\n",
      "best on concordance:\n",
      "n_tree, max_feature, max_depth: (50, 20, 3) | concordance: 0.5730704665704667\n",
      "best on IPEC:\n",
      "n_tree, max_feature, max_depth: (50, 20, 3) | IPEC: 1.9541753518974598\n",
      "\n",
      "RSF reduced - ICH:\n",
      "best on concordance:\n",
      "n_tree, max_feature, max_depth: (50, 40, 6) | concordance: 0.5952223771348901\n",
      "best on IPEC:\n",
      "n_tree, max_feature, max_depth: (50, 80, 6) | IPEC: 1.7582790761672764\n"
     ]
    }
   ],
   "source": [
    "RSF_reduced_dict = {}\n",
    "for n_tree in RSF_reduced_n_trees:\n",
    "    for row, max_feature in enumerate(RSF_reduced_max_features):\n",
    "        for col, max_depth in enumerate(RSF_reduced_max_depths):\n",
    "            RSF_reduced_dict[(n_tree, max_feature, max_depth)] = {\n",
    "                \"conc_PAN\": RSF_reduced_result[0][\"pancreatitis\"][row][col],\n",
    "                \"conc_ICH\": RSF_reduced_result[0][\"ich\"][row][col],\n",
    "                \"ipec_PAN\": RSF_reduced_result[1][\"pancreatitis\"][row][col],\n",
    "                \"ipec_ICH\": RSF_reduced_result[1][\"ich\"][row][col]                \n",
    "            }\n",
    "                \n",
    "RSF_reduced_PAN_concordance_best = max(RSF_reduced_dict.items(), key=lambda x:x[1][\"conc_PAN\"])\n",
    "RSF_reduced_ICH_concordance_best = max(RSF_reduced_dict.items(), key=lambda x:x[1][\"conc_ICH\"])\n",
    "RSF_reduced_PAN_IPEC_best = min(RSF_reduced_dict.items(), key=lambda x:x[1][\"ipec_PAN\"])\n",
    "RSF_reduced_ICH_IPEC_best = min(RSF_reduced_dict.items(), key=lambda x:x[1][\"ipec_ICH\"])\n",
    "\n",
    "print(\"RSF reduced - PAN:\")\n",
    "print(\"best on concordance:\")\n",
    "print(\"n_tree, max_feature, max_depth:\", RSF_reduced_PAN_concordance_best[0], \"| concordance:\", RSF_reduced_PAN_concordance_best[1][\"conc_PAN\"])\n",
    "print(\"best on IPEC:\")\n",
    "print(\"n_tree, max_feature, max_depth:\", RSF_reduced_PAN_IPEC_best[0], \"| IPEC:\", RSF_reduced_PAN_IPEC_best[1][\"ipec_PAN\"])\n",
    "print()\n",
    "print(\"RSF reduced - ICH:\")\n",
    "print(\"best on concordance:\")\n",
    "print(\"n_tree, max_feature, max_depth:\", RSF_reduced_ICH_concordance_best[0], \"| concordance:\", RSF_reduced_ICH_concordance_best[1][\"conc_ICH\"])\n",
    "print(\"best on IPEC:\")\n",
    "print(\"n_tree, max_feature, max_depth:\", RSF_reduced_ICH_IPEC_best[0], \"| IPEC:\", RSF_reduced_ICH_IPEC_best[1][\"ipec_ICH\"])\n"
   ]
  },
  {
   "cell_type": "markdown",
   "metadata": {},
   "source": [
    "#### without reduction\n"
   ]
  },
  {
   "cell_type": "code",
   "execution_count": 95,
   "metadata": {},
   "outputs": [],
   "source": [
    "RSF_n_trees = [20, 50]\n",
    "RSF_max_features = [10, 20, 40, 60, 80, 200]\n",
    "RSF_max_depths = [5, 10, 15]\n",
    "RSF_dict = {}\n",
    "\n",
    "with open('RSF_results/RSF.out', 'r') as f:\n",
    "    dataset = 'PAN'\n",
    "    n_tree = 20\n",
    "    max_feature = 10\n",
    "    max_depth = 5\n",
    "    for line in f:\n",
    "        if re.match(r'For the ich dataset:', line):\n",
    "            dataset = 'ICH'\n",
    "            continue\n",
    "        if re.match(r'\\[LOG\\] n_tree', line):\n",
    "            tokens = line.split(\" = \")\n",
    "            n_tree = int(tokens[1].split(\",\")[0])\n",
    "            max_feature = int(tokens[2].split(\",\")[0])\n",
    "            max_depth = int(tokens[3].split(\"\\n\")[0])\n",
    "            if (n_tree, max_feature, max_depth) not in RSF_dict:\n",
    "                RSF_dict[(n_tree, max_feature, max_depth)] = {}\n",
    "        if re.match(r'\\[LOG\\] avg\\. concordance', line):\n",
    "            concordance = float(line.split(\": \")[1])\n",
    "            RSF_dict[(n_tree, max_feature, max_depth)][\"conc_\" + dataset] = concordance\n",
    "        if re.match(r'\\[LOG\\] avg\\. ipec', line):\n",
    "            ipec_score = float(line.split(\": \")[1])\n",
    "            RSF_dict[(n_tree, max_feature, max_depth)][\"ipec_\" + dataset] = ipec_score\n",
    " "
   ]
  },
  {
   "cell_type": "code",
   "execution_count": 96,
   "metadata": {},
   "outputs": [
    {
     "name": "stdout",
     "output_type": "stream",
     "text": [
      "RSF reduced - PAN:\n",
      "best on concordance:\n",
      "n_tree, max_feature, max_depth: (50, 20, 10) | concordance: 0.559587542087542\n",
      "best on IPEC:\n",
      "n_tree, max_feature, max_depth: (50, 40, 5) | IPEC: 0.18194392586255279\n",
      "\n",
      "RSF reduced - ICH:\n",
      "best on concordance:\n",
      "n_tree, max_feature, max_depth: (20, 10, 5) | concordance: 0.586682119205298\n",
      "best on IPEC:\n",
      "n_tree, max_feature, max_depth: (20, 80, 5) | IPEC: 0.18125757444497248\n"
     ]
    }
   ],
   "source": [
    "RSF_PAN_concordance_best = max(RSF_dict.items(), key=lambda x:x[1][\"conc_PAN\"])\n",
    "RSF_ICH_concordance_best = max(RSF_dict.items(), key=lambda x:x[1][\"conc_ICH\"])\n",
    "RSF_PAN_IPEC_best = min(RSF_dict.items(), key=lambda x:x[1][\"ipec_PAN\"])\n",
    "RSF_ICH_IPEC_best = min(RSF_dict.items(), key=lambda x:x[1][\"ipec_ICH\"])\n",
    "\n",
    "print(\"RSF reduced - PAN:\")\n",
    "print(\"best on concordance:\")\n",
    "print(\"n_tree, max_feature, max_depth:\", RSF_PAN_concordance_best[0], \"| concordance:\", RSF_PAN_concordance_best[1][\"conc_PAN\"])\n",
    "print(\"best on IPEC:\")\n",
    "print(\"n_tree, max_feature, max_depth:\", RSF_PAN_IPEC_best[0], \"| IPEC:\", RSF_PAN_IPEC_best[1][\"ipec_PAN\"])\n",
    "print()\n",
    "print(\"RSF reduced - ICH:\")\n",
    "print(\"best on concordance:\")\n",
    "print(\"n_tree, max_feature, max_depth:\", RSF_ICH_concordance_best[0], \"| concordance:\", RSF_ICH_concordance_best[1][\"conc_ICH\"])\n",
    "print(\"best on IPEC:\")\n",
    "print(\"n_tree, max_feature, max_depth:\", RSF_ICH_IPEC_best[0], \"| IPEC:\", RSF_ICH_IPEC_best[1][\"ipec_ICH\"])\n"
   ]
  },
  {
   "cell_type": "markdown",
   "metadata": {},
   "source": [
    "## New Results\n"
   ]
  },
  {
   "cell_type": "markdown",
   "metadata": {},
   "source": [
    "### Pancreatitis and Ich\n"
   ]
  },
  {
   "cell_type": "code",
   "execution_count": 8,
   "metadata": {},
   "outputs": [
    {
     "name": "stdout",
     "output_type": "stream",
     "text": [
      "[0.0001, 0.01, 0.02, 0.03, 0.04, 0.05, 0.07, 0.09]\n",
      "PAN:\n",
      "concordance:\n",
      "[0.5730101010101011, 0.5737898027898027, 0.5722751322751324, 0.5710317460317461, 0.5693006253006253, 0.568430735930736, 0.5634973544973545, 0.5593405483405484]\n",
      "best on concordance:\n",
      "coefficient: 0.01 | concordance: 0.5737898027898027\n",
      "IPEC:\n",
      "[0.1825160491311066, 0.1821284149052146, 0.18193802921016808, 0.18179335590733556, 0.18184891882922616, 0.18205052309593497, 0.1828051369383863, 0.18372030661529215]\n",
      "best on IPEC:\n",
      "coefficient: 0.03 | IPEC: 0.18179335590733556\n"
     ]
    }
   ],
   "source": [
    "MODEL = \"COX\"\n",
    "REDUCED = \"_P\"\n",
    "TAIL = '_1105_2215'\n",
    "# REDUCED = \"\"\n",
    "# TAIL = '_1105_1857'\n",
    "\n",
    "with open(MODEL + '_results/' + MODEL + REDUCED + '_0' + TAIL + '.pickle', 'rb') as f:\n",
    "    result = pickle.load(f)\n",
    "    value = result[0]\n",
    "\n",
    "PAN_concordance = list(result[1][\"pancreatitis\"])\n",
    "PAN_IPEC = list(result[2][\"pancreatitis\"])\n",
    "\n",
    "print(value)\n",
    "print(\"PAN:\")\n",
    "print(\"concordance:\")\n",
    "print(PAN_concordance)\n",
    "print(\"best on concordance:\")\n",
    "print(\"coefficient:\", value[np.argmax(PAN_concordance)], \"| concordance:\", np.max(PAN_concordance))\n",
    "print(\"IPEC:\")\n",
    "print(PAN_IPEC)\n",
    "print(\"best on IPEC:\")\n",
    "print(\"coefficient:\", value[np.argmin(PAN_IPEC)], \"| IPEC:\", np.min(PAN_IPEC))\n"
   ]
  },
  {
   "cell_type": "code",
   "execution_count": 9,
   "metadata": {},
   "outputs": [
    {
     "data": {
      "image/png": "[encoded data removed]",
      "text/plain": [
       "<matplotlib.figure.Figure at 0x10d6b17b8>"
      ]
     },
     "metadata": {},
     "output_type": "display_data"
    }
   ],
   "source": [
    "plt.scatter(PAN_IPEC, PAN_concordance)\n",
    "plt.savefig(MODEL + '_results/' + MODEL + REDUCED + '_0.png')\n"
   ]
  },
  {
   "cell_type": "code",
   "execution_count": 10,
   "metadata": {},
   "outputs": [
    {
     "data": {
      "text/plain": [
       "<matplotlib.collections.PathCollection at 0x10d8c5fd0>"
      ]
     },
     "execution_count": 10,
     "metadata": {},
     "output_type": "execute_result"
    },
    {
     "data": {
      "image/png": "[encoded data removed]",
      "text/plain": [
       "<matplotlib.figure.Figure at 0x10d44c940>"
      ]
     },
     "metadata": {},
     "output_type": "display_data"
    }
   ],
   "source": [
    "plt.scatter(value, PAN_concordance)\n"
   ]
  },
  {
   "cell_type": "code",
   "execution_count": 11,
   "metadata": {},
   "outputs": [
    {
     "data": {
      "text/plain": [
       "<matplotlib.collections.PathCollection at 0x10d635898>"
      ]
     },
     "execution_count": 11,
     "metadata": {},
     "output_type": "execute_result"
    },
    {
     "data": {
      "image/png": "[encoded data removed]",
      "text/plain": [
       "<matplotlib.figure.Figure at 0x10d232710>"
      ]
     },
     "metadata": {},
     "output_type": "display_data"
    }
   ],
   "source": [
    "plt.scatter(value, PAN_IPEC)\n"
   ]
  },
  {
   "cell_type": "code",
   "execution_count": 12,
   "metadata": {},
   "outputs": [
    {
     "name": "stdout",
     "output_type": "stream",
     "text": [
      "[0.0001, 0.01, 0.02, 0.03, 0.04, 0.05, 0.07, 0.09]\n",
      "ICH:\n",
      "concordance:\n",
      "[0.5890788892761706, 0.5918909027535727, 0.5916985012199373, 0.5876929243638898, 0.5835284071104915, 0.582224236086906, 0.5767898222377135, 0.5703647031486]\n",
      "best on concordance:\n",
      "coefficient: 0.01 | concordance: 0.5918909027535727\n",
      "IPEC:\n",
      "[0.17989169791077356, 0.18047417763706247, 0.18118256111190656, 0.1821867048105869, 0.18308944252153872, 0.18367980153470015, 0.18444603218830347, 0.18550961269481497]\n",
      "best on IPEC:\n",
      "coefficient: 0.0001 | IPEC: 0.17989169791077356\n"
     ]
    }
   ],
   "source": [
    "MODEL = \"COX\"\n",
    "REDUCED = \"_P\"\n",
    "TAIL = '_1105_2154'\n",
    "# REDUCED = \"\"\n",
    "# TAIL = \"_1105_2048\"\n",
    "\n",
    "with open(MODEL + '_results/' + MODEL + REDUCED + '_1' + TAIL + '.pickle', 'rb') as f:\n",
    "    result = pickle.load(f)\n",
    "    value = result[0]\n",
    "\n",
    "ICH_concordance = list(result[1][\"ich\"])\n",
    "ICH_IPEC = list(result[2][\"ich\"])\n",
    "\n",
    "print(value)\n",
    "print(\"ICH:\")\n",
    "print(\"concordance:\")\n",
    "print(ICH_concordance)\n",
    "print(\"best on concordance:\")\n",
    "print(\"coefficient:\", value[np.argmax(ICH_concordance)], \"| concordance:\", np.max(ICH_concordance))\n",
    "print(\"IPEC:\")\n",
    "print(ICH_IPEC)\n",
    "print(\"best on IPEC:\")\n",
    "print(\"coefficient:\", value[np.argmin(ICH_IPEC)], \"| IPEC:\", np.min(ICH_IPEC))\n"
   ]
  },
  {
   "cell_type": "code",
   "execution_count": 13,
   "metadata": {},
   "outputs": [
    {
     "data": {
      "image/png": "[encoded data removed]",
      "text/plain": [
       "<matplotlib.figure.Figure at 0x10d232438>"
      ]
     },
     "metadata": {},
     "output_type": "display_data"
    }
   ],
   "source": [
    "plt.scatter(ICH_IPEC, ICH_concordance)\n",
    "plt.savefig(MODEL + '_results/' + MODEL + REDUCED + '_1.png')\n"
   ]
  },
  {
   "cell_type": "code",
   "execution_count": 14,
   "metadata": {},
   "outputs": [
    {
     "data": {
      "text/plain": [
       "<matplotlib.collections.PathCollection at 0x10dc9b9b0>"
      ]
     },
     "execution_count": 14,
     "metadata": {},
     "output_type": "execute_result"
    },
    {
     "data": {
      "image/png": "[encoded data removed]",
      "text/plain": [
       "<matplotlib.figure.Figure at 0x10d48a9b0>"
      ]
     },
     "metadata": {},
     "output_type": "display_data"
    }
   ],
   "source": [
    "plt.scatter(value, ICH_concordance)\n"
   ]
  },
  {
   "cell_type": "code",
   "execution_count": 15,
   "metadata": {},
   "outputs": [
    {
     "data": {
      "text/plain": [
       "<matplotlib.collections.PathCollection at 0x10dbcce48>"
      ]
     },
     "execution_count": 15,
     "metadata": {},
     "output_type": "execute_result"
    },
    {
     "data": {
      "image/png": "[encoded data removed]",
      "text/plain": [
       "<matplotlib.figure.Figure at 0x10d7af630>"
      ]
     },
     "metadata": {},
     "output_type": "display_data"
    }
   ],
   "source": [
    "plt.scatter(value, ICH_IPEC)\n"
   ]
  },
  {
   "cell_type": "code",
   "execution_count": 3,
   "metadata": {},
   "outputs": [
    {
     "name": "stdout",
     "output_type": "stream",
     "text": [
      "[0.0001, 0.01, 0.02, 0.03, 0.04, 0.05, 0.06, 0.07, 0.08, 0.09, 0.1, 0.11, 0.12, 0.13, 0.14, 0.15]\n",
      "ICH:\n",
      "concordance:\n",
      "[0.507775531544092, 0.5360370628558151, 0.5557873823631928, 0.5747256883931684, 0.5942873242709423, 0.6121192052980132, 0.6085878935749971, 0.6035591960032531, 0.6013149761821773, 0.6009091437202277, 0.6012446845590798, 0.6016132217962123, 0.5999587545021494, 0.597615777855234, 0.5963851516207737, 0.5949674683397235]\n",
      "best on concordance:\n",
      "coefficient: 0.05 | concordance: 0.6121192052980132\n",
      "IPEC:\n",
      "[3.2519372049200745, 2.60858693930492, 2.596380531898638, 2.4825383090112543, 2.3120263590887316, 2.126985973136016, 2.021785994672357, 1.9870672891137542, 1.992729280652382, 1.9976016039583016, 2.0067390240152596, 2.0140313653701143, 2.0309459716695146, 2.022844657441902, 2.011311473834777, 1.9999084577253363]\n",
      "best on IPEC:\n",
      "coefficient: 0.07 | IPEC: 1.9870672891137542\n",
      "\n",
      "PAN:\n",
      "concordance:\n",
      "[0.5264826839826839, 0.5317883597883598, 0.5487818662818662, 0.5540319865319866, 0.5557152477152478, 0.5519028379028379, 0.5492681577681577, 0.5453318903318903, 0.5407592592592593, 0.5357426647426646, 0.5324737854737854, 0.5278823953823953, 0.5224689754689755, 0.5225976430976431, 0.5227818662818663, 0.5196969696969698]\n",
      "best on concordance:\n",
      "coefficient: 0.04 | concordance: 0.5557152477152478\n",
      "IPEC:\n",
      "[3.4782612567821536, 2.828295877566681, 2.3429198710497876, 2.200862359662679, 2.105070583287632, 2.0746918790955724, 2.0507568736945556, 2.0386895580837234, 2.028914333596537, 1.9884045459937199, 1.9752359624442988, 1.9849007427435013, 1.9964808928463753, 2.0134270488077664, 2.0189355846243795, 2.022522252645298]\n",
      "best on IPEC:\n",
      "coefficient: 0.1 | IPEC: 1.9752359624442988\n"
     ]
    }
   ],
   "source": [
    "MODEL = \"COX\"\n",
    "REDUCED = \"_P\"\n",
    "REDUCED = \"\"\n",
    "\n",
    "with open(MODEL + '_results/' + MODEL + REDUCED + '_01_1105_1643.pickle', 'rb') as f:\n",
    "    result = pickle.load(f)\n",
    "    value = result[0]\n",
    "\n",
    "ICH_concordance = list(result[1][\"ich\"])\n",
    "ICH_IPEC = list(result[2][\"ich\"])\n",
    "PAN_concordance = list(result[1][\"pancreatitis\"])\n",
    "PAN_IPEC = list(result[2][\"pancreatitis\"])\n",
    "\n",
    "print(value)\n",
    "print(\"ICH:\")\n",
    "print(\"concordance:\")\n",
    "print(ICH_concordance)\n",
    "print(\"best on concordance:\")\n",
    "print(\"coefficient:\", value[np.argmax(ICH_concordance)], \"| concordance:\", np.max(ICH_concordance))\n",
    "print(\"IPEC:\")\n",
    "print(ICH_IPEC)\n",
    "print(\"best on IPEC:\")\n",
    "print(\"coefficient:\", value[np.argmin(ICH_IPEC)], \"| IPEC:\", np.min(ICH_IPEC))\n",
    "print()\n",
    "print(\"PAN:\")\n",
    "print(\"concordance:\")\n",
    "print(PAN_concordance)\n",
    "print(\"best on concordance:\")\n",
    "print(\"coefficient:\", value[np.argmax(PAN_concordance)], \"| concordance:\", np.max(PAN_concordance))\n",
    "print(\"IPEC:\")\n",
    "print(PAN_IPEC)\n",
    "print(\"best on IPEC:\")\n",
    "print(\"coefficient:\", value[np.argmin(PAN_IPEC)], \"| IPEC:\", np.min(PAN_IPEC))\n"
   ]
  },
  {
   "cell_type": "code",
   "execution_count": 4,
   "metadata": {},
   "outputs": [
    {
     "data": {
      "image/png": "[encoded data removed]",
      "text/plain": [
       "<matplotlib.figure.Figure at 0x105a04588>"
      ]
     },
     "metadata": {},
     "output_type": "display_data"
    }
   ],
   "source": [
    "plt.scatter(PAN_IPEC, PAN_concordance)\n",
    "plt.savefig(MODEL + '_results/' + MODEL + REDUCED + '_0.png')\n"
   ]
  },
  {
   "cell_type": "code",
   "execution_count": 5,
   "metadata": {},
   "outputs": [
    {
     "data": {
      "text/plain": [
       "<matplotlib.collections.PathCollection at 0x107640400>"
      ]
     },
     "execution_count": 5,
     "metadata": {},
     "output_type": "execute_result"
    },
    {
     "data": {
      "image/png": "[encoded data removed]",
      "text/plain": [
       "<matplotlib.figure.Figure at 0x1075ed160>"
      ]
     },
     "metadata": {},
     "output_type": "display_data"
    }
   ],
   "source": [
    "plt.scatter(value, PAN_concordance)\n"
   ]
  },
  {
   "cell_type": "code",
   "execution_count": 6,
   "metadata": {},
   "outputs": [
    {
     "data": {
      "text/plain": [
       "<matplotlib.collections.PathCollection at 0x1076a0e48>"
      ]
     },
     "execution_count": 6,
     "metadata": {},
     "output_type": "execute_result"
    },
    {
     "data": {
      "image/png": "[encoded data removed]",
      "text/plain": [
       "<matplotlib.figure.Figure at 0x10761c390>"
      ]
     },
     "metadata": {},
     "output_type": "display_data"
    }
   ],
   "source": [
    "plt.scatter(value, PAN_IPEC)\n"
   ]
  },
  {
   "cell_type": "code",
   "execution_count": 7,
   "metadata": {},
   "outputs": [
    {
     "data": {
      "image/png": "[encoded data removed]",
      "text/plain": [
       "<matplotlib.figure.Figure at 0x107677630>"
      ]
     },
     "metadata": {},
     "output_type": "display_data"
    }
   ],
   "source": [
    "plt.scatter(ICH_IPEC, ICH_concordance)\n",
    "plt.savefig(MODEL + '_results/' + MODEL + REDUCED + '_1.png')\n"
   ]
  },
  {
   "cell_type": "code",
   "execution_count": 8,
   "metadata": {},
   "outputs": [
    {
     "data": {
      "text/plain": [
       "<matplotlib.collections.PathCollection at 0x1077c1cc0>"
      ]
     },
     "execution_count": 8,
     "metadata": {},
     "output_type": "execute_result"
    },
    {
     "data": {
      "image/png": "[encoded data removed]",
      "text/plain": [
       "<matplotlib.figure.Figure at 0x107685400>"
      ]
     },
     "metadata": {},
     "output_type": "display_data"
    }
   ],
   "source": [
    "plt.scatter(value, ICH_concordance)\n"
   ]
  },
  {
   "cell_type": "code",
   "execution_count": 9,
   "metadata": {},
   "outputs": [
    {
     "data": {
      "text/plain": [
       "<matplotlib.collections.PathCollection at 0x1078e8128>"
      ]
     },
     "execution_count": 9,
     "metadata": {},
     "output_type": "execute_result"
    },
    {
     "data": {
      "image/png": "[encoded data removed]",
      "text/plain": [
       "<matplotlib.figure.Figure at 0x10783e198>"
      ]
     },
     "metadata": {},
     "output_type": "display_data"
    }
   ],
   "source": [
    "plt.scatter(value, ICH_IPEC)\n"
   ]
  },
  {
   "cell_type": "code",
   "execution_count": null,
   "metadata": {},
   "outputs": [],
   "source": []
  },
  {
   "cell_type": "markdown",
   "metadata": {},
   "source": [
    "### Sepsis\n"
   ]
  },
  {
   "cell_type": "code",
   "execution_count": 115,
   "metadata": {},
   "outputs": [
    {
     "ename": "FileNotFoundError",
     "evalue": "[Errno 2] No such file or directory: 'COX_results/COX_P_2.pickle'",
     "output_type": "error",
     "traceback": [
      "\u001b[0;31m---------------------------------------------------------------------------\u001b[0m",
      "\u001b[0;31mFileNotFoundError\u001b[0m                         Traceback (most recent call last)",
      "\u001b[0;32m<ipython-input-115-0d007919ae2e>\u001b[0m in \u001b[0;36m<module>\u001b[0;34m()\u001b[0m\n\u001b[0;32m----> 1\u001b[0;31m \u001b[0;32mwith\u001b[0m \u001b[0mopen\u001b[0m\u001b[0;34m(\u001b[0m\u001b[0mMODEL\u001b[0m \u001b[0;34m+\u001b[0m \u001b[0;34m'_results/'\u001b[0m \u001b[0;34m+\u001b[0m \u001b[0mMODEL\u001b[0m \u001b[0;34m+\u001b[0m \u001b[0mREDUCED\u001b[0m \u001b[0;34m+\u001b[0m \u001b[0;34m'_2.pickle'\u001b[0m\u001b[0;34m,\u001b[0m \u001b[0;34m'rb'\u001b[0m\u001b[0;34m)\u001b[0m \u001b[0;32mas\u001b[0m \u001b[0mf\u001b[0m\u001b[0;34m:\u001b[0m\u001b[0;34m\u001b[0m\u001b[0m\n\u001b[0m\u001b[1;32m      2\u001b[0m     \u001b[0mresult\u001b[0m \u001b[0;34m=\u001b[0m \u001b[0mpickle\u001b[0m\u001b[0;34m.\u001b[0m\u001b[0mload\u001b[0m\u001b[0;34m(\u001b[0m\u001b[0mf\u001b[0m\u001b[0;34m)\u001b[0m\u001b[0;34m\u001b[0m\u001b[0m\n\u001b[1;32m      3\u001b[0m     \u001b[0mvalue\u001b[0m \u001b[0;34m=\u001b[0m \u001b[0mresult\u001b[0m\u001b[0;34m[\u001b[0m\u001b[0;36m0\u001b[0m\u001b[0;34m]\u001b[0m\u001b[0;34m\u001b[0m\u001b[0m\n\u001b[1;32m      4\u001b[0m \u001b[0mSEP_concordance\u001b[0m \u001b[0;34m=\u001b[0m \u001b[0mlist\u001b[0m\u001b[0;34m(\u001b[0m\u001b[0mresult\u001b[0m\u001b[0;34m[\u001b[0m\u001b[0;36m1\u001b[0m\u001b[0;34m]\u001b[0m\u001b[0;34m[\u001b[0m\u001b[0;34m\"sepsis\"\u001b[0m\u001b[0;34m]\u001b[0m\u001b[0;34m)\u001b[0m\u001b[0;34m\u001b[0m\u001b[0m\n\u001b[1;32m      5\u001b[0m \u001b[0mSEP_IPEC\u001b[0m \u001b[0;34m=\u001b[0m \u001b[0mlist\u001b[0m\u001b[0;34m(\u001b[0m\u001b[0mresult\u001b[0m\u001b[0;34m[\u001b[0m\u001b[0;36m2\u001b[0m\u001b[0;34m]\u001b[0m\u001b[0;34m[\u001b[0m\u001b[0;34m\"sepsis\"\u001b[0m\u001b[0;34m]\u001b[0m\u001b[0;34m)\u001b[0m\u001b[0;34m\u001b[0m\u001b[0m\n",
      "\u001b[0;31mFileNotFoundError\u001b[0m: [Errno 2] No such file or directory: 'COX_results/COX_P_2.pickle'"
     ]
    }
   ],
   "source": [
    "with open(MODEL + '_results/' + MODEL + REDUCED + '_2.pickle', 'rb') as f:\n",
    "    result = pickle.load(f)\n",
    "    value = result[0]\n",
    "SEP_concordance = list(result[1][\"sepsis\"])\n",
    "SEP_IPEC = list(result[2][\"sepsis\"])\n",
    "print(value)\n",
    "print(\"SEP:\")\n",
    "print(\"concordance:\")\n",
    "print(SEP_concordance)\n",
    "print(\"best on concordance:\")\n",
    "print(\"coefficient:\", value[np.argmax(SEP_concordance)], \"| concordance:\", np.max(SEP_concordance))\n",
    "print(\"IPEC:\")\n",
    "print(SEP_IPEC)\n",
    "print(\"best on IPEC:\")\n",
    "print(\"coefficient:\", value[np.argmin(SEP_IPEC)], \"| IPEC:\", np.min(SEP_IPEC))\n"
   ]
  },
  {
   "cell_type": "code",
   "execution_count": 104,
   "metadata": {},
   "outputs": [
    {
     "data": {
      "image/png": "[encoded data removed]",
      "text/plain": [
       "<matplotlib.figure.Figure at 0x10eccda20>"
      ]
     },
     "metadata": {},
     "output_type": "display_data"
    }
   ],
   "source": [
    "plt.scatter(SEP_IPEC, SEP_concordance)\n",
    "plt.savefig(MODEL + '_results/' + MODEL + REDUCED + '_2.png')\n"
   ]
  },
  {
   "cell_type": "code",
   "execution_count": 105,
   "metadata": {},
   "outputs": [
    {
     "data": {
      "text/plain": [
       "<matplotlib.collections.PathCollection at 0x10ee18198>"
      ]
     },
     "execution_count": 105,
     "metadata": {},
     "output_type": "execute_result"
    },
    {
     "data": {
      "image/png": "[encoded data removed]",
      "text/plain": [
       "<matplotlib.figure.Figure at 0x10ed38940>"
      ]
     },
     "metadata": {},
     "output_type": "display_data"
    }
   ],
   "source": [
    "plt.scatter(value, SEP_concordance)\n"
   ]
  },
  {
   "cell_type": "code",
   "execution_count": 106,
   "metadata": {},
   "outputs": [
    {
     "data": {
      "text/plain": [
       "<matplotlib.collections.PathCollection at 0x10eed3ba8>"
      ]
     },
     "execution_count": 106,
     "metadata": {},
     "output_type": "execute_result"
    },
    {
     "data": {
      "image/png": "[encoded data removed]",
      "text/plain": [
       "<matplotlib.figure.Figure at 0x10ed98748>"
      ]
     },
     "metadata": {},
     "output_type": "display_data"
    }
   ],
   "source": [
    "plt.scatter(value, SEP_IPEC)\n"
   ]
  },
  {
   "cell_type": "code",
   "execution_count": null,
   "metadata": {},
   "outputs": [],
   "source": []
  }
 ],
 "metadata": {
  "kernelspec": {
   "display_name": "Python 3",
   "language": "python",
   "name": "python3"
  },
  "language_info": {
   "codemirror_mode": {
    "name": "ipython",
    "version": 3
   },
   "file_extension": ".py",
   "mimetype": "text/x-python",
   "name": "python",
   "nbconvert_exporter": "python",
   "pygments_lexer": "ipython3",
   "version": "3.6.5"
  }
 },
 "nbformat": 4,
 "nbformat_minor": 2
}
