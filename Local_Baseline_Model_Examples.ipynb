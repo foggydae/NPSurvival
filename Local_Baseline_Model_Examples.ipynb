{
 "cells": [
  {
   "cell_type": "code",
   "execution_count": 1,
   "metadata": {
    "scrolled": false
   },
   "outputs": [
    {
     "name": "stderr",
     "output_type": "stream",
     "text": [
      "Using TensorFlow backend.\n"
     ]
    }
   ],
   "source": [
    "from npsurvival.FeatureEngineer import FeatureEngineer\n",
    "from npsurvival.Utils import model_prepare\n",
    "from npsurvival.Utils import calculate_dataset_size\n",
    "from npsurvival.Utils import evaluate_predict_result\n",
    "from npsurvival.IPEC import IPEC\n",
    "\n",
    "from npsurvival.RandomSurvivalForest import RandomSurvivalForest\n",
    "from npsurvival.CoxPHModel import CoxPHModel\n",
    "from npsurvival.KNNKaplanMeier import KNNKaplanMeier\n",
    "from npsurvival.AalenAdditiveModel import AalenAdditiveModel\n",
    "\n",
    "import numpy as np\n"
   ]
  },
  {
   "cell_type": "code",
   "execution_count": 2,
   "metadata": {
    "scrolled": true
   },
   "outputs": [],
   "source": [
    "fe = FeatureEngineer(verbose=False, data_path=\"../../dataset/\")\n",
    "sources = fe.get_diseases_list()\n"
   ]
  },
  {
   "cell_type": "code",
   "execution_count": 3,
   "metadata": {},
   "outputs": [
    {
     "name": "stderr",
     "output_type": "stream",
     "text": [
      "/usr/local/lib/python3.6/site-packages/fancyimpute/soft_impute.py:100: RuntimeWarning: divide by zero encountered in double_scalars\n",
      "  return (np.sqrt(ssd) / old_norm) < self.convergence_threshold\n"
     ]
    }
   ],
   "source": [
    "dataset_idx = 0\n",
    "file_prefix = \"\"\n",
    "low_event_thd = 0.03\n",
    "low_value_thd = low_event_thd / 3\n",
    "patient_dict, feature_set, train_id_list, test_id_list = \\\n",
    "    fe.load_data_as_dict(dataset_idx, file_prefix=file_prefix, \n",
    "                         low_freq_event_thd=low_event_thd, \n",
    "                         low_freq_value_thd=low_value_thd)\n",
    "train_df, test_df, feature_list = \\\n",
    "    model_prepare(patient_dict, feature_set, train_id_list, test_id_list)\n"
   ]
  },
  {
   "cell_type": "code",
   "execution_count": 7,
   "metadata": {},
   "outputs": [
    {
     "name": "stdout",
     "output_type": "stream",
     "text": [
      "0.7832160578632994\n"
     ]
    },
    {
     "data": {
      "text/html": [
       "<div>\n",
       "<style scoped>\n",
       "    .dataframe tbody tr th:only-of-type {\n",
       "        vertical-align: middle;\n",
       "    }\n",
       "\n",
       "    .dataframe tbody tr th {\n",
       "        vertical-align: top;\n",
       "    }\n",
       "\n",
       "    .dataframe thead th {\n",
       "        text-align: right;\n",
       "    }\n",
       "</style>\n",
       "<table border=\"1\" class=\"dataframe\">\n",
       "  <thead>\n",
       "    <tr style=\"text-align: right;\">\n",
       "      <th></th>\n",
       "      <th>0</th>\n",
       "      <th>1</th>\n",
       "      <th>2</th>\n",
       "      <th>3</th>\n",
       "      <th>4</th>\n",
       "      <th>LOS</th>\n",
       "      <th>OUT</th>\n",
       "    </tr>\n",
       "  </thead>\n",
       "  <tbody>\n",
       "    <tr>\n",
       "      <th>1030.0</th>\n",
       "      <td>44.311848</td>\n",
       "      <td>-14.000458</td>\n",
       "      <td>10.972961</td>\n",
       "      <td>11.884740</td>\n",
       "      <td>-1.351692</td>\n",
       "      <td>3.429572</td>\n",
       "      <td>1</td>\n",
       "    </tr>\n",
       "    <tr>\n",
       "      <th>82960.0</th>\n",
       "      <td>23.445461</td>\n",
       "      <td>38.557584</td>\n",
       "      <td>-11.105762</td>\n",
       "      <td>14.825832</td>\n",
       "      <td>-4.548299</td>\n",
       "      <td>2.721134</td>\n",
       "      <td>1</td>\n",
       "    </tr>\n",
       "    <tr>\n",
       "      <th>77842.0</th>\n",
       "      <td>42.559290</td>\n",
       "      <td>13.425733</td>\n",
       "      <td>13.134972</td>\n",
       "      <td>2.314506</td>\n",
       "      <td>14.306481</td>\n",
       "      <td>32.856181</td>\n",
       "      <td>1</td>\n",
       "    </tr>\n",
       "    <tr>\n",
       "      <th>15379.0</th>\n",
       "      <td>-35.822291</td>\n",
       "      <td>-6.130450</td>\n",
       "      <td>-0.151834</td>\n",
       "      <td>5.678025</td>\n",
       "      <td>-0.825627</td>\n",
       "      <td>0.981250</td>\n",
       "      <td>1</td>\n",
       "    </tr>\n",
       "    <tr>\n",
       "      <th>81938.0</th>\n",
       "      <td>-10.160845</td>\n",
       "      <td>1.253623</td>\n",
       "      <td>0.958453</td>\n",
       "      <td>-3.389403</td>\n",
       "      <td>1.539441</td>\n",
       "      <td>2.917454</td>\n",
       "      <td>1</td>\n",
       "    </tr>\n",
       "  </tbody>\n",
       "</table>\n",
       "</div>"
      ],
      "text/plain": [
       "                 0          1          2          3          4        LOS  OUT\n",
       "1030.0   44.311848 -14.000458  10.972961  11.884740  -1.351692   3.429572    1\n",
       "82960.0  23.445461  38.557584 -11.105762  14.825832  -4.548299   2.721134    1\n",
       "77842.0  42.559290  13.425733  13.134972   2.314506  14.306481  32.856181    1\n",
       "15379.0 -35.822291  -6.130450  -0.151834   5.678025  -0.825627   0.981250    1\n",
       "81938.0 -10.160845   1.253623   0.958453  -3.389403   1.539441   2.917454    1"
      ]
     },
     "execution_count": 7,
     "metadata": {},
     "output_type": "execute_result"
    }
   ],
   "source": [
    "from sklearn.preprocessing import StandardScaler\n",
    "from sklearn.decomposition import PCA\n",
    "import pandas as pd\n",
    "\n",
    "pca = PCA(n_components=5)\n",
    "scaler = StandardScaler()\n",
    "train_x = train_df.drop(columns=[\"LOS\", \"OUT\"]).values\n",
    "scaler.fit(train_x)\n",
    "train_x = scaler.transform(train_x)\n",
    "pca.fit(train_x)\n",
    "reduced_x = pca.transform(train_x)\n",
    "print(sum(pca.explained_variance_ratio_))\n",
    "reduced_df = pd.DataFrame(reduced_x).set_index(train_df.index)\n",
    "reduced_df[\"LOS\"] = train_df[\"LOS\"]\n",
    "reduced_df[\"OUT\"] = train_df[\"OUT\"]\n",
    "reduced_df.head(5)\n"
   ]
  },
  {
   "cell_type": "code",
   "execution_count": 5,
   "metadata": {},
   "outputs": [
    {
     "data": {
      "text/html": [
       "<div>\n",
       "<style scoped>\n",
       "    .dataframe tbody tr th:only-of-type {\n",
       "        vertical-align: middle;\n",
       "    }\n",
       "\n",
       "    .dataframe tbody tr th {\n",
       "        vertical-align: top;\n",
       "    }\n",
       "\n",
       "    .dataframe thead th {\n",
       "        text-align: right;\n",
       "    }\n",
       "</style>\n",
       "<table border=\"1\" class=\"dataframe\">\n",
       "  <thead>\n",
       "    <tr style=\"text-align: right;\">\n",
       "      <th></th>\n",
       "      <th>0</th>\n",
       "      <th>1</th>\n",
       "      <th>2</th>\n",
       "      <th>3</th>\n",
       "      <th>4</th>\n",
       "      <th>LOS</th>\n",
       "      <th>OUT</th>\n",
       "    </tr>\n",
       "  </thead>\n",
       "  <tbody>\n",
       "    <tr>\n",
       "      <th>1030.0</th>\n",
       "      <td>-2429.670608</td>\n",
       "      <td>3858.513236</td>\n",
       "      <td>-1844.603853</td>\n",
       "      <td>276.895009</td>\n",
       "      <td>-1380.110650</td>\n",
       "      <td>3.429572</td>\n",
       "      <td>1</td>\n",
       "    </tr>\n",
       "    <tr>\n",
       "      <th>82960.0</th>\n",
       "      <td>14931.364400</td>\n",
       "      <td>3867.634699</td>\n",
       "      <td>-107.109033</td>\n",
       "      <td>-346.569587</td>\n",
       "      <td>-117.876588</td>\n",
       "      <td>2.721134</td>\n",
       "      <td>1</td>\n",
       "    </tr>\n",
       "    <tr>\n",
       "      <th>77842.0</th>\n",
       "      <td>2099.801750</td>\n",
       "      <td>1694.666033</td>\n",
       "      <td>-1575.863347</td>\n",
       "      <td>7388.614597</td>\n",
       "      <td>2077.368343</td>\n",
       "      <td>32.856181</td>\n",
       "      <td>1</td>\n",
       "    </tr>\n",
       "    <tr>\n",
       "      <th>15379.0</th>\n",
       "      <td>-510.685160</td>\n",
       "      <td>-1761.479920</td>\n",
       "      <td>356.680460</td>\n",
       "      <td>-260.077089</td>\n",
       "      <td>258.367008</td>\n",
       "      <td>0.981250</td>\n",
       "      <td>1</td>\n",
       "    </tr>\n",
       "    <tr>\n",
       "      <th>81938.0</th>\n",
       "      <td>-321.637477</td>\n",
       "      <td>-1175.026586</td>\n",
       "      <td>162.049916</td>\n",
       "      <td>-26.137027</td>\n",
       "      <td>-51.236292</td>\n",
       "      <td>2.917454</td>\n",
       "      <td>1</td>\n",
       "    </tr>\n",
       "  </tbody>\n",
       "</table>\n",
       "</div>"
      ],
      "text/plain": [
       "                    0            1            2            3            4  \\\n",
       "1030.0   -2429.670608  3858.513236 -1844.603853   276.895009 -1380.110650   \n",
       "82960.0  14931.364400  3867.634699  -107.109033  -346.569587  -117.876588   \n",
       "77842.0   2099.801750  1694.666033 -1575.863347  7388.614597  2077.368343   \n",
       "15379.0   -510.685160 -1761.479920   356.680460  -260.077089   258.367008   \n",
       "81938.0   -321.637477 -1175.026586   162.049916   -26.137027   -51.236292   \n",
       "\n",
       "               LOS  OUT  \n",
       "1030.0    3.429572    1  \n",
       "82960.0   2.721134    1  \n",
       "77842.0  32.856181    1  \n",
       "15379.0   0.981250    1  \n",
       "81938.0   2.917454    1  "
      ]
     },
     "execution_count": 5,
     "metadata": {},
     "output_type": "execute_result"
    }
   ],
   "source": [
    "reduced_df.head()"
   ]
  },
  {
   "cell_type": "code",
   "execution_count": 70,
   "metadata": {},
   "outputs": [
    {
     "data": {
      "text/html": [
       "<div>\n",
       "<style scoped>\n",
       "    .dataframe tbody tr th:only-of-type {\n",
       "        vertical-align: middle;\n",
       "    }\n",
       "\n",
       "    .dataframe tbody tr th {\n",
       "        vertical-align: top;\n",
       "    }\n",
       "\n",
       "    .dataframe thead th {\n",
       "        text-align: right;\n",
       "    }\n",
       "</style>\n",
       "<table border=\"1\" class=\"dataframe\">\n",
       "  <thead>\n",
       "    <tr style=\"text-align: right;\">\n",
       "      <th></th>\n",
       "      <th>0</th>\n",
       "      <th>1</th>\n",
       "      <th>2</th>\n",
       "      <th>3</th>\n",
       "      <th>4</th>\n",
       "      <th>LOS</th>\n",
       "      <th>OUT</th>\n",
       "    </tr>\n",
       "  </thead>\n",
       "  <tbody>\n",
       "    <tr>\n",
       "      <th>1030.0</th>\n",
       "      <td>-2429.883850</td>\n",
       "      <td>3858.220846</td>\n",
       "      <td>-1844.501245</td>\n",
       "      <td>277.247874</td>\n",
       "      <td>-1379.772314</td>\n",
       "      <td>3.429572</td>\n",
       "      <td>1</td>\n",
       "    </tr>\n",
       "    <tr>\n",
       "      <th>82960.0</th>\n",
       "      <td>14931.139979</td>\n",
       "      <td>3868.522574</td>\n",
       "      <td>-107.090993</td>\n",
       "      <td>-346.488908</td>\n",
       "      <td>-117.740921</td>\n",
       "      <td>2.721134</td>\n",
       "      <td>1</td>\n",
       "    </tr>\n",
       "    <tr>\n",
       "      <th>77842.0</th>\n",
       "      <td>2099.760858</td>\n",
       "      <td>1694.533988</td>\n",
       "      <td>-1575.693809</td>\n",
       "      <td>7388.664863</td>\n",
       "      <td>2077.027921</td>\n",
       "      <td>32.856181</td>\n",
       "      <td>1</td>\n",
       "    </tr>\n",
       "    <tr>\n",
       "      <th>15379.0</th>\n",
       "      <td>-510.488548</td>\n",
       "      <td>-1761.770685</td>\n",
       "      <td>356.692987</td>\n",
       "      <td>-259.990861</td>\n",
       "      <td>258.477208</td>\n",
       "      <td>0.981250</td>\n",
       "      <td>1</td>\n",
       "    </tr>\n",
       "    <tr>\n",
       "      <th>81938.0</th>\n",
       "      <td>-321.548745</td>\n",
       "      <td>-1175.083350</td>\n",
       "      <td>162.037378</td>\n",
       "      <td>-26.171006</td>\n",
       "      <td>-51.265014</td>\n",
       "      <td>2.917454</td>\n",
       "      <td>1</td>\n",
       "    </tr>\n",
       "  </tbody>\n",
       "</table>\n",
       "</div>"
      ],
      "text/plain": [
       "                    0            1            2            3            4  \\\n",
       "1030.0   -2429.883850  3858.220846 -1844.501245   277.247874 -1379.772314   \n",
       "82960.0  14931.139979  3868.522574  -107.090993  -346.488908  -117.740921   \n",
       "77842.0   2099.760858  1694.533988 -1575.693809  7388.664863  2077.027921   \n",
       "15379.0   -510.488548 -1761.770685   356.692987  -259.990861   258.477208   \n",
       "81938.0   -321.548745 -1175.083350   162.037378   -26.171006   -51.265014   \n",
       "\n",
       "               LOS  OUT  \n",
       "1030.0    3.429572    1  \n",
       "82960.0   2.721134    1  \n",
       "77842.0  32.856181    1  \n",
       "15379.0   0.981250    1  \n",
       "81938.0   2.917454    1  "
      ]
     },
     "execution_count": 70,
     "metadata": {},
     "output_type": "execute_result"
    }
   ],
   "source": [
    "import pandas as pd\n",
    "reduced_df = pd.DataFrame(reduced_x).set_index(train_df.index)\n",
    "reduced_df[\"LOS\"] = train_df[\"LOS\"]\n",
    "reduced_df[\"OUT\"] = train_df[\"OUT\"]\n",
    "reduced_df.head(5)\n"
   ]
  },
  {
   "cell_type": "code",
   "execution_count": 80,
   "metadata": {},
   "outputs": [
    {
     "name": "stdout",
     "output_type": "stream",
     "text": [
      "[-1379.7723144867496, -117.74092149473688, 2077.0279211339307, 258.47720772832037, -51.26501446098022]\n"
     ]
    }
   ],
   "source": [
    "print(list(reduced_df.head(5)[4]))\n"
   ]
  },
  {
   "cell_type": "markdown",
   "metadata": {},
   "source": [
    "## Models\n"
   ]
  },
  {
   "cell_type": "markdown",
   "metadata": {},
   "source": [
    "### Random Survival Forest"
   ]
  },
  {
   "cell_type": "code",
   "execution_count": 9,
   "metadata": {},
   "outputs": [
    {
     "name": "stdout",
     "output_type": "stream",
     "text": [
      "CPU times: user 92.1 ms, sys: 82.8 ms, total: 175 ms\n",
      "Wall time: 20.9 s\n"
     ]
    }
   ],
   "source": [
    "%%time\n",
    "\n",
    "n_trees = 10\n",
    "max_features = 20\n",
    "max_depth = 5\n",
    "\n",
    "rd = RandomSurvivalForest(n_trees=n_trees, max_features=max_features, max_depth=max_depth)\n",
    "rd.fit(train_df, duration_col='LOS', event_col='OUT', num_workers=2)\n"
   ]
  },
  {
   "cell_type": "code",
   "execution_count": 10,
   "metadata": {},
   "outputs": [
    {
     "name": "stdout",
     "output_type": "stream",
     "text": [
      "concordance: 0.5766841853798376\n"
     ]
    }
   ],
   "source": [
    "test_time_median_pred = rd.pred_median_time(test_df)\n",
    "concordance = evaluate_predict_result(test_time_median_pred, test_df, print_result=True)\n"
   ]
  },
  {
   "cell_type": "code",
   "execution_count": 11,
   "metadata": {},
   "outputs": [
    {
     "name": "stdout",
     "output_type": "stream",
     "text": [
      "[0.8707142857142858]\n"
     ]
    }
   ],
   "source": [
    "proba_pred = rd.pred_proba(test_df.iloc[[3]], time=1.0)\n",
    "print(proba_pred)\n"
   ]
  },
  {
   "cell_type": "code",
   "execution_count": 14,
   "metadata": {},
   "outputs": [
    {
     "name": "stdout",
     "output_type": "stream",
     "text": [
      "T: 101.73895833333333\n",
      "number of check points: 2036\n",
      "IPEC: 0.04558912103312208\n"
     ]
    }
   ],
   "source": [
    "ipec = IPEC(train_df, rd.pred_proba, g_type=\"All_One\", t_thd=1, t_step=0.05, time_col='LOS', death_identifier='OUT', verbose=True)\n",
    "ipec_score = ipec.avg_ipec(test_df, num_workers=2, print_result=True)\n"
   ]
  },
  {
   "cell_type": "code",
   "execution_count": 15,
   "metadata": {},
   "outputs": [
    {
     "name": "stdout",
     "output_type": "stream",
     "text": [
      "T: 101.73895833333333\n",
      "number of check points: 280\n",
      "IPEC: 0.0438401651289349\n"
     ]
    }
   ],
   "source": [
    "ipec = IPEC(train_df, rd.pred_proba, g_type=\"All_One\", t_thd=1, t_step=\"obs\", time_col='LOS', death_identifier='OUT', verbose=True)\n",
    "ipec_score = ipec.avg_ipec(test_df, num_workers=2, print_result=True)\n"
   ]
  },
  {
   "cell_type": "code",
   "execution_count": 56,
   "metadata": {},
   "outputs": [
    {
     "name": "stdout",
     "output_type": "stream",
     "text": [
      "T: 11.147627314814814\n",
      "number of check points: 224\n",
      "IPEC: 0.19312927661172513\n",
      "CPU times: user 29.1 s, sys: 799 ms, total: 29.9 s\n",
      "Wall time: 37.2 s\n"
     ]
    }
   ],
   "source": [
    "%%time\n",
    "ipec = IPEC(train_df, rd.pred_proba, g_type=\"All_One\", t_thd=0.8, t_step=\"obs\", time_col='LOS', death_identifier='OUT', verbose=True)\n",
    "ipec_score = ipec.avg_ipec(test_df, num_workers=2, print_result=True)\n"
   ]
  },
  {
   "cell_type": "markdown",
   "metadata": {},
   "source": [
    "### Cox\n"
   ]
  },
  {
   "cell_type": "code",
   "execution_count": 37,
   "metadata": {},
   "outputs": [],
   "source": [
    "alpha = 1.\n",
    "lambd = 0.07\n",
    "\n",
    "cox = CoxPHModel(alpha=alpha, lambda_=lambd)\n",
    "cox.fit(train_df, duration_col='LOS', event_col='OUT')\n"
   ]
  },
  {
   "cell_type": "code",
   "execution_count": 38,
   "metadata": {},
   "outputs": [
    {
     "name": "stdout",
     "output_type": "stream",
     "text": [
      "concordance: 0.559483994266603\n"
     ]
    }
   ],
   "source": [
    "test_time_median_pred = cox.pred_median_time(test_df)\n",
    "concordance = evaluate_predict_result(test_time_median_pred, test_df, print_result=True)\n"
   ]
  },
  {
   "cell_type": "code",
   "execution_count": 41,
   "metadata": {
    "scrolled": true
   },
   "outputs": [
    {
     "name": "stdout",
     "output_type": "stream",
     "text": [
      "[0.8667383355455066]\n",
      "[0.8667383355455066]\n",
      "[0.8667383355455066]\n",
      "[0.8667383355455066]\n",
      "[0.8667383355455066]\n",
      "[0.8667383355455066]\n",
      "[0.8667383355455066]\n",
      "[0.8667383355455066]\n",
      "151 ms ± 38.4 ms per loop (mean ± std. dev. of 7 runs, 1 loop each)\n"
     ]
    }
   ],
   "source": [
    "%%timeit\n",
    "proba_pred = cox.pred_proba(test_df.iloc[[3]], time=1.0)\n",
    "print(proba_pred)\n"
   ]
  },
  {
   "cell_type": "code",
   "execution_count": 52,
   "metadata": {},
   "outputs": [
    {
     "name": "stdout",
     "output_type": "stream",
     "text": [
      "T: 11.147627314814814\n",
      "number of check points: 224\n",
      "IPEC: 0.1944921555046284\n",
      "CPU times: user 37min 8s, sys: 6.59 s, total: 37min 15s\n",
      "Wall time: 37min 32s\n"
     ]
    }
   ],
   "source": [
    "%%time\n",
    "\n",
    "ipec = IPEC(train_df, cox.pred_proba, g_type=\"All_One\", t_thd=0.8, t_step=\"obs\", time_col='LOS', death_identifier='OUT', verbose=True)\n",
    "ipec_score = ipec.avg_ipec(test_df, num_workers=2, print_result=True, use_multiprocess=False)\n"
   ]
  },
  {
   "cell_type": "code",
   "execution_count": 53,
   "metadata": {},
   "outputs": [
    {
     "ename": "KeyboardInterrupt",
     "evalue": "",
     "output_type": "error",
     "traceback": [
      "\u001b[0;31m---------------------------------------------------------------------------\u001b[0m",
      "\u001b[0;31mKeyboardInterrupt\u001b[0m                         Traceback (most recent call last)",
      "\u001b[0;32m<ipython-input-53-c0a8996f684a>\u001b[0m in \u001b[0;36m<module>\u001b[0;34m()\u001b[0m\n\u001b[0;32m----> 1\u001b[0;31m \u001b[0mipec_score\u001b[0m \u001b[0;34m=\u001b[0m \u001b[0mipec\u001b[0m\u001b[0;34m.\u001b[0m\u001b[0mavg_ipec\u001b[0m\u001b[0;34m(\u001b[0m\u001b[0mtest_df\u001b[0m\u001b[0;34m,\u001b[0m \u001b[0mnum_workers\u001b[0m\u001b[0;34m=\u001b[0m\u001b[0;36m2\u001b[0m\u001b[0;34m,\u001b[0m \u001b[0mprint_result\u001b[0m\u001b[0;34m=\u001b[0m\u001b[0;32mTrue\u001b[0m\u001b[0;34m,\u001b[0m \u001b[0muse_multiprocess\u001b[0m\u001b[0;34m=\u001b[0m\u001b[0;32mFalse\u001b[0m\u001b[0;34m)\u001b[0m\u001b[0;34m\u001b[0m\u001b[0m\n\u001b[0m",
      "\u001b[0;32m~/Works/George Chen/Survival_Analysis/scripts/scripts/npsurvival/IPEC.py\u001b[0m in \u001b[0;36mavg_ipec\u001b[0;34m(self, test_df, num_workers, print_result, use_multiprocess)\u001b[0m\n\u001b[1;32m     85\u001b[0m                 \u001b[0mipec_list\u001b[0m \u001b[0;34m=\u001b[0m \u001b[0mtmp_pool\u001b[0m\u001b[0;34m.\u001b[0m\u001b[0mmap\u001b[0m\u001b[0;34m(\u001b[0m\u001b[0mself\u001b[0m\u001b[0;34m.\u001b[0m\u001b[0m_ipec_for_obe_obs\u001b[0m\u001b[0;34m,\u001b[0m \u001b[0mobs_list\u001b[0m\u001b[0;34m)\u001b[0m\u001b[0;34m\u001b[0m\u001b[0m\n\u001b[1;32m     86\u001b[0m         \u001b[0;32melse\u001b[0m\u001b[0;34m:\u001b[0m\u001b[0;34m\u001b[0m\u001b[0m\n\u001b[0;32m---> 87\u001b[0;31m             \u001b[0mipec_list\u001b[0m \u001b[0;34m=\u001b[0m \u001b[0;34m[\u001b[0m\u001b[0mself\u001b[0m\u001b[0;34m.\u001b[0m\u001b[0m_ipec_for_obe_obs\u001b[0m\u001b[0;34m(\u001b[0m\u001b[0mobs_df\u001b[0m\u001b[0;34m)\u001b[0m \u001b[0;32mfor\u001b[0m \u001b[0mobs_df\u001b[0m \u001b[0;32min\u001b[0m \u001b[0mobs_list\u001b[0m\u001b[0;34m]\u001b[0m\u001b[0;34m\u001b[0m\u001b[0m\n\u001b[0m\u001b[1;32m     88\u001b[0m \u001b[0;34m\u001b[0m\u001b[0m\n\u001b[1;32m     89\u001b[0m         \u001b[0;32mif\u001b[0m \u001b[0mprint_result\u001b[0m\u001b[0;34m:\u001b[0m\u001b[0;34m\u001b[0m\u001b[0m\n",
      "\u001b[0;32m~/Works/George Chen/Survival_Analysis/scripts/scripts/npsurvival/IPEC.py\u001b[0m in \u001b[0;36m<listcomp>\u001b[0;34m(.0)\u001b[0m\n\u001b[1;32m     85\u001b[0m                 \u001b[0mipec_list\u001b[0m \u001b[0;34m=\u001b[0m \u001b[0mtmp_pool\u001b[0m\u001b[0;34m.\u001b[0m\u001b[0mmap\u001b[0m\u001b[0;34m(\u001b[0m\u001b[0mself\u001b[0m\u001b[0;34m.\u001b[0m\u001b[0m_ipec_for_obe_obs\u001b[0m\u001b[0;34m,\u001b[0m \u001b[0mobs_list\u001b[0m\u001b[0;34m)\u001b[0m\u001b[0;34m\u001b[0m\u001b[0m\n\u001b[1;32m     86\u001b[0m         \u001b[0;32melse\u001b[0m\u001b[0;34m:\u001b[0m\u001b[0;34m\u001b[0m\u001b[0m\n\u001b[0;32m---> 87\u001b[0;31m             \u001b[0mipec_list\u001b[0m \u001b[0;34m=\u001b[0m \u001b[0;34m[\u001b[0m\u001b[0mself\u001b[0m\u001b[0;34m.\u001b[0m\u001b[0m_ipec_for_obe_obs\u001b[0m\u001b[0;34m(\u001b[0m\u001b[0mobs_df\u001b[0m\u001b[0;34m)\u001b[0m \u001b[0;32mfor\u001b[0m \u001b[0mobs_df\u001b[0m \u001b[0;32min\u001b[0m \u001b[0mobs_list\u001b[0m\u001b[0;34m]\u001b[0m\u001b[0;34m\u001b[0m\u001b[0m\n\u001b[0m\u001b[1;32m     88\u001b[0m \u001b[0;34m\u001b[0m\u001b[0m\n\u001b[1;32m     89\u001b[0m         \u001b[0;32mif\u001b[0m \u001b[0mprint_result\u001b[0m\u001b[0;34m:\u001b[0m\u001b[0;34m\u001b[0m\u001b[0m\n",
      "\u001b[0;32m~/Works/George Chen/Survival_Analysis/scripts/scripts/npsurvival/IPEC.py\u001b[0m in \u001b[0;36m_ipec_for_obe_obs\u001b[0;34m(self, obs_df)\u001b[0m\n\u001b[1;32m     70\u001b[0m             \u001b[0mt_prev\u001b[0m \u001b[0;34m=\u001b[0m \u001b[0mself\u001b[0m\u001b[0;34m.\u001b[0m\u001b[0m_check_points\u001b[0m\u001b[0;34m[\u001b[0m\u001b[0mi\u001b[0m \u001b[0;34m-\u001b[0m \u001b[0;36m1\u001b[0m\u001b[0;34m]\u001b[0m\u001b[0;34m\u001b[0m\u001b[0m\n\u001b[1;32m     71\u001b[0m             \u001b[0mg_cur\u001b[0m \u001b[0;34m=\u001b[0m \u001b[0mself\u001b[0m\u001b[0;34m.\u001b[0m\u001b[0m_G\u001b[0m\u001b[0;34m(\u001b[0m\u001b[0mt_cur\u001b[0m\u001b[0;34m)\u001b[0m\u001b[0;34m\u001b[0m\u001b[0m\n\u001b[0;32m---> 72\u001b[0;31m             \u001b[0ms_cur\u001b[0m \u001b[0;34m=\u001b[0m \u001b[0mself\u001b[0m\u001b[0;34m.\u001b[0m\u001b[0m_S\u001b[0m\u001b[0;34m(\u001b[0m\u001b[0mobs_df\u001b[0m\u001b[0;34m,\u001b[0m \u001b[0mt_cur\u001b[0m\u001b[0;34m)\u001b[0m\u001b[0;34m[\u001b[0m\u001b[0;36m0\u001b[0m\u001b[0;34m]\u001b[0m\u001b[0;34m\u001b[0m\u001b[0m\n\u001b[0m\u001b[1;32m     73\u001b[0m             \u001b[0mobs_gt_cur\u001b[0m \u001b[0;34m=\u001b[0m \u001b[0mint\u001b[0m\u001b[0;34m(\u001b[0m\u001b[0mt_obs\u001b[0m \u001b[0;34m>\u001b[0m \u001b[0mt_cur\u001b[0m\u001b[0;34m)\u001b[0m\u001b[0;34m\u001b[0m\u001b[0m\n\u001b[1;32m     74\u001b[0m             \u001b[0mobs_lte_cur\u001b[0m \u001b[0;34m=\u001b[0m \u001b[0;36m1\u001b[0m \u001b[0;34m-\u001b[0m \u001b[0mobs_gt_cur\u001b[0m\u001b[0;34m\u001b[0m\u001b[0m\n",
      "\u001b[0;32m~/Works/George Chen/Survival_Analysis/scripts/scripts/npsurvival/CoxPHModel.py\u001b[0m in \u001b[0;36mpred_proba\u001b[0;34m(self, test_df, time)\u001b[0m\n\u001b[1;32m    186\u001b[0m         \u001b[0mself\u001b[0m\u001b[0;34m.\u001b[0m\u001b[0m_train_x\u001b[0m \u001b[0;34m=\u001b[0m \u001b[0mtrain_df\u001b[0m\u001b[0;34m.\u001b[0m\u001b[0mdrop\u001b[0m\u001b[0;34m(\u001b[0m\u001b[0mcolumns\u001b[0m\u001b[0;34m=\u001b[0m\u001b[0;34m[\u001b[0m\u001b[0mduration_col\u001b[0m\u001b[0;34m,\u001b[0m \u001b[0mevent_col\u001b[0m\u001b[0;34m]\u001b[0m\u001b[0;34m)\u001b[0m\u001b[0;34m.\u001b[0m\u001b[0mvalues\u001b[0m\u001b[0;34m\u001b[0m\u001b[0m\n\u001b[1;32m    187\u001b[0m         \u001b[0mself\u001b[0m\u001b[0;34m.\u001b[0m\u001b[0m_time_index\u001b[0m \u001b[0;34m=\u001b[0m \u001b[0msorted\u001b[0m\u001b[0;34m(\u001b[0m\u001b[0mlist\u001b[0m\u001b[0;34m(\u001b[0m\u001b[0mtrain_df\u001b[0m\u001b[0;34m[\u001b[0m\u001b[0mduration_col\u001b[0m\u001b[0;34m]\u001b[0m\u001b[0;34m.\u001b[0m\u001b[0munique\u001b[0m\u001b[0;34m(\u001b[0m\u001b[0;34m)\u001b[0m\u001b[0;34m)\u001b[0m\u001b[0;34m)\u001b[0m\u001b[0;34m\u001b[0m\u001b[0m\n\u001b[0;32m--> 188\u001b[0;31m         \u001b[0mself\u001b[0m\u001b[0;34m.\u001b[0m\u001b[0m_proba_dict\u001b[0m \u001b[0;34m=\u001b[0m \u001b[0;34m{\u001b[0m\u001b[0;34m}\u001b[0m\u001b[0;34m\u001b[0m\u001b[0m\n\u001b[0m\u001b[1;32m    189\u001b[0m \u001b[0;34m\u001b[0m\u001b[0m\n\u001b[1;32m    190\u001b[0m         fit = glmnet(x=self._train_x.copy(), y=self._train_y.copy(),\n",
      "\u001b[0;32m~/Works/George Chen/Survival_Analysis/scripts/scripts/npsurvival/CoxPHModel.py\u001b[0m in \u001b[0;36m_update_proba_dict\u001b[0;34m(self, test_df)\u001b[0m\n\u001b[1;32m    130\u001b[0m                     \u001b[0;34m=\u001b[0m \u001b[0mnp\u001b[0m\u001b[0;34m.\u001b[0m\u001b[0mlog\u001b[0m\u001b[0;34m(\u001b[0m\u001b[0mevent_counts\u001b[0m\u001b[0;34m[\u001b[0m\u001b[0mt\u001b[0m\u001b[0;34m]\u001b[0m\u001b[0;34m)\u001b[0m \u001b[0;34m-\u001b[0m \u001b[0mlogsumexp\u001b[0m\u001b[0;34m(\u001b[0m\u001b[0mlogsumexp_args\u001b[0m\u001b[0;34m)\u001b[0m\u001b[0;34m\u001b[0m\u001b[0m\n\u001b[1;32m    131\u001b[0m             \u001b[0;32melse\u001b[0m\u001b[0;34m:\u001b[0m\u001b[0;34m\u001b[0m\u001b[0m\n\u001b[0;32m--> 132\u001b[0;31m                 \u001b[0mlog_baseline_hazard\u001b[0m\u001b[0;34m[\u001b[0m\u001b[0mtime_idx\u001b[0m\u001b[0;34m]\u001b[0m\u001b[0;31m \u001b[0m\u001b[0;31m\\\u001b[0m\u001b[0;34m\u001b[0m\u001b[0m\n\u001b[0m\u001b[1;32m    133\u001b[0m                     \u001b[0;34m=\u001b[0m \u001b[0;34m-\u001b[0m\u001b[0mnp\u001b[0m\u001b[0;34m.\u001b[0m\u001b[0minf\u001b[0m \u001b[0;34m-\u001b[0m \u001b[0mlogsumexp\u001b[0m\u001b[0;34m(\u001b[0m\u001b[0mlogsumexp_args\u001b[0m\u001b[0;34m)\u001b[0m\u001b[0;34m\u001b[0m\u001b[0m\n\u001b[1;32m    134\u001b[0m \u001b[0;34m\u001b[0m\u001b[0m\n",
      "\u001b[0;32m~/Works/George Chen/Survival_Analysis/scripts/scripts/npsurvival/CoxPHModel.py\u001b[0m in \u001b[0;36m_predict_probas\u001b[0;34m(self, x_test)\u001b[0m\n\u001b[1;32m     98\u001b[0m                         \u001b[0mt_sup\u001b[0m \u001b[0;34m=\u001b[0m \u001b[0mt\u001b[0m\u001b[0;34m\u001b[0m\u001b[0m\n\u001b[1;32m     99\u001b[0m \u001b[0;34m\u001b[0m\u001b[0m\n\u001b[0;32m--> 100\u001b[0;31m             \u001b[0;32mif\u001b[0m \u001b[0maverage_to_get_median\u001b[0m\u001b[0;34m:\u001b[0m\u001b[0;34m\u001b[0m\u001b[0m\n\u001b[0m\u001b[1;32m    101\u001b[0m                 \u001b[0mmedian_survival_times\u001b[0m\u001b[0;34m[\u001b[0m\u001b[0msubj_idx\u001b[0m\u001b[0;34m]\u001b[0m \u001b[0;34m=\u001b[0m \u001b[0;36m0.5\u001b[0m \u001b[0;34m*\u001b[0m \u001b[0;34m(\u001b[0m\u001b[0mt_inf\u001b[0m \u001b[0;34m+\u001b[0m \u001b[0mt_sup\u001b[0m\u001b[0;34m)\u001b[0m\u001b[0;34m\u001b[0m\u001b[0m\n\u001b[1;32m    102\u001b[0m             \u001b[0;32melse\u001b[0m\u001b[0;34m:\u001b[0m\u001b[0;34m\u001b[0m\u001b[0m\n",
      "\u001b[0;31mKeyboardInterrupt\u001b[0m: "
     ]
    },
    {
     "name": "stderr",
     "output_type": "stream",
     "text": [
      "Process ForkPoolWorker-5:\n",
      "  File \"/usr/local/lib/python3.6/site-packages/multiprocess/pool.py\", line 108, in worker\n",
      "    task = get()\n",
      "Process ForkPoolWorker-6:\n",
      "Traceback (most recent call last):\n",
      "  File \"/usr/local/lib/python3.6/site-packages/multiprocess/process.py\", line 258, in _bootstrap\n",
      "    self.run()\n",
      "Traceback (most recent call last):\n",
      "  File \"/usr/local/lib/python3.6/site-packages/multiprocess/process.py\", line 93, in run\n",
      "    self._target(*self._args, **self._kwargs)\n",
      "  File \"/usr/local/lib/python3.6/site-packages/multiprocess/process.py\", line 258, in _bootstrap\n",
      "    self.run()\n",
      "  File \"/usr/local/lib/python3.6/site-packages/multiprocess/pool.py\", line 108, in worker\n",
      "    task = get()\n",
      "  File \"/usr/local/lib/python3.6/site-packages/multiprocess/process.py\", line 93, in run\n",
      "    self._target(*self._args, **self._kwargs)\n",
      "  File \"/usr/local/lib/python3.6/site-packages/multiprocess/queues.py\", line 337, in get\n",
      "    with self._rlock:\n",
      "  File \"/usr/local/lib/python3.6/site-packages/multiprocess/synchronize.py\", line 102, in __enter__\n",
      "    return self._semlock.__enter__()\n",
      "  File \"/usr/local/lib/python3.6/site-packages/multiprocess/queues.py\", line 338, in get\n",
      "    res = self._reader.recv_bytes()\n",
      "KeyboardInterrupt\n",
      "  File \"/usr/local/lib/python3.6/site-packages/multiprocess/connection.py\", line 219, in recv_bytes\n",
      "    buf = self._recv_bytes(maxlength)\n",
      "KeyboardInterrupt\n",
      "  File \"/usr/local/lib/python3.6/site-packages/multiprocess/connection.py\", line 410, in _recv_bytes\n",
      "    buf = self._recv(4)\n",
      "  File \"/usr/local/lib/python3.6/site-packages/multiprocess/connection.py\", line 382, in _recv\n",
      "    chunk = read(handle, remaining)\n"
     ]
    }
   ],
   "source": []
  },
  {
   "cell_type": "markdown",
   "metadata": {},
   "source": [
    "### Aalen Additive Model"
   ]
  },
  {
   "cell_type": "code",
   "execution_count": 46,
   "metadata": {},
   "outputs": [],
   "source": [
    "coef_penalizer = 0.1\n",
    "\n",
    "aaf = AalenAdditiveModel(coef_penalizer=coef_penalizer)\n",
    "aaf.fit(train_df, duration_col='LOS', event_col='OUT')\n"
   ]
  },
  {
   "cell_type": "code",
   "execution_count": 47,
   "metadata": {},
   "outputs": [
    {
     "name": "stdout",
     "output_type": "stream",
     "text": [
      "concordance: 0.5126612517916865\n"
     ]
    }
   ],
   "source": [
    "test_time_median_pred = aaf.pred_median_time(test_df)\n",
    "concordance = evaluate_predict_result(test_time_median_pred, test_df, print_result=True)\n"
   ]
  },
  {
   "cell_type": "code",
   "execution_count": 50,
   "metadata": {},
   "outputs": [
    {
     "name": "stdout",
     "output_type": "stream",
     "text": [
      "[0.2636051182838548]\n",
      "[0.2636051182838548]\n",
      "[0.2636051182838548]\n",
      "[0.2636051182838548]\n",
      "[0.2636051182838548]\n",
      "[0.2636051182838548]\n",
      "[0.2636051182838548]\n",
      "[0.2636051182838548]\n",
      "[0.2636051182838548]\n",
      "[0.2636051182838548]\n",
      "[0.2636051182838548]\n",
      "[0.2636051182838548]\n",
      "[0.2636051182838548]\n",
      "[0.2636051182838548]\n",
      "[0.2636051182838548]\n",
      "[0.2636051182838548]\n",
      "[0.2636051182838548]\n",
      "[0.2636051182838548]\n",
      "[0.2636051182838548]\n",
      "[0.2636051182838548]\n",
      "[0.2636051182838548]\n",
      "[0.2636051182838548]\n",
      "[0.2636051182838548]\n",
      "[0.2636051182838548]\n",
      "[0.2636051182838548]\n",
      "[0.2636051182838548]\n",
      "[0.2636051182838548]\n",
      "[0.2636051182838548]\n",
      "[0.2636051182838548]\n",
      "[0.2636051182838548]\n",
      "[0.2636051182838548]\n",
      "[0.2636051182838548]\n",
      "[0.2636051182838548]\n",
      "[0.2636051182838548]\n",
      "[0.2636051182838548]\n",
      "[0.2636051182838548]\n",
      "[0.2636051182838548]\n",
      "[0.2636051182838548]\n",
      "[0.2636051182838548]\n",
      "[0.2636051182838548]\n",
      "[0.2636051182838548]\n",
      "[0.2636051182838548]\n",
      "[0.2636051182838548]\n",
      "[0.2636051182838548]\n",
      "[0.2636051182838548]\n",
      "[0.2636051182838548]\n",
      "[0.2636051182838548]\n",
      "[0.2636051182838548]\n",
      "[0.2636051182838548]\n",
      "[0.2636051182838548]\n",
      "[0.2636051182838548]\n",
      "[0.2636051182838548]\n",
      "[0.2636051182838548]\n",
      "[0.2636051182838548]\n",
      "[0.2636051182838548]\n",
      "[0.2636051182838548]\n",
      "[0.2636051182838548]\n",
      "[0.2636051182838548]\n",
      "[0.2636051182838548]\n",
      "[0.2636051182838548]\n",
      "[0.2636051182838548]\n",
      "[0.2636051182838548]\n",
      "[0.2636051182838548]\n",
      "[0.2636051182838548]\n",
      "[0.2636051182838548]\n",
      "[0.2636051182838548]\n",
      "[0.2636051182838548]\n",
      "[0.2636051182838548]\n",
      "[0.2636051182838548]\n",
      "[0.2636051182838548]\n",
      "[0.2636051182838548]\n",
      "[0.2636051182838548]\n",
      "[0.2636051182838548]\n",
      "[0.2636051182838548]\n",
      "[0.2636051182838548]\n",
      "[0.2636051182838548]\n",
      "[0.2636051182838548]\n",
      "[0.2636051182838548]\n",
      "[0.2636051182838548]\n",
      "[0.2636051182838548]\n",
      "[0.2636051182838548]\n",
      "[0.2636051182838548]\n",
      "[0.2636051182838548]\n",
      "[0.2636051182838548]\n",
      "[0.2636051182838548]\n",
      "[0.2636051182838548]\n",
      "[0.2636051182838548]\n",
      "[0.2636051182838548]\n",
      "[0.2636051182838548]\n",
      "[0.2636051182838548]\n",
      "[0.2636051182838548]\n",
      "[0.2636051182838548]\n",
      "[0.2636051182838548]\n",
      "[0.2636051182838548]\n",
      "[0.2636051182838548]\n",
      "[0.2636051182838548]\n",
      "[0.2636051182838548]\n",
      "[0.2636051182838548]\n",
      "[0.2636051182838548]\n",
      "[0.2636051182838548]\n",
      "[0.2636051182838548]\n",
      "[0.2636051182838548]\n",
      "[0.2636051182838548]\n",
      "[0.2636051182838548]\n",
      "[0.2636051182838548]\n",
      "[0.2636051182838548]\n",
      "[0.2636051182838548]\n",
      "[0.2636051182838548]\n",
      "[0.2636051182838548]\n",
      "[0.2636051182838548]\n",
      "[0.2636051182838548]\n",
      "[0.2636051182838548]\n",
      "[0.2636051182838548]\n",
      "[0.2636051182838548]\n",
      "[0.2636051182838548]\n",
      "[0.2636051182838548]\n",
      "[0.2636051182838548]\n",
      "[0.2636051182838548]\n",
      "[0.2636051182838548]\n",
      "[0.2636051182838548]\n",
      "[0.2636051182838548]\n",
      "[0.2636051182838548]\n",
      "[0.2636051182838548]\n",
      "[0.2636051182838548]\n",
      "[0.2636051182838548]\n",
      "[0.2636051182838548]\n",
      "[0.2636051182838548]\n",
      "[0.2636051182838548]\n",
      "[0.2636051182838548]\n",
      "[0.2636051182838548]\n",
      "[0.2636051182838548]\n",
      "[0.2636051182838548]\n",
      "[0.2636051182838548]\n",
      "[0.2636051182838548]\n",
      "[0.2636051182838548]\n",
      "[0.2636051182838548]\n",
      "[0.2636051182838548]\n",
      "[0.2636051182838548]\n",
      "[0.2636051182838548]\n",
      "[0.2636051182838548]\n",
      "[0.2636051182838548]\n",
      "[0.2636051182838548]\n",
      "[0.2636051182838548]\n",
      "[0.2636051182838548]\n",
      "[0.2636051182838548]\n",
      "[0.2636051182838548]\n",
      "[0.2636051182838548]\n",
      "[0.2636051182838548]\n",
      "[0.2636051182838548]\n",
      "[0.2636051182838548]\n",
      "[0.2636051182838548]\n",
      "[0.2636051182838548]\n",
      "[0.2636051182838548]\n",
      "[0.2636051182838548]\n",
      "[0.2636051182838548]\n",
      "[0.2636051182838548]\n",
      "[0.2636051182838548]\n",
      "[0.2636051182838548]\n",
      "[0.2636051182838548]\n",
      "[0.2636051182838548]\n",
      "[0.2636051182838548]\n",
      "[0.2636051182838548]\n",
      "[0.2636051182838548]\n",
      "[0.2636051182838548]\n",
      "[0.2636051182838548]\n",
      "[0.2636051182838548]\n",
      "[0.2636051182838548]\n",
      "[0.2636051182838548]\n",
      "[0.2636051182838548]\n",
      "[0.2636051182838548]\n",
      "[0.2636051182838548]\n",
      "[0.2636051182838548]\n",
      "[0.2636051182838548]\n",
      "[0.2636051182838548]\n",
      "[0.2636051182838548]\n",
      "[0.2636051182838548]\n",
      "[0.2636051182838548]\n",
      "[0.2636051182838548]\n",
      "[0.2636051182838548]\n",
      "[0.2636051182838548]\n",
      "[0.2636051182838548]\n",
      "[0.2636051182838548]\n",
      "[0.2636051182838548]\n",
      "[0.2636051182838548]\n",
      "[0.2636051182838548]\n",
      "[0.2636051182838548]\n",
      "[0.2636051182838548]\n",
      "[0.2636051182838548]\n",
      "[0.2636051182838548]\n",
      "[0.2636051182838548]\n",
      "[0.2636051182838548]\n",
      "[0.2636051182838548]\n",
      "[0.2636051182838548]\n",
      "[0.2636051182838548]\n",
      "[0.2636051182838548]\n",
      "[0.2636051182838548]\n",
      "[0.2636051182838548]\n",
      "[0.2636051182838548]\n",
      "[0.2636051182838548]\n",
      "[0.2636051182838548]\n",
      "[0.2636051182838548]\n",
      "[0.2636051182838548]\n",
      "[0.2636051182838548]\n",
      "[0.2636051182838548]\n",
      "[0.2636051182838548]\n",
      "[0.2636051182838548]\n",
      "[0.2636051182838548]\n",
      "[0.2636051182838548]\n",
      "[0.2636051182838548]\n",
      "[0.2636051182838548]\n",
      "[0.2636051182838548]\n",
      "[0.2636051182838548]\n",
      "[0.2636051182838548]\n",
      "[0.2636051182838548]\n",
      "[0.2636051182838548]\n",
      "[0.2636051182838548]\n",
      "[0.2636051182838548]\n",
      "[0.2636051182838548]\n",
      "[0.2636051182838548]\n",
      "[0.2636051182838548]\n",
      "[0.2636051182838548]\n",
      "[0.2636051182838548]\n",
      "[0.2636051182838548]\n",
      "[0.2636051182838548]\n",
      "[0.2636051182838548]\n",
      "[0.2636051182838548]\n",
      "[0.2636051182838548]\n",
      "[0.2636051182838548]\n",
      "[0.2636051182838548]\n",
      "[0.2636051182838548]\n",
      "[0.2636051182838548]\n",
      "[0.2636051182838548]\n",
      "[0.2636051182838548]\n",
      "[0.2636051182838548]\n",
      "[0.2636051182838548]\n",
      "[0.2636051182838548]\n",
      "[0.2636051182838548]\n",
      "[0.2636051182838548]\n",
      "[0.2636051182838548]\n",
      "[0.2636051182838548]\n",
      "[0.2636051182838548]\n",
      "[0.2636051182838548]\n",
      "[0.2636051182838548]\n",
      "[0.2636051182838548]\n",
      "[0.2636051182838548]\n",
      "[0.2636051182838548]\n",
      "[0.2636051182838548]\n",
      "[0.2636051182838548]\n",
      "[0.2636051182838548]\n",
      "[0.2636051182838548]\n",
      "[0.2636051182838548]\n",
      "[0.2636051182838548]\n",
      "[0.2636051182838548]\n",
      "[0.2636051182838548]\n",
      "[0.2636051182838548]\n",
      "[0.2636051182838548]\n",
      "[0.2636051182838548]\n",
      "[0.2636051182838548]\n",
      "[0.2636051182838548]\n",
      "[0.2636051182838548]\n",
      "[0.2636051182838548]\n",
      "[0.2636051182838548]\n",
      "[0.2636051182838548]\n",
      "[0.2636051182838548]\n",
      "[0.2636051182838548]\n",
      "[0.2636051182838548]\n",
      "[0.2636051182838548]\n",
      "[0.2636051182838548]\n",
      "[0.2636051182838548]\n",
      "[0.2636051182838548]\n",
      "[0.2636051182838548]\n",
      "[0.2636051182838548]\n",
      "[0.2636051182838548]\n",
      "[0.2636051182838548]\n",
      "[0.2636051182838548]\n",
      "[0.2636051182838548]\n",
      "[0.2636051182838548]\n",
      "[0.2636051182838548]\n",
      "[0.2636051182838548]\n",
      "[0.2636051182838548]\n",
      "[0.2636051182838548]\n",
      "[0.2636051182838548]\n",
      "[0.2636051182838548]\n",
      "[0.2636051182838548]\n",
      "[0.2636051182838548]\n",
      "[0.2636051182838548]\n",
      "[0.2636051182838548]\n",
      "[0.2636051182838548]\n",
      "[0.2636051182838548]\n",
      "[0.2636051182838548]\n",
      "[0.2636051182838548]\n",
      "[0.2636051182838548]\n",
      "[0.2636051182838548]\n",
      "[0.2636051182838548]\n",
      "[0.2636051182838548]\n",
      "[0.2636051182838548]\n",
      "[0.2636051182838548]\n",
      "[0.2636051182838548]\n",
      "[0.2636051182838548]\n",
      "[0.2636051182838548]\n",
      "[0.2636051182838548]\n",
      "[0.2636051182838548]\n",
      "[0.2636051182838548]\n",
      "[0.2636051182838548]\n",
      "[0.2636051182838548]\n",
      "[0.2636051182838548]\n",
      "[0.2636051182838548]\n",
      "[0.2636051182838548]\n",
      "[0.2636051182838548]\n",
      "[0.2636051182838548]\n",
      "[0.2636051182838548]\n",
      "[0.2636051182838548]\n",
      "[0.2636051182838548]\n",
      "[0.2636051182838548]\n",
      "[0.2636051182838548]\n",
      "[0.2636051182838548]\n",
      "[0.2636051182838548]\n",
      "[0.2636051182838548]\n",
      "[0.2636051182838548]\n",
      "[0.2636051182838548]\n",
      "[0.2636051182838548]\n",
      "[0.2636051182838548]\n",
      "[0.2636051182838548]\n",
      "[0.2636051182838548]\n",
      "[0.2636051182838548]\n",
      "[0.2636051182838548]\n",
      "[0.2636051182838548]\n",
      "[0.2636051182838548]\n",
      "[0.2636051182838548]\n",
      "[0.2636051182838548]\n",
      "[0.2636051182838548]\n",
      "[0.2636051182838548]\n",
      "[0.2636051182838548]\n",
      "[0.2636051182838548]\n",
      "[0.2636051182838548]\n",
      "[0.2636051182838548]\n",
      "[0.2636051182838548]\n",
      "[0.2636051182838548]\n",
      "[0.2636051182838548]\n",
      "[0.2636051182838548]\n",
      "[0.2636051182838548]\n",
      "[0.2636051182838548]\n",
      "[0.2636051182838548]\n",
      "[0.2636051182838548]\n",
      "[0.2636051182838548]\n",
      "[0.2636051182838548]\n",
      "[0.2636051182838548]\n",
      "[0.2636051182838548]\n",
      "[0.2636051182838548]\n",
      "[0.2636051182838548]\n",
      "[0.2636051182838548]\n",
      "[0.2636051182838548]\n",
      "[0.2636051182838548]\n",
      "[0.2636051182838548]\n",
      "[0.2636051182838548]\n",
      "[0.2636051182838548]\n",
      "[0.2636051182838548]\n",
      "[0.2636051182838548]\n",
      "[0.2636051182838548]\n",
      "[0.2636051182838548]\n",
      "[0.2636051182838548]\n",
      "[0.2636051182838548]\n",
      "[0.2636051182838548]\n",
      "[0.2636051182838548]\n",
      "[0.2636051182838548]\n",
      "[0.2636051182838548]\n",
      "[0.2636051182838548]\n",
      "[0.2636051182838548]\n",
      "[0.2636051182838548]\n",
      "[0.2636051182838548]\n",
      "[0.2636051182838548]\n",
      "[0.2636051182838548]\n",
      "[0.2636051182838548]\n",
      "[0.2636051182838548]\n",
      "[0.2636051182838548]\n",
      "[0.2636051182838548]\n",
      "[0.2636051182838548]\n",
      "[0.2636051182838548]\n",
      "[0.2636051182838548]\n",
      "[0.2636051182838548]\n",
      "[0.2636051182838548]\n",
      "[0.2636051182838548]\n",
      "[0.2636051182838548]\n",
      "[0.2636051182838548]\n",
      "[0.2636051182838548]\n",
      "[0.2636051182838548]\n",
      "[0.2636051182838548]\n",
      "[0.2636051182838548]\n",
      "[0.2636051182838548]\n",
      "[0.2636051182838548]\n",
      "[0.2636051182838548]\n",
      "[0.2636051182838548]\n",
      "[0.2636051182838548]\n"
     ]
    },
    {
     "name": "stdout",
     "output_type": "stream",
     "text": [
      "[0.2636051182838548]\n",
      "[0.2636051182838548]\n",
      "[0.2636051182838548]\n",
      "[0.2636051182838548]\n",
      "[0.2636051182838548]\n",
      "[0.2636051182838548]\n",
      "[0.2636051182838548]\n",
      "[0.2636051182838548]\n",
      "[0.2636051182838548]\n",
      "[0.2636051182838548]\n",
      "[0.2636051182838548]\n",
      "[0.2636051182838548]\n",
      "[0.2636051182838548]\n",
      "[0.2636051182838548]\n",
      "[0.2636051182838548]\n",
      "[0.2636051182838548]\n",
      "[0.2636051182838548]\n",
      "[0.2636051182838548]\n",
      "[0.2636051182838548]\n",
      "[0.2636051182838548]\n",
      "[0.2636051182838548]\n",
      "[0.2636051182838548]\n",
      "[0.2636051182838548]\n",
      "[0.2636051182838548]\n",
      "[0.2636051182838548]\n",
      "[0.2636051182838548]\n",
      "[0.2636051182838548]\n",
      "[0.2636051182838548]\n",
      "[0.2636051182838548]\n",
      "[0.2636051182838548]\n",
      "[0.2636051182838548]\n",
      "[0.2636051182838548]\n",
      "[0.2636051182838548]\n",
      "[0.2636051182838548]\n",
      "[0.2636051182838548]\n",
      "[0.2636051182838548]\n",
      "[0.2636051182838548]\n",
      "[0.2636051182838548]\n",
      "[0.2636051182838548]\n",
      "[0.2636051182838548]\n",
      "[0.2636051182838548]\n",
      "[0.2636051182838548]\n",
      "[0.2636051182838548]\n",
      "[0.2636051182838548]\n",
      "[0.2636051182838548]\n",
      "[0.2636051182838548]\n",
      "[0.2636051182838548]\n",
      "[0.2636051182838548]\n",
      "[0.2636051182838548]\n",
      "[0.2636051182838548]\n",
      "[0.2636051182838548]\n",
      "[0.2636051182838548]\n",
      "[0.2636051182838548]\n",
      "[0.2636051182838548]\n",
      "[0.2636051182838548]\n",
      "[0.2636051182838548]\n",
      "[0.2636051182838548]\n",
      "[0.2636051182838548]\n",
      "[0.2636051182838548]\n",
      "[0.2636051182838548]\n",
      "[0.2636051182838548]\n",
      "[0.2636051182838548]\n",
      "[0.2636051182838548]\n",
      "[0.2636051182838548]\n",
      "[0.2636051182838548]\n",
      "[0.2636051182838548]\n",
      "[0.2636051182838548]\n",
      "[0.2636051182838548]\n",
      "[0.2636051182838548]\n",
      "[0.2636051182838548]\n",
      "[0.2636051182838548]\n",
      "[0.2636051182838548]\n",
      "[0.2636051182838548]\n",
      "[0.2636051182838548]\n",
      "[0.2636051182838548]\n",
      "[0.2636051182838548]\n",
      "[0.2636051182838548]\n",
      "[0.2636051182838548]\n",
      "[0.2636051182838548]\n",
      "[0.2636051182838548]\n",
      "[0.2636051182838548]\n",
      "[0.2636051182838548]\n",
      "[0.2636051182838548]\n",
      "[0.2636051182838548]\n",
      "[0.2636051182838548]\n",
      "[0.2636051182838548]\n",
      "[0.2636051182838548]\n",
      "[0.2636051182838548]\n",
      "[0.2636051182838548]\n",
      "[0.2636051182838548]\n",
      "[0.2636051182838548]\n",
      "[0.2636051182838548]\n",
      "[0.2636051182838548]\n",
      "[0.2636051182838548]\n",
      "[0.2636051182838548]\n",
      "[0.2636051182838548]\n",
      "[0.2636051182838548]\n",
      "[0.2636051182838548]\n",
      "[0.2636051182838548]\n",
      "[0.2636051182838548]\n",
      "[0.2636051182838548]\n",
      "[0.2636051182838548]\n",
      "[0.2636051182838548]\n",
      "[0.2636051182838548]\n",
      "[0.2636051182838548]\n",
      "[0.2636051182838548]\n",
      "[0.2636051182838548]\n",
      "[0.2636051182838548]\n",
      "[0.2636051182838548]\n",
      "[0.2636051182838548]\n",
      "[0.2636051182838548]\n",
      "[0.2636051182838548]\n",
      "[0.2636051182838548]\n",
      "[0.2636051182838548]\n",
      "[0.2636051182838548]\n",
      "[0.2636051182838548]\n",
      "[0.2636051182838548]\n",
      "[0.2636051182838548]\n",
      "[0.2636051182838548]\n",
      "[0.2636051182838548]\n",
      "[0.2636051182838548]\n",
      "[0.2636051182838548]\n",
      "[0.2636051182838548]\n",
      "[0.2636051182838548]\n",
      "[0.2636051182838548]\n",
      "[0.2636051182838548]\n",
      "[0.2636051182838548]\n",
      "[0.2636051182838548]\n",
      "[0.2636051182838548]\n",
      "[0.2636051182838548]\n",
      "[0.2636051182838548]\n",
      "[0.2636051182838548]\n",
      "[0.2636051182838548]\n",
      "[0.2636051182838548]\n",
      "[0.2636051182838548]\n",
      "[0.2636051182838548]\n",
      "[0.2636051182838548]\n",
      "[0.2636051182838548]\n",
      "[0.2636051182838548]\n",
      "[0.2636051182838548]\n",
      "[0.2636051182838548]\n",
      "[0.2636051182838548]\n",
      "[0.2636051182838548]\n",
      "[0.2636051182838548]\n",
      "[0.2636051182838548]\n",
      "[0.2636051182838548]\n",
      "[0.2636051182838548]\n",
      "[0.2636051182838548]\n",
      "[0.2636051182838548]\n",
      "[0.2636051182838548]\n",
      "[0.2636051182838548]\n",
      "[0.2636051182838548]\n",
      "[0.2636051182838548]\n",
      "[0.2636051182838548]\n",
      "[0.2636051182838548]\n",
      "[0.2636051182838548]\n",
      "[0.2636051182838548]\n",
      "[0.2636051182838548]\n",
      "[0.2636051182838548]\n",
      "[0.2636051182838548]\n",
      "[0.2636051182838548]\n",
      "[0.2636051182838548]\n",
      "[0.2636051182838548]\n",
      "[0.2636051182838548]\n",
      "[0.2636051182838548]\n",
      "[0.2636051182838548]\n",
      "[0.2636051182838548]\n",
      "[0.2636051182838548]\n",
      "[0.2636051182838548]\n",
      "[0.2636051182838548]\n",
      "[0.2636051182838548]\n",
      "[0.2636051182838548]\n",
      "[0.2636051182838548]\n",
      "[0.2636051182838548]\n",
      "[0.2636051182838548]\n",
      "[0.2636051182838548]\n",
      "[0.2636051182838548]\n",
      "[0.2636051182838548]\n",
      "[0.2636051182838548]\n",
      "[0.2636051182838548]\n",
      "[0.2636051182838548]\n",
      "[0.2636051182838548]\n",
      "[0.2636051182838548]\n",
      "[0.2636051182838548]\n",
      "[0.2636051182838548]\n",
      "[0.2636051182838548]\n",
      "[0.2636051182838548]\n",
      "[0.2636051182838548]\n",
      "[0.2636051182838548]\n",
      "[0.2636051182838548]\n",
      "[0.2636051182838548]\n",
      "[0.2636051182838548]\n",
      "[0.2636051182838548]\n",
      "[0.2636051182838548]\n",
      "[0.2636051182838548]\n",
      "[0.2636051182838548]\n",
      "[0.2636051182838548]\n",
      "[0.2636051182838548]\n",
      "[0.2636051182838548]\n",
      "[0.2636051182838548]\n",
      "[0.2636051182838548]\n",
      "[0.2636051182838548]\n",
      "[0.2636051182838548]\n",
      "[0.2636051182838548]\n",
      "[0.2636051182838548]\n",
      "[0.2636051182838548]\n",
      "[0.2636051182838548]\n",
      "[0.2636051182838548]\n",
      "[0.2636051182838548]\n",
      "[0.2636051182838548]\n",
      "[0.2636051182838548]\n",
      "[0.2636051182838548]\n",
      "[0.2636051182838548]\n",
      "[0.2636051182838548]\n",
      "[0.2636051182838548]\n",
      "[0.2636051182838548]\n",
      "[0.2636051182838548]\n",
      "[0.2636051182838548]\n",
      "[0.2636051182838548]\n",
      "[0.2636051182838548]\n",
      "[0.2636051182838548]\n",
      "[0.2636051182838548]\n",
      "[0.2636051182838548]\n",
      "[0.2636051182838548]\n",
      "[0.2636051182838548]\n",
      "[0.2636051182838548]\n",
      "[0.2636051182838548]\n",
      "[0.2636051182838548]\n",
      "[0.2636051182838548]\n",
      "[0.2636051182838548]\n",
      "[0.2636051182838548]\n",
      "[0.2636051182838548]\n",
      "[0.2636051182838548]\n",
      "[0.2636051182838548]\n",
      "[0.2636051182838548]\n",
      "[0.2636051182838548]\n",
      "[0.2636051182838548]\n",
      "[0.2636051182838548]\n",
      "[0.2636051182838548]\n",
      "[0.2636051182838548]\n",
      "[0.2636051182838548]\n",
      "[0.2636051182838548]\n",
      "[0.2636051182838548]\n",
      "[0.2636051182838548]\n",
      "[0.2636051182838548]\n",
      "[0.2636051182838548]\n",
      "[0.2636051182838548]\n",
      "[0.2636051182838548]\n",
      "[0.2636051182838548]\n",
      "[0.2636051182838548]\n",
      "[0.2636051182838548]\n",
      "[0.2636051182838548]\n",
      "[0.2636051182838548]\n",
      "[0.2636051182838548]\n",
      "[0.2636051182838548]\n",
      "[0.2636051182838548]\n",
      "[0.2636051182838548]\n",
      "[0.2636051182838548]\n",
      "[0.2636051182838548]\n",
      "[0.2636051182838548]\n",
      "[0.2636051182838548]\n",
      "[0.2636051182838548]\n",
      "[0.2636051182838548]\n",
      "[0.2636051182838548]\n",
      "[0.2636051182838548]\n",
      "[0.2636051182838548]\n",
      "[0.2636051182838548]\n",
      "[0.2636051182838548]\n",
      "[0.2636051182838548]\n",
      "[0.2636051182838548]\n",
      "[0.2636051182838548]\n",
      "[0.2636051182838548]\n",
      "[0.2636051182838548]\n",
      "[0.2636051182838548]\n",
      "[0.2636051182838548]\n",
      "[0.2636051182838548]\n",
      "[0.2636051182838548]\n",
      "[0.2636051182838548]\n",
      "[0.2636051182838548]\n",
      "[0.2636051182838548]\n",
      "[0.2636051182838548]\n",
      "[0.2636051182838548]\n",
      "[0.2636051182838548]\n",
      "[0.2636051182838548]\n",
      "[0.2636051182838548]\n",
      "[0.2636051182838548]\n",
      "[0.2636051182838548]\n",
      "[0.2636051182838548]\n",
      "[0.2636051182838548]\n",
      "[0.2636051182838548]\n",
      "[0.2636051182838548]\n",
      "[0.2636051182838548]\n",
      "[0.2636051182838548]\n",
      "[0.2636051182838548]\n",
      "[0.2636051182838548]\n",
      "[0.2636051182838548]\n",
      "[0.2636051182838548]\n",
      "[0.2636051182838548]\n",
      "[0.2636051182838548]\n",
      "[0.2636051182838548]\n",
      "[0.2636051182838548]\n",
      "[0.2636051182838548]\n",
      "[0.2636051182838548]\n",
      "[0.2636051182838548]\n",
      "[0.2636051182838548]\n",
      "[0.2636051182838548]\n",
      "[0.2636051182838548]\n",
      "[0.2636051182838548]\n",
      "[0.2636051182838548]\n",
      "[0.2636051182838548]\n",
      "[0.2636051182838548]\n",
      "[0.2636051182838548]\n",
      "[0.2636051182838548]\n",
      "[0.2636051182838548]\n",
      "[0.2636051182838548]\n",
      "[0.2636051182838548]\n",
      "[0.2636051182838548]\n",
      "[0.2636051182838548]\n",
      "[0.2636051182838548]\n",
      "[0.2636051182838548]\n",
      "[0.2636051182838548]\n",
      "[0.2636051182838548]\n",
      "[0.2636051182838548]\n",
      "[0.2636051182838548]\n",
      "[0.2636051182838548]\n",
      "[0.2636051182838548]\n",
      "[0.2636051182838548]\n",
      "[0.2636051182838548]\n",
      "[0.2636051182838548]\n",
      "[0.2636051182838548]\n",
      "[0.2636051182838548]\n",
      "[0.2636051182838548]\n",
      "[0.2636051182838548]\n",
      "[0.2636051182838548]\n",
      "[0.2636051182838548]\n",
      "[0.2636051182838548]\n",
      "[0.2636051182838548]\n",
      "[0.2636051182838548]\n",
      "[0.2636051182838548]\n",
      "[0.2636051182838548]\n",
      "[0.2636051182838548]\n",
      "[0.2636051182838548]\n",
      "[0.2636051182838548]\n",
      "[0.2636051182838548]\n",
      "[0.2636051182838548]\n",
      "[0.2636051182838548]\n",
      "[0.2636051182838548]\n",
      "[0.2636051182838548]\n",
      "[0.2636051182838548]\n",
      "[0.2636051182838548]\n",
      "[0.2636051182838548]\n",
      "[0.2636051182838548]\n",
      "[0.2636051182838548]\n",
      "[0.2636051182838548]\n",
      "[0.2636051182838548]\n",
      "[0.2636051182838548]\n",
      "[0.2636051182838548]\n",
      "[0.2636051182838548]\n",
      "[0.2636051182838548]\n",
      "[0.2636051182838548]\n",
      "[0.2636051182838548]\n",
      "[0.2636051182838548]\n",
      "[0.2636051182838548]\n",
      "[0.2636051182838548]\n",
      "[0.2636051182838548]\n",
      "[0.2636051182838548]\n",
      "[0.2636051182838548]\n",
      "[0.2636051182838548]\n",
      "[0.2636051182838548]\n",
      "[0.2636051182838548]\n",
      "[0.2636051182838548]\n",
      "[0.2636051182838548]\n",
      "[0.2636051182838548]\n",
      "[0.2636051182838548]\n",
      "[0.2636051182838548]\n",
      "[0.2636051182838548]\n",
      "[0.2636051182838548]\n",
      "[0.2636051182838548]\n",
      "[0.2636051182838548]\n",
      "[0.2636051182838548]\n",
      "[0.2636051182838548]\n",
      "[0.2636051182838548]\n",
      "[0.2636051182838548]\n",
      "[0.2636051182838548]\n",
      "[0.2636051182838548]\n",
      "[0.2636051182838548]\n",
      "[0.2636051182838548]\n",
      "[0.2636051182838548]\n",
      "[0.2636051182838548]\n",
      "[0.2636051182838548]\n",
      "[0.2636051182838548]\n",
      "[0.2636051182838548]\n",
      "[0.2636051182838548]\n",
      "[0.2636051182838548]\n",
      "[0.2636051182838548]\n",
      "[0.2636051182838548]\n",
      "[0.2636051182838548]\n",
      "[0.2636051182838548]\n",
      "[0.2636051182838548]\n",
      "[0.2636051182838548]\n",
      "[0.2636051182838548]\n",
      "[0.2636051182838548]\n",
      "[0.2636051182838548]\n",
      "[0.2636051182838548]\n",
      "[0.2636051182838548]\n",
      "[0.2636051182838548]\n",
      "[0.2636051182838548]\n",
      "[0.2636051182838548]\n",
      "[0.2636051182838548]\n",
      "[0.2636051182838548]\n",
      "[0.2636051182838548]\n",
      "[0.2636051182838548]\n",
      "[0.2636051182838548]\n",
      "[0.2636051182838548]\n",
      "[0.2636051182838548]\n",
      "[0.2636051182838548]\n",
      "[0.2636051182838548]\n",
      "[0.2636051182838548]\n",
      "5.45 ms ± 797 µs per loop (mean ± std. dev. of 7 runs, 100 loops each)\n"
     ]
    }
   ],
   "source": [
    "proba_pred = aaf.pred_proba(test_df.iloc[[3]], time=1.0)\n",
    "print(proba_pred)\n"
   ]
  },
  {
   "cell_type": "markdown",
   "metadata": {},
   "source": [
    "### KNN Kaplan Meier Model"
   ]
  },
  {
   "cell_type": "code",
   "execution_count": 48,
   "metadata": {},
   "outputs": [],
   "source": [
    "n_neighbors = 12\n",
    "\n",
    "knn_based_kmf = KNNKaplanMeier(n_neighbors=n_neighbors)\n",
    "knn_based_kmf.fit(train_df, duration_col=\"LOS\", event_col=\"OUT\")\n"
   ]
  },
  {
   "cell_type": "code",
   "execution_count": 49,
   "metadata": {},
   "outputs": [
    {
     "name": "stdout",
     "output_type": "stream",
     "text": [
      "concordance: 0.5857620640229336\n"
     ]
    }
   ],
   "source": [
    "test_time_median_pred = knn_based_kmf.pred_median_time(test_df)\n",
    "concordance = evaluate_predict_result(test_time_median_pred, test_df, print_result=True)\n"
   ]
  },
  {
   "cell_type": "code",
   "execution_count": 51,
   "metadata": {
    "scrolled": true
   },
   "outputs": [
    {
     "name": "stdout",
     "output_type": "stream",
     "text": [
      "[0.9194243316136398]\n",
      "[0.9194243316136398]\n",
      "[0.9194243316136398]\n",
      "[0.9194243316136398]\n",
      "[0.9194243316136398]\n",
      "[0.9194243316136398]\n",
      "[0.9194243316136398]\n",
      "[0.9194243316136398]\n",
      "[0.9194243316136398]\n",
      "[0.9194243316136398]\n",
      "[0.9194243316136398]\n",
      "[0.9194243316136398]\n",
      "[0.9194243316136398]\n",
      "[0.9194243316136398]\n",
      "[0.9194243316136398]\n",
      "[0.9194243316136398]\n",
      "[0.9194243316136398]\n",
      "[0.9194243316136398]\n",
      "[0.9194243316136398]\n",
      "[0.9194243316136398]\n",
      "[0.9194243316136398]\n",
      "[0.9194243316136398]\n",
      "[0.9194243316136398]\n",
      "[0.9194243316136398]\n",
      "[0.9194243316136398]\n",
      "[0.9194243316136398]\n",
      "[0.9194243316136398]\n",
      "[0.9194243316136398]\n",
      "[0.9194243316136398]\n",
      "[0.9194243316136398]\n",
      "[0.9194243316136398]\n",
      "[0.9194243316136398]\n",
      "[0.9194243316136398]\n",
      "[0.9194243316136398]\n",
      "[0.9194243316136398]\n",
      "[0.9194243316136398]\n",
      "[0.9194243316136398]\n",
      "[0.9194243316136398]\n",
      "[0.9194243316136398]\n",
      "[0.9194243316136398]\n",
      "[0.9194243316136398]\n",
      "[0.9194243316136398]\n",
      "[0.9194243316136398]\n",
      "[0.9194243316136398]\n",
      "[0.9194243316136398]\n",
      "[0.9194243316136398]\n",
      "[0.9194243316136398]\n",
      "[0.9194243316136398]\n",
      "[0.9194243316136398]\n",
      "[0.9194243316136398]\n",
      "[0.9194243316136398]\n",
      "[0.9194243316136398]\n",
      "[0.9194243316136398]\n",
      "[0.9194243316136398]\n",
      "[0.9194243316136398]\n",
      "[0.9194243316136398]\n",
      "[0.9194243316136398]\n",
      "[0.9194243316136398]\n",
      "[0.9194243316136398]\n",
      "[0.9194243316136398]\n",
      "[0.9194243316136398]\n",
      "[0.9194243316136398]\n",
      "[0.9194243316136398]\n",
      "[0.9194243316136398]\n",
      "[0.9194243316136398]\n",
      "[0.9194243316136398]\n",
      "[0.9194243316136398]\n",
      "[0.9194243316136398]\n",
      "[0.9194243316136398]\n",
      "[0.9194243316136398]\n",
      "[0.9194243316136398]\n",
      "[0.9194243316136398]\n",
      "[0.9194243316136398]\n",
      "[0.9194243316136398]\n",
      "[0.9194243316136398]\n",
      "[0.9194243316136398]\n",
      "[0.9194243316136398]\n",
      "[0.9194243316136398]\n",
      "[0.9194243316136398]\n",
      "[0.9194243316136398]\n",
      "[0.9194243316136398]\n",
      "32.6 ms ± 2.12 ms per loop (mean ± std. dev. of 7 runs, 10 loops each)\n"
     ]
    }
   ],
   "source": [
    "proba_pred = knn_based_kmf.pred_proba(test_df.iloc[[3]], time=1.0)\n",
    "print(proba_pred)\n"
   ]
  },
  {
   "cell_type": "markdown",
   "metadata": {},
   "source": [
    "## Data Preparation\n"
   ]
  },
  {
   "cell_type": "code",
   "execution_count": null,
   "metadata": {},
   "outputs": [],
   "source": [
    "dataset_idx = 0\n",
    "train_dfs = []\n",
    "test_dfs = []\n",
    "\n",
    "for i in range(5):\n",
    "    print(i)\n",
    "    patient_dict, feature_set, train_id_list, test_id_list = \\\n",
    "        fe.load_data_as_dict(dataset_idx, file_prefix=\"cross_val/10-5fold_\"+str(i)+\"_\", \n",
    "                             low_freq_event_thd=0.03, low_freq_value_thd=0.01)\n",
    "    train_x, train_y, test_x, test_y, train_df, test_df, feature_list = \\\n",
    "        model_prepare(patient_dict, feature_set, train_id_list, test_id_list)\n",
    "    train_dfs.append(train_df)\n",
    "    test_dfs.append(test_df)\n"
   ]
  },
  {
   "cell_type": "markdown",
   "metadata": {},
   "source": [
    "## Read Result\n"
   ]
  },
  {
   "cell_type": "code",
   "execution_count": 2,
   "metadata": {},
   "outputs": [],
   "source": [
    "import pickle\n"
   ]
  },
  {
   "cell_type": "markdown",
   "metadata": {},
   "source": [
    "### KNN"
   ]
  },
  {
   "cell_type": "code",
   "execution_count": null,
   "metadata": {},
   "outputs": [],
   "source": [
    "with open('KNN.pickle', 'rb') as f:\n",
    "    knn_small_result = pickle.load(f)\n",
    "knn_small_value = [5, 10, 15, 20, 30]\n",
    "print(knn_value)\n",
    "\n",
    "with open('KNN_large.pickle', 'rb') as f:\n",
    "    knn_large_result = pickle.load(f)\n",
    "knn_large_value = [50, 80, 100, 150, 200]\n",
    "print(knn_large_value)\n",
    "\n",
    "with open('AAM.pickle', 'rb') as f:\n",
    "    aam_small_result = pickle.load(f)\n",
    "aam_small_value = [0.05, 0.08, 0.1, 0.12, 0.15, 0.2, 0.3]\n",
    "print(aam_small_value)\n",
    "\n",
    "with open('AAM_large.pickle', 'rb') as f:\n",
    "    aam_large_result = pickle.load(f)\n",
    "aam_large_value = [0.3, 0.35, 0.4, 0.45, 0.5, 0.6]\n",
    "print(aam_large_value)\n"
   ]
  },
  {
   "cell_type": "code",
   "execution_count": 22,
   "metadata": {},
   "outputs": [
    {
     "data": {
      "text/plain": [
       "[5, 10, 15, 20, 30, 50, 80, 100, 150, 200]"
      ]
     },
     "execution_count": 22,
     "metadata": {},
     "output_type": "execute_result"
    }
   ],
   "source": [
    "knn_small_value + knn_large_value\n"
   ]
  },
  {
   "cell_type": "code",
   "execution_count": 27,
   "metadata": {},
   "outputs": [
    {
     "name": "stdout",
     "output_type": "stream",
     "text": [
      "KNN, ICH, concordance\n",
      "[0.5729085627977228, 0.5761260601835716, 0.5753041710235854, 0.5694813523875915, 0.5817065179505054, 0.580925641919368, 0.5851056117113977, 0.5811187405600092, 0.582252236551644, 0.582298361798536]\n"
     ]
    }
   ],
   "source": [
    "print(\"KNN, ICH, concordance\")\n",
    "print(list(knn_small_result[0][\"ich\"]) + list(knn_large_result[0][\"ich\"]))\n"
   ]
  },
  {
   "cell_type": "code",
   "execution_count": 32,
   "metadata": {},
   "outputs": [
    {
     "name": "stdout",
     "output_type": "stream",
     "text": [
      "KNN on ICH, IPEC\n",
      "[0.20196751757442835, 0.19296079998560986, 0.18821019543353534, 0.1865315687278688, 0.1823964997497527, 0.18069443220029754, 0.18058193441643783, 0.18090214450003048, 0.18094019267265044, 0.18195513032279723]\n"
     ]
    }
   ],
   "source": [
    "print(\"KNN on ICH, IPEC\")\n",
    "print(list(knn_small_result[1][\"ich\"]) + list(knn_large_result[1][\"ich\"]))\n"
   ]
  },
  {
   "cell_type": "code",
   "execution_count": 30,
   "metadata": {},
   "outputs": [
    {
     "name": "stdout",
     "output_type": "stream",
     "text": [
      "KNN, pancreatitis, concordance\n",
      "[0.5569867724867725, 0.5537400192400193, 0.5455050505050505, 0.5540447330447331, 0.535077441077441, 0.5358395863395864, 0.5170675805675806, 0.5121450216450216, 0.5064367484367485, 0.49512578162578164]\n"
     ]
    }
   ],
   "source": [
    "print(\"KNN, pancreatitis, concordance\")\n",
    "print(list(knn_small_result[0][\"pancreatitis\"]) + list(knn_large_result[0][\"pancreatitis\"]))\n"
   ]
  },
  {
   "cell_type": "code",
   "execution_count": 33,
   "metadata": {
    "scrolled": false
   },
   "outputs": [
    {
     "name": "stdout",
     "output_type": "stream",
     "text": [
      "KNN on pancreatitis, IPEC\n",
      "[0.20042574754000636, 0.1906304152136668, 0.18946485692283332, 0.18613777947475532, 0.18686605112389412, 0.18639644724663376, 0.18622910181153443, 0.18628138147036263, 0.18528973831190673, 0.18542862670993487]\n"
     ]
    }
   ],
   "source": [
    "print(\"KNN on pancreatitis, IPEC\")\n",
    "print(list(knn_small_result[1][\"pancreatitis\"]) + list(knn_large_result[1][\"pancreatitis\"]))\n"
   ]
  },
  {
   "cell_type": "code",
   "execution_count": null,
   "metadata": {},
   "outputs": [],
   "source": []
  },
  {
   "cell_type": "markdown",
   "metadata": {},
   "source": [
    "### AAM"
   ]
  },
  {
   "cell_type": "code",
   "execution_count": 35,
   "metadata": {},
   "outputs": [
    {
     "name": "stdout",
     "output_type": "stream",
     "text": [
      "AAM, ICH, concordance\n",
      "[0.5523046357615894, 0.5604739165795283, 0.5627684442895318, 0.5596718949692111, 0.5611541768328104, 0.5629286627163936, 0.5646888579063554, 0.5649883815499013, 0.5681879865225979, 0.5707011734634599, 0.5704489369118161, 0.571710119670036, 0.5722579295921923]\n",
      "AAM on ICH, IPEC\n",
      "[0.322790796513818, 0.3160184153638755, 0.3126440685512023, 0.30981338323329644, 0.30605018405875056, 0.30089251065984113, 0.29305254802558156, 0.2930766261057086, 0.29028580098181733, 0.28786780218632974, 0.285733940611933, 0.28390186029190767, 0.28083039626243467]\n",
      "AAM, pancreatitis, concordance\n",
      "[0.5100310245310246, 0.5102688792688793, 0.5102388167388168, 0.510380230880231, 0.5098114478114477, 0.51010101010101, 0.5115495430495431, 0.5108840788840789, 0.5105363155363155, 0.5097409812409812, 0.5102984607984609, 0.5101803751803751, 0.5105103415103415]\n",
      "AAM on pancreatitis, IPEC\n",
      "[0.3787472324322354, 0.3782282409657072, 0.37788626417727444, 0.3775722269219542, 0.3771360045539843, 0.37642501884736546, 0.37527073017994184, 0.3752659743142683, 0.37451314416856335, 0.37386781730937346, 0.37324158515210465, 0.3726674091392138, 0.37170036808656376]\n"
     ]
    }
   ],
   "source": [
    "print(aam_small_value + aam_large_value)\n",
    "\n",
    "print(\"AAM, ICH, concordance\")\n",
    "print(list(aam_small_result[0][\"ich\"]) + list(aam_large_result[0][\"ich\"]))\n",
    "\n",
    "print(\"AAM on ICH, IPEC\")\n",
    "print(list(aam_small_result[1][\"ich\"]) + list(aam_large_result[1][\"ich\"]))\n",
    "\n",
    "print(\"AAM, pancreatitis, concordance\")\n",
    "print(list(aam_small_result[0][\"pancreatitis\"]) + list(aam_large_result[0][\"pancreatitis\"]))\n",
    "\n",
    "print(\"AAM on pancreatitis, IPEC\")\n",
    "print(list(aam_small_result[1][\"pancreatitis\"]) + list(aam_large_result[1][\"pancreatitis\"]))\n"
   ]
  },
  {
   "cell_type": "code",
   "execution_count": 33,
   "metadata": {
    "scrolled": true
   },
   "outputs": [
    {
     "name": "stdout",
     "output_type": "stream",
     "text": [
      "AAM, ICH, concordance\n",
      "[0.55230464 0.56047392 0.56276844 0.55967189 0.56115418 0.56292866\n",
      " 0.56468886]\n"
     ]
    }
   ],
   "source": [
    "print(\"AAM, ICH, concordance\")\n",
    "print(result[0][\"ich\"])\n"
   ]
  },
  {
   "cell_type": "code",
   "execution_count": 34,
   "metadata": {},
   "outputs": [
    {
     "name": "stdout",
     "output_type": "stream",
     "text": [
      "AAM, ICH, IPEC\n",
      "[0.3227908  0.31601842 0.31264407 0.30981338 0.30605018 0.30089251\n",
      " 0.29305255]\n"
     ]
    }
   ],
   "source": [
    "print(\"AAM, ICH, IPEC\")\n",
    "print(result[1][\"ich\"])\n"
   ]
  },
  {
   "cell_type": "code",
   "execution_count": 35,
   "metadata": {},
   "outputs": [
    {
     "name": "stdout",
     "output_type": "stream",
     "text": [
      "AAM, pancreatitis, concordance\n",
      "[0.51003102 0.51026888 0.51023882 0.51038023 0.50981145 0.51010101\n",
      " 0.51154954]\n"
     ]
    }
   ],
   "source": [
    "print(\"AAM, pancreatitis, concordance\")\n",
    "print(result[0][\"pancreatitis\"])\n"
   ]
  },
  {
   "cell_type": "code",
   "execution_count": 36,
   "metadata": {
    "scrolled": true
   },
   "outputs": [
    {
     "name": "stdout",
     "output_type": "stream",
     "text": [
      "AAM, pancreatitis, IPEC\n",
      "[0.37874723 0.37822824 0.37788626 0.37757223 0.377136   0.37642502\n",
      " 0.37527073]\n"
     ]
    }
   ],
   "source": [
    "print(\"AAM, pancreatitis, IPEC\")\n",
    "print(result[1][\"pancreatitis\"])\n"
   ]
  },
  {
   "cell_type": "code",
   "execution_count": 11,
   "metadata": {
    "scrolled": true
   },
   "outputs": [
    {
     "name": "stdout",
     "output_type": "stream",
     "text": [
      "AAM, ICH, concordance\n",
      "[0.56498838 0.56818799 0.57070117 0.57044894 0.57171012 0.57225793]\n"
     ]
    }
   ],
   "source": [
    "print(\"AAM, ICH, concordance\")\n",
    "print(result[0][\"ich\"])\n"
   ]
  },
  {
   "cell_type": "code",
   "execution_count": 12,
   "metadata": {},
   "outputs": [
    {
     "name": "stdout",
     "output_type": "stream",
     "text": [
      "AAM, ICH, IPEC\n",
      "[0.29307663 0.2902858  0.2878678  0.28573394 0.28390186 0.2808304 ]\n"
     ]
    }
   ],
   "source": [
    "print(\"AAM, ICH, IPEC\")\n",
    "print(result[1][\"ich\"])\n"
   ]
  },
  {
   "cell_type": "code",
   "execution_count": 13,
   "metadata": {},
   "outputs": [
    {
     "name": "stdout",
     "output_type": "stream",
     "text": [
      "AAM, pancreatitis, concordance\n",
      "[0.51088408 0.51053632 0.50974098 0.51029846 0.51018038 0.51051034]\n"
     ]
    }
   ],
   "source": [
    "print(\"AAM, pancreatitis, concordance\")\n",
    "print(result[0][\"pancreatitis\"])\n"
   ]
  },
  {
   "cell_type": "code",
   "execution_count": 14,
   "metadata": {
    "scrolled": true
   },
   "outputs": [
    {
     "name": "stdout",
     "output_type": "stream",
     "text": [
      "AAM, pancreatitis, IPEC\n",
      "[0.37526597 0.37451314 0.37386782 0.37324159 0.37266741 0.37170037]\n"
     ]
    }
   ],
   "source": [
    "print(\"AAM, pancreatitis, IPEC\")\n",
    "print(result[1][\"pancreatitis\"])\n"
   ]
  },
  {
   "cell_type": "code",
   "execution_count": null,
   "metadata": {},
   "outputs": [],
   "source": []
  },
  {
   "cell_type": "code",
   "execution_count": null,
   "metadata": {},
   "outputs": [],
   "source": []
  },
  {
   "cell_type": "code",
   "execution_count": null,
   "metadata": {},
   "outputs": [],
   "source": []
  },
  {
   "cell_type": "code",
   "execution_count": null,
   "metadata": {},
   "outputs": [],
   "source": []
  },
  {
   "cell_type": "code",
   "execution_count": null,
   "metadata": {},
   "outputs": [],
   "source": []
  }
 ],
 "metadata": {
  "kernelspec": {
   "display_name": "Python 3",
   "language": "python",
   "name": "python3"
  },
  "language_info": {
   "codemirror_mode": {
    "name": "ipython",
    "version": 3
   },
   "file_extension": ".py",
   "mimetype": "text/x-python",
   "name": "python",
   "nbconvert_exporter": "python",
   "pygments_lexer": "ipython3",
   "version": "3.6.5"
  }
 },
 "nbformat": 4,
 "nbformat_minor": 2
}
