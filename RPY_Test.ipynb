{
 "cells": [
  {
   "cell_type": "code",
   "execution_count": 1,
   "metadata": {},
   "outputs": [
    {
     "name": "stderr",
     "output_type": "stream",
     "text": [
      "Using TensorFlow backend.\n"
     ]
    }
   ],
   "source": [
    "from Survival.FeatureEngineer import FeatureEngineer\n",
    "from Survival.Utils import model_prepare\n",
    "from Survival.Utils import evaluate_predict_result\n",
    "from Survival.IPEC import IPEC\n",
    "from Survival.WeibullRegressionModel import WeibullRegressionModel\n"
   ]
  },
  {
   "cell_type": "code",
   "execution_count": 2,
   "metadata": {},
   "outputs": [
    {
     "name": "stderr",
     "output_type": "stream",
     "text": [
      "/usr/local/lib/python3.6/site-packages/fancyimpute/soft_impute.py:100: RuntimeWarning: divide by zero encountered in double_scalars\n",
      "  return (np.sqrt(ssd) / old_norm) < self.convergence_threshold\n"
     ]
    }
   ],
   "source": [
    "fe = FeatureEngineer(verbose=False, data_path=\"../../dataset/\")\n",
    "sources = fe.get_diseases_list()\n",
    "\n",
    "dataset_idx = 0\n",
    "file_prefix = \"\"\n",
    "low_event_thd = 0.03\n",
    "low_value_thd = low_event_thd / 3\n",
    "patient_dict, feature_set, train_id_list, test_id_list = \\\n",
    "    fe.load_data_as_dict(dataset_idx, file_prefix=file_prefix, \n",
    "                         low_freq_event_thd=low_event_thd, \n",
    "                         low_freq_value_thd=low_value_thd)\n",
    "train_df, test_df, feature_list = \\\n",
    "    model_prepare(patient_dict, feature_set, train_id_list, test_id_list)\n"
   ]
  },
  {
   "cell_type": "code",
   "execution_count": 3,
   "metadata": {},
   "outputs": [],
   "source": [
    "model = WeibullRegressionModel(pca_flag=True, n_components=17)\n"
   ]
  },
  {
   "cell_type": "code",
   "execution_count": 4,
   "metadata": {},
   "outputs": [],
   "source": [
    "model.fit(train_df)\n"
   ]
  },
  {
   "cell_type": "code",
   "execution_count": 5,
   "metadata": {},
   "outputs": [
    {
     "name": "stdout",
     "output_type": "stream",
     "text": [
      "concordance: 0.6084567606306737\n"
     ]
    }
   ],
   "source": [
    "test_time_median_pred = model.pred_median_time(test_df)\n",
    "concordance = evaluate_predict_result(test_time_median_pred, test_df, print_result=True)\n"
   ]
  },
  {
   "cell_type": "code",
   "execution_count": 6,
   "metadata": {},
   "outputs": [],
   "source": [
    "ipec = IPEC(train_df, g_type=\"All_One\", t_thd=0.8, t_step=\"obs\", time_col='LOS', death_identifier='OUT', verbose=False)\n",
    "check_points = ipec.get_check_points()\n"
   ]
  },
  {
   "cell_type": "code",
   "execution_count": 7,
   "metadata": {},
   "outputs": [],
   "source": [
    "proba_matrix = model.pred_proba(test_df, time=check_points)\n"
   ]
  },
  {
   "cell_type": "code",
   "execution_count": 9,
   "metadata": {},
   "outputs": [
    {
     "data": {
      "text/plain": [
       "1.7118722378790512"
      ]
     },
     "execution_count": 9,
     "metadata": {},
     "output_type": "execute_result"
    }
   ],
   "source": [
    "ipec_score = ipec.calc_ipec(proba_matrix, list(test_df[\"LOS\"]), list(test_df[\"OUT\"]))\n",
    "ipec_score\n"
   ]
  },
  {
   "cell_type": "code",
   "execution_count": null,
   "metadata": {},
   "outputs": [],
   "source": []
  }
 ],
 "metadata": {
  "kernelspec": {
   "display_name": "Python 3",
   "language": "python",
   "name": "python3"
  },
  "language_info": {
   "codemirror_mode": {
    "name": "ipython",
    "version": 3
   },
   "file_extension": ".py",
   "mimetype": "text/x-python",
   "name": "python",
   "nbconvert_exporter": "python",
   "pygments_lexer": "ipython3",
   "version": "3.6.5"
  }
 },
 "nbformat": 4,
 "nbformat_minor": 2
}
